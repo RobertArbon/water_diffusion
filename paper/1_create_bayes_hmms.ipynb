{
 "cells": [
  {
   "cell_type": "code",
   "execution_count": 1,
   "metadata": {},
   "outputs": [
    {
     "name": "stderr",
     "output_type": "stream",
     "text": [
      "/Users/robertarbon/miniconda3/envs/science/lib/python3.6/site-packages/pyemma/util/log.py:64: YAMLLoadWarning: calling yaml.load() without Loader=... is deprecated, as the default Loader is unsafe. Please read https://msg.pyyaml.org/load for full details.\n",
      "  D = yaml.load(f2)\n"
     ]
    }
   ],
   "source": [
    "%matplotlib inline\n",
    "import matplotlib.pyplot as plt\n",
    "import seaborn as sns\n",
    "import matplotlib\n",
    "from glob import glob\n",
    "import os\n",
    "import re\n",
    "import pyemma.msm as msm\n",
    "import pyemma.coordinates as coor\n",
    "import numpy as np\n",
    "import my_network_plot as myplt\n",
    "from mpl_toolkits.mplot3d import Axes3D\n",
    "from matplotlib import ticker\n",
    "import operator\n",
    "import pandas as pd\n",
    "import mdtraj as md\n",
    "import matplotlib.image as mpimg \n",
    "import pickle\n"
   ]
  },
  {
   "cell_type": "markdown",
   "metadata": {},
   "source": [
    "# Load the data"
   ]
  },
  {
   "cell_type": "markdown",
   "metadata": {},
   "source": [
    "Below is the parameters cell for papermill parameterisation:"
   ]
  },
  {
   "cell_type": "markdown",
   "metadata": {},
   "source": [
    "# Identifying interesting time slices\n",
    "\n",
    "\n",
    "We only want to keep those chunks for which the timescales and corresponding HMM meet certain criteria. \n",
    "\n",
    "1. The HMM can't contain absorbing states. \n",
    "2. The MSM timescales are all longer than the MSM lag time (so are not spurious). \n"
   ]
  },
  {
   "cell_type": "markdown",
   "metadata": {},
   "source": [
    "## Converge Bayes HMMs for each MLE HMM"
   ]
  },
  {
   "cell_type": "code",
   "execution_count": 2,
   "metadata": {},
   "outputs": [],
   "source": [
    "from pyemma import config # doctest: +SKIP\n",
    "config.show_progress_bars = False"
   ]
  },
  {
   "cell_type": "code",
   "execution_count": 3,
   "metadata": {
    "scrolled": true
   },
   "outputs": [
    {
     "name": "stdout",
     "output_type": "stream",
     "text": [
      "1\n",
      "\tTrying idx = 2..."
     ]
    },
    {
     "name": "stderr",
     "output_type": "stream",
     "text": [
      "/Users/robertarbon/miniconda3/envs/science/lib/python3.6/site-packages/pyemma/_base/serialization/pickle_extensions.py:52: UserWarning: BLOSC compression filter unavailable. Your resulting file may be large and not optimal to process.\n",
      "  warnings.warn('BLOSC compression filter unavailable. '\n"
     ]
    },
    {
     "name": "stdout",
     "output_type": "stream",
     "text": [
      "OK!\n",
      "\tTrying idx = 994...Failed - absorbing state :(\n",
      "\tTrying idx = 981...OK!\n",
      "\tTrying idx = 882...OK!\n",
      "\tTrying idx = 32...OK!\n",
      "\tTrying idx = 27...Failed - absorbing state :(\n",
      "\tTrying idx = 127...OK!\n",
      "\tTrying idx = 132...OK!\n",
      "\tTrying idx = 56...OK!\n",
      "\tTrying idx = 143...OK!\n"
     ]
    },
    {
     "name": "stderr",
     "output_type": "stream",
     "text": [
      "/Users/robertarbon/miniconda3/envs/science/lib/python3.6/site-packages/msmtools/analysis/dense/pcca.py:287: ComplexWarning: Casting complex values to real discards the imaginary part\n",
      "  evecs[:, i] /= math.sqrt(np.dot(evecs[:, i] * pi, evecs[:, i]))\n"
     ]
    },
    {
     "name": "stdout",
     "output_type": "stream",
     "text": [
      "\tTrying idx = 156...OK!\n",
      "\tTrying idx = 303...Failed - absorbing state :(\n",
      "\tTrying idx = 963...OK!\n",
      "\tTrying idx = 976...OK!\n"
     ]
    },
    {
     "name": "stderr",
     "output_type": "stream",
     "text": [
      "/Users/robertarbon/miniconda3/envs/science/lib/python3.6/site-packages/msmtools/analysis/dense/pcca.py:287: ComplexWarning: Casting complex values to real discards the imaginary part\n",
      "  evecs[:, i] /= math.sqrt(np.dot(evecs[:, i] * pi, evecs[:, i]))\n"
     ]
    },
    {
     "name": "stdout",
     "output_type": "stream",
     "text": [
      "\tTrying idx = 200...OK!\n",
      "\tTrying idx = 215...OK!\n",
      "\tTrying idx = 875...OK!\n",
      "\tTrying idx = 912...OK!\n",
      "\tTrying idx = 989...OK!\n",
      "\tTrying idx = 264...OK!\n",
      "\tTrying idx = 271...Failed - absorbing state :(\n",
      "\tTrying idx = 438...OK!\n",
      "\tTrying idx = 135...OK!\n"
     ]
    },
    {
     "name": "stderr",
     "output_type": "stream",
     "text": [
      "/Users/robertarbon/miniconda3/envs/science/lib/python3.6/site-packages/msmtools/analysis/dense/pcca.py:287: ComplexWarning: Casting complex values to real discards the imaginary part\n",
      "  evecs[:, i] /= math.sqrt(np.dot(evecs[:, i] * pi, evecs[:, i]))\n"
     ]
    },
    {
     "name": "stdout",
     "output_type": "stream",
     "text": [
      "\tTrying idx = 35...OK!\n",
      "\tTrying idx = 534...Failed - absorbing state :(\n",
      "\tTrying idx = 908...OK!\n"
     ]
    },
    {
     "name": "stderr",
     "output_type": "stream",
     "text": [
      "/Users/robertarbon/miniconda3/envs/science/lib/python3.6/site-packages/msmtools/analysis/dense/pcca.py:287: ComplexWarning: Casting complex values to real discards the imaginary part\n",
      "  evecs[:, i] /= math.sqrt(np.dot(evecs[:, i] * pi, evecs[:, i]))\n"
     ]
    },
    {
     "name": "stdout",
     "output_type": "stream",
     "text": [
      "\tTrying idx = 993...OK!\n",
      "\tTrying idx = 5...OK!\n"
     ]
    },
    {
     "name": "stderr",
     "output_type": "stream",
     "text": [
      "/Users/robertarbon/miniconda3/envs/science/lib/python3.6/site-packages/msmtools/analysis/dense/pcca.py:287: ComplexWarning: Casting complex values to real discards the imaginary part\n",
      "  evecs[:, i] /= math.sqrt(np.dot(evecs[:, i] * pi, evecs[:, i]))\n"
     ]
    },
    {
     "name": "stdout",
     "output_type": "stream",
     "text": [
      "\tTrying idx = 151...OK!\n",
      "\tTrying idx = 144...OK!\n",
      "\tTrying idx = 51...Failed - absorbing state :(\n",
      "\tTrying idx = 695...Failed - absorbing state :(\n",
      "\tTrying idx = 212...OK!\n",
      "\tTrying idx = 207...OK!\n",
      "\tTrying idx = 971...OK!\n",
      "\tTrying idx = 964...OK!\n",
      "\tTrying idx = 304...OK!\n",
      "\tTrying idx = 159...OK!\n",
      "\tTrying idx = 59...OK!\n",
      "\tTrying idx = 529...OK!\n",
      "\tTrying idx = 128...OK!\n",
      "\tTrying idx = 28...OK!\n",
      "\tTrying idx = 360...OK!\n",
      "\tTrying idx = 158...OK!\n",
      "\tTrying idx = 965...Failed - absorbing state :(\n",
      "\tTrying idx = 206...OK!\n",
      "\tTrying idx = 213...Failed - absorbing state :(\n",
      "\tTrying idx = 29...OK!\n",
      "\tTrying idx = 129...OK!\n",
      "\tTrying idx = 528...Failed - absorbing state :(\n",
      "\tTrying idx = 760...Failed - absorbing state :(\n",
      "\tTrying idx = 914...OK!\n",
      "\tTrying idx = 663...OK!\n",
      "\tTrying idx = 4...OK!\n"
     ]
    },
    {
     "name": "stderr",
     "output_type": "stream",
     "text": [
      "/Users/robertarbon/miniconda3/envs/science/lib/python3.6/site-packages/msmtools/analysis/dense/pcca.py:287: ComplexWarning: Casting complex values to real discards the imaginary part\n",
      "  evecs[:, i] /= math.sqrt(np.dot(evecs[:, i] * pi, evecs[:, i]))\n"
     ]
    },
    {
     "name": "stdout",
     "output_type": "stream",
     "text": [
      "\tTrying idx = 992...OK!\n",
      "\tTrying idx = 909...OK!\n",
      "\tTrying idx = 535...OK!\n",
      "\tTrying idx = 768...OK!\n",
      "\tTrying idx = 34...OK!\n",
      "\tTrying idx = 21...OK!\n",
      "\tTrying idx = 134...OK!\n",
      "\tTrying idx = 884...OK!\n",
      "\tTrying idx = 295...OK!\n",
      "\tTrying idx = 145...OK!\n",
      "\tTrying idx = 150...OK!\n",
      "\tTrying idx = 448...Failed - absorbing state :(\n",
      "\tTrying idx = 913...OK!\n",
      "\tTrying idx = 906...OK!\n",
      "\tTrying idx = 767...OK!\n",
      "\tTrying idx = 883...OK!\n",
      "\tTrying idx = 133...OK!\n",
      "\tTrying idx = 126...OK!\n",
      "\tTrying idx = 26...OK!\n",
      "\tTrying idx = 33...Failed - zero probability state :(\n",
      "\tTrying idx = 3...Failed - absorbing state :(\n",
      "\tTrying idx = 157...OK!\n",
      "\tTrying idx = 142...OK!\n",
      "\tTrying idx = 42...Failed - absorbing state :(\n",
      "\tTrying idx = 209...OK!\n"
     ]
    },
    {
     "name": "stderr",
     "output_type": "stream",
     "text": [
      "/Users/robertarbon/miniconda3/envs/science/lib/python3.6/site-packages/msmtools/analysis/dense/pcca.py:287: ComplexWarning: Casting complex values to real discards the imaginary part\n",
      "  evecs[:, i] /= math.sqrt(np.dot(evecs[:, i] * pi, evecs[:, i]))\n"
     ]
    },
    {
     "name": "stdout",
     "output_type": "stream",
     "text": [
      "\tTrying idx = 765...Failed - absorbing state :(\n",
      "\tTrying idx = 39...OK!\n",
      "\tTrying idx = 139...OK!\n",
      "\tTrying idx = 911...Failed - absorbing state :(\n",
      "\tTrying idx = 666...OK!\n",
      "\tTrying idx = 267...OK!\n",
      "\tTrying idx = 807...OK!\n",
      "\tTrying idx = 48...OK!\n",
      "\tTrying idx = 148...OK!\n"
     ]
    },
    {
     "name": "stderr",
     "output_type": "stream",
     "text": [
      "/Users/robertarbon/miniconda3/envs/science/lib/python3.6/site-packages/msmtools/analysis/dense/pcca.py:287: ComplexWarning: Casting complex values to real discards the imaginary part\n",
      "  evecs[:, i] /= math.sqrt(np.dot(evecs[:, i] * pi, evecs[:, i]))\n"
     ]
    },
    {
     "name": "stdout",
     "output_type": "stream",
     "text": [
      "\tTrying idx = 968...OK!\n",
      "\tTrying idx = 55...OK!\n",
      "\tTrying idx = 140...OK!\n",
      "\tTrying idx = 1...Failed - absorbing state :(\n",
      "\tTrying idx = 982...Failed - absorbing state :(\n",
      "\tTrying idx = 24...OK!\n",
      "\tTrying idx = 31...OK!\n",
      "\tTrying idx = 124...OK!\n",
      "\tTrying idx = 881...OK!\n",
      "\tTrying idx = 379...OK!\n",
      "\tTrying idx = 530...OK!\n",
      "\tTrying idx = 260...Failed - absorbing state :(\n",
      "\tTrying idx = 903...OK!\n",
      "\tTrying idx = 916...OK!\n",
      "\tTrying idx = 147...OK!\n",
      "\tTrying idx = 152...OK!\n",
      "\tTrying idx = 52...OK!\n"
     ]
    },
    {
     "name": "stderr",
     "output_type": "stream",
     "text": [
      "/Users/robertarbon/miniconda3/envs/science/lib/python3.6/site-packages/msmtools/analysis/dense/pcca.py:287: ComplexWarning: Casting complex values to real discards the imaginary part\n",
      "  evecs[:, i] /= math.sqrt(np.dot(evecs[:, i] * pi, evecs[:, i]))\n"
     ]
    },
    {
     "name": "stdout",
     "output_type": "stream",
     "text": [
      "\tTrying idx = 879...OK!\n",
      "\tTrying idx = 123...OK!\n",
      "\tTrying idx = 36...Failed - absorbing state :(\n",
      "\tTrying idx = 23...OK!\n",
      "\tTrying idx = 6...Failed - absorbing state :(\n",
      "\tTrying idx = 808...OK!\n"
     ]
    },
    {
     "name": "stderr",
     "output_type": "stream",
     "text": [
      "/Users/robertarbon/miniconda3/envs/science/lib/python3.6/site-packages/msmtools/analysis/dense/pcca.py:287: ComplexWarning: Casting complex values to real discards the imaginary part\n",
      "  evecs[:, i] /= math.sqrt(np.dot(evecs[:, i] * pi, evecs[:, i]))\n"
     ]
    },
    {
     "name": "stdout",
     "output_type": "stream",
     "text": [
      "\tTrying idx = 153...OK!\n",
      "\tTrying idx = 269...OK!\n"
     ]
    },
    {
     "name": "stderr",
     "output_type": "stream",
     "text": [
      "/Users/robertarbon/miniconda3/envs/science/lib/python3.6/site-packages/msmtools/analysis/dense/pcca.py:287: ComplexWarning: Casting complex values to real discards the imaginary part\n",
      "  evecs[:, i] /= math.sqrt(np.dot(evecs[:, i] * pi, evecs[:, i]))\n"
     ]
    },
    {
     "name": "stdout",
     "output_type": "stream",
     "text": [
      "\tTrying idx = 37...OK!\n",
      "\tTrying idx = 137...OK!\n",
      "\tTrying idx = 122...OK!\n",
      "\tTrying idx = 523...OK!\n",
      "\tTrying idx = 536...Failed - absorbing state :(\n",
      "\tTrying idx = 973...OK!\n",
      "\tTrying idx = 966...Failed - absorbing state :(\n",
      "\tTrying idx = 604...Failed - absorbing state :(\n",
      "\tTrying idx = 210...OK!\n",
      "\tTrying idx = 870...Failed - absorbing state :(\n",
      "\tTrying idx = 540...OK!\n",
      "\tTrying idx = 141...OK!\n",
      "\tTrying idx = 154...OK!\n",
      "\tTrying idx = 41...Failed - absorbing state :(\n",
      "\tTrying idx = 291...OK!\n",
      "\tTrying idx = 524...OK!\n"
     ]
    },
    {
     "name": "stderr",
     "output_type": "stream",
     "text": [
      "/Users/robertarbon/miniconda3/envs/science/lib/python3.6/site-packages/msmtools/analysis/dense/pcca.py:287: ComplexWarning: Casting complex values to real discards the imaginary part\n",
      "  evecs[:, i] /= math.sqrt(np.dot(evecs[:, i] * pi, evecs[:, i]))\n"
     ]
    },
    {
     "name": "stdout",
     "output_type": "stream",
     "text": [
      "\tTrying idx = 30...OK!\n"
     ]
    },
    {
     "name": "stderr",
     "output_type": "stream",
     "text": [
      "/Users/robertarbon/miniconda3/envs/science/lib/python3.6/site-packages/msmtools/analysis/dense/pcca.py:287: ComplexWarning: Casting complex values to real discards the imaginary part\n",
      "  evecs[:, i] /= math.sqrt(np.dot(evecs[:, i] * pi, evecs[:, i]))\n"
     ]
    },
    {
     "name": "stdout",
     "output_type": "stream",
     "text": [
      "\tTrying idx = 25...Failed - absorbing state :(\n",
      "\tTrying idx = 996...OK!\n",
      "\tTrying idx = 983...OK!\n",
      "\tTrying idx = 266...OK!\n",
      "\tTrying idx = 905...OK!\n",
      "\tTrying idx = 974...OK!\n",
      "\tTrying idx = 149...OK!\n",
      "\tTrying idx = 49...OK!\n",
      "\tTrying idx = 160...OK!\n",
      "\tTrying idx = 75...Failed - absorbing state :(\n",
      "\tTrying idx = 729...Failed - absorbing state :(\n",
      "\tTrying idx = 948...OK!\n",
      "\tTrying idx = 413...OK!\n",
      "\tTrying idx = 111...OK!\n",
      "\tTrying idx = 104...OK!\n",
      "\tTrying idx = 359...OK!\n",
      "\tTrying idx = 924...Failed - absorbing state :(\n",
      "\tTrying idx = 119...OK!\n",
      "\tTrying idx = 351...OK!\n",
      "\tTrying idx = 827...Failed - absorbing state :(\n",
      "\tTrying idx = 832...OK!\n",
      "\tTrying idx = 197...OK!\n",
      "\tTrying idx = 843...Failed - absorbing state :(\n",
      "\tTrying idx = 223...OK!\n",
      "\tTrying idx = 67...OK!\n",
      "\tTrying idx = 239...OK!\n",
      "\tTrying idx = 198...OK!\n",
      "\tTrying idx = 240...OK!\n"
     ]
    },
    {
     "name": "stderr",
     "output_type": "stream",
     "text": [
      "/Users/robertarbon/miniconda3/envs/science/lib/python3.6/site-packages/msmtools/analysis/dense/pcca.py:287: ComplexWarning: Casting complex values to real discards the imaginary part\n",
      "  evecs[:, i] /= math.sqrt(np.dot(evecs[:, i] * pi, evecs[:, i]))\n"
     ]
    },
    {
     "name": "stdout",
     "output_type": "stream",
     "text": [
      "\tTrying idx = 90...Failed - absorbing state :(\n",
      "\tTrying idx = 820...Failed - absorbing state :(\n",
      "\tTrying idx = 356...OK!\n",
      "\tTrying idx = 343...Failed - absorbing state :(\n",
      "\tTrying idx = 224...Failed - absorbing state :(\n",
      "\tTrying idx = 851...OK!\n",
      "\tTrying idx = 947...Failed - absorbing state :(\n",
      "\tTrying idx = 937...OK!\n",
      "\tTrying idx = 342...Failed - absorbing state :(\n",
      "\tTrying idx = 191...OK!\n"
     ]
    },
    {
     "name": "stderr",
     "output_type": "stream",
     "text": [
      "/Users/robertarbon/miniconda3/envs/science/lib/python3.6/site-packages/msmtools/analysis/dense/pcca.py:287: ComplexWarning: Casting complex values to real discards the imaginary part\n",
      "  evecs[:, i] /= math.sqrt(np.dot(evecs[:, i] * pi, evecs[:, i]))\n"
     ]
    },
    {
     "name": "stdout",
     "output_type": "stream",
     "text": [
      "\tTrying idx = 84...Failed - absorbing state :(\n",
      "\tTrying idx = 821...OK!\n",
      "\tTrying idx = 946...Failed - zero probability state :(\n",
      "\tTrying idx = 230...OK!\n",
      "\tTrying idx = 225...OK!\n",
      "\tTrying idx = 238...Failed - absorbing state :(\n",
      "\tTrying idx = 73...OK!\n",
      "\tTrying idx = 99...OK!\n",
      "\tTrying idx = 117...OK!\n"
     ]
    },
    {
     "name": "stderr",
     "output_type": "stream",
     "text": [
      "/Users/robertarbon/miniconda3/envs/science/lib/python3.6/site-packages/msmtools/analysis/dense/pcca.py:287: ComplexWarning: Casting complex values to real discards the imaginary part\n",
      "  evecs[:, i] /= math.sqrt(np.dot(evecs[:, i] * pi, evecs[:, i]))\n"
     ]
    },
    {
     "name": "stdout",
     "output_type": "stream",
     "text": [
      "\tTrying idx = 246...OK!\n",
      "\tTrying idx = 83...Failed - absorbing state :(\n",
      "\tTrying idx = 118...OK!\n",
      "\tTrying idx = 519...OK!\n",
      "\tTrying idx = 925...OK!\n",
      "\tTrying idx = 842...OK!\n",
      "\tTrying idx = 69...OK!\n",
      "\tTrying idx = 941...OK!\n",
      "\tTrying idx = 954...OK!\n",
      "\tTrying idx = 949...Failed - absorbing state :(\n",
      "\tTrying idx = 728...Failed - absorbing state :(\n",
      "\tTrying idx = 74...OK!\n",
      "\tTrying idx = 61...OK!\n",
      "\tTrying idx = 161...OK!\n",
      "\tTrying idx = 105...OK!\n",
      "\tTrying idx = 110...OK!\n",
      "\tTrying idx = 358...OK!\n",
      "\tTrying idx = 855...OK!\n",
      "\tTrying idx = 194...OK!\n",
      "\tTrying idx = 81...OK!\n",
      "\tTrying idx = 831...Failed - absorbing state :(\n",
      "\tTrying idx = 824...OK!\n",
      "\tTrying idx = 259...Failed - absorbing state :(\n",
      "\tTrying idx = 89...Failed - absorbing state :(\n",
      "\tTrying idx = 112...OK!\n",
      "\tTrying idx = 848...OK!\n",
      "\tTrying idx = 163...OK!\n"
     ]
    },
    {
     "name": "stderr",
     "output_type": "stream",
     "text": [
      "/Users/robertarbon/miniconda3/envs/science/lib/python3.6/site-packages/msmtools/analysis/dense/pcca.py:287: ComplexWarning: Casting complex values to real discards the imaginary part\n",
      "  evecs[:, i] /= math.sqrt(np.dot(evecs[:, i] * pi, evecs[:, i]))\n"
     ]
    },
    {
     "name": "stdout",
     "output_type": "stream",
     "text": [
      "\tTrying idx = 76...Failed - absorbing state :(\n",
      "\tTrying idx = 79...Failed - absorbing state :(\n",
      "\tTrying idx = 243...Failed - absorbing state :(\n",
      "\tTrying idx = 86...OK!\n",
      "\tTrying idx = 115...OK!\n",
      "\tTrying idx = 100...OK!\n",
      "\tTrying idx = 164...OK!\n",
      "\tTrying idx = 114...OK!\n",
      "\tTrying idx = 165...Failed - absorbing state :(\n",
      "\tTrying idx = 170...OK!\n",
      "\tTrying idx = 70...Failed - absorbing state :(\n",
      "\tTrying idx = 945...Failed - absorbing state :(\n",
      "\tTrying idx = 78...Failed - absorbing state :(\n",
      "\tTrying idx = 853...OK!\n",
      "\tTrying idx = 226...Failed - absorbing state :(\n",
      "\tTrying idx = 233...OK!\n",
      "\tTrying idx = 740...OK!\n",
      "\tTrying idx = 837...OK!\n",
      "\tTrying idx = 822...OK!\n",
      "\tTrying idx = 192...Failed - absorbing state :(\n",
      "\tTrying idx = 187...OK!\n",
      "\tTrying idx = 242...Failed - absorbing state :(\n",
      "\tTrying idx = 113...OK!\n",
      "\tTrying idx = 106...OK!\n",
      "\tTrying idx = 507...Failed - absorbing state :(\n",
      "\tTrying idx = 258...Failed - absorbing state :(\n",
      "\tTrying idx = 62...Failed - absorbing state :(\n",
      "\tTrying idx = 162...OK!\n",
      "\tTrying idx = 635...OK!\n",
      "\tTrying idx = 221...OK!\n",
      "\tTrying idx = 841...OK!\n",
      "\tTrying idx = 942...Failed - absorbing state :(\n",
      "\tTrying idx = 80...OK!\n",
      "\tTrying idx = 830...OK!\n",
      "3\n",
      "\tTrying idx = 2...OK!\n",
      "\tTrying idx = 994...OK!\n",
      "\tTrying idx = 981...Failed - absorbing state :(\n",
      "\tTrying idx = 882...OK!\n",
      "\tTrying idx = 27...Failed - absorbing state :(\n",
      "\tTrying idx = 127...OK!\n",
      "\tTrying idx = 132...OK!\n",
      "\tTrying idx = 784...OK!\n",
      "\tTrying idx = 868...Failed - absorbing state :(\n",
      "\tTrying idx = 208...OK!\n",
      "\tTrying idx = 56...OK!\n",
      "\tTrying idx = 143...Failed - absorbing state :(\n",
      "\tTrying idx = 963...OK!\n",
      "\tTrying idx = 215...OK!\n",
      "\tTrying idx = 860...OK!\n",
      "\tTrying idx = 799...OK!\n",
      "\tTrying idx = 773...OK!\n",
      "\tTrying idx = 271...Failed - absorbing state :(\n",
      "\tTrying idx = 804...OK!\n",
      "\tTrying idx = 135...OK!\n",
      "\tTrying idx = 120...OK!\n",
      "\tTrying idx = 20...OK!\n",
      "\tTrying idx = 890...OK!\n",
      "\tTrying idx = 885...OK!\n",
      "\tTrying idx = 769...Failed - absorbing state :(\n",
      "\tTrying idx = 986...OK!\n",
      "\tTrying idx = 993...OK!\n"
     ]
    },
    {
     "name": "stderr",
     "output_type": "stream",
     "text": [
      "/Users/robertarbon/miniconda3/envs/science/lib/python3.6/site-packages/msmtools/analysis/dense/pcca.py:287: ComplexWarning: Casting complex values to real discards the imaginary part\n",
      "  evecs[:, i] /= math.sqrt(np.dot(evecs[:, i] * pi, evecs[:, i]))\n"
     ]
    },
    {
     "name": "stdout",
     "output_type": "stream",
     "text": [
      "\tTrying idx = 151...OK!\n",
      "\tTrying idx = 44...OK!\n",
      "\tTrying idx = 51...OK!\n",
      "\tTrying idx = 281...Failed - absorbing state :(\n",
      "\tTrying idx = 979...OK!\n",
      "\tTrying idx = 783...OK!\n",
      "\tTrying idx = 796...OK!\n",
      "\tTrying idx = 867...OK!\n"
     ]
    },
    {
     "name": "stderr",
     "output_type": "stream",
     "text": [
      "/Users/robertarbon/miniconda3/envs/science/lib/python3.6/site-packages/msmtools/analysis/dense/pcca.py:287: ComplexWarning: Casting complex values to real discards the imaginary part\n",
      "  evecs[:, i] /= math.sqrt(np.dot(evecs[:, i] * pi, evecs[:, i]))\n"
     ]
    },
    {
     "name": "stdout",
     "output_type": "stream",
     "text": [
      "\tTrying idx = 207...Failed - absorbing state :(\n",
      "\tTrying idx = 971...OK!\n",
      "\tTrying idx = 159...OK!\n"
     ]
    },
    {
     "name": "stderr",
     "output_type": "stream",
     "text": [
      "/Users/robertarbon/miniconda3/envs/science/lib/python3.6/site-packages/msmtools/analysis/dense/pcca.py:287: ComplexWarning: Casting complex values to real discards the imaginary part\n",
      "  evecs[:, i] /= math.sqrt(np.dot(evecs[:, i] * pi, evecs[:, i]))\n"
     ]
    },
    {
     "name": "stdout",
     "output_type": "stream",
     "text": [
      "\tTrying idx = 59...OK!\n",
      "\tTrying idx = 803...OK!\n",
      "\tTrying idx = 816...Failed - absorbing state :(\n",
      "\tTrying idx = 900...OK!\n",
      "\tTrying idx = 774...OK!\n",
      "\tTrying idx = 128...OK!\n",
      "\tTrying idx = 898...Failed - absorbing state :(\n",
      "\tTrying idx = 310...OK!\n",
      "\tTrying idx = 305...OK!\n",
      "\tTrying idx = 158...OK!\n",
      "\tTrying idx = 206...Failed - absorbing state :(\n",
      "\tTrying idx = 213...OK!\n",
      "\tTrying idx = 873...OK!\n"
     ]
    },
    {
     "name": "stderr",
     "output_type": "stream",
     "text": [
      "/Users/robertarbon/miniconda3/envs/science/lib/python3.6/site-packages/msmtools/analysis/dense/pcca.py:287: ComplexWarning: Casting complex values to real discards the imaginary part\n",
      "  evecs[:, i] /= math.sqrt(np.dot(evecs[:, i] * pi, evecs[:, i]))\n"
     ]
    },
    {
     "name": "stdout",
     "output_type": "stream",
     "text": [
      "\tTrying idx = 866...OK!\n"
     ]
    },
    {
     "name": "stderr",
     "output_type": "stream",
     "text": [
      "/Users/robertarbon/miniconda3/envs/science/lib/python3.6/site-packages/msmtools/analysis/dense/pcca.py:287: ComplexWarning: Casting complex values to real discards the imaginary part\n",
      "  evecs[:, i] /= math.sqrt(np.dot(evecs[:, i] * pi, evecs[:, i]))\n"
     ]
    },
    {
     "name": "stdout",
     "output_type": "stream",
     "text": [
      "\tTrying idx = 129...OK!\n",
      "\tTrying idx = 899...OK!\n",
      "\tTrying idx = 914...Failed - absorbing state :(\n",
      "\tTrying idx = 277...OK!\n"
     ]
    },
    {
     "name": "stderr",
     "output_type": "stream",
     "text": [
      "/Users/robertarbon/miniconda3/envs/science/lib/python3.6/site-packages/msmtools/analysis/dense/pcca.py:287: ComplexWarning: Casting complex values to real discards the imaginary part\n",
      "  evecs[:, i] /= math.sqrt(np.dot(evecs[:, i] * pi, evecs[:, i]))\n"
     ]
    },
    {
     "name": "stdout",
     "output_type": "stream",
     "text": [
      "\tTrying idx = 992...OK!\n",
      "\tTrying idx = 987...OK!\n",
      "\tTrying idx = 21...OK!\n",
      "\tTrying idx = 121...Failed - absorbing state :(\n",
      "\tTrying idx = 134...OK!\n",
      "\tTrying idx = 884...Failed - absorbing state :(\n",
      "\tTrying idx = 891...OK!\n",
      "\tTrying idx = 782...OK!\n",
      "\tTrying idx = 978...OK!\n"
     ]
    },
    {
     "name": "stderr",
     "output_type": "stream",
     "text": [
      "/Users/robertarbon/miniconda3/envs/science/lib/python3.6/site-packages/msmtools/analysis/dense/pcca.py:287: ComplexWarning: Casting complex values to real discards the imaginary part\n",
      "  evecs[:, i] /= math.sqrt(np.dot(evecs[:, i] * pi, evecs[:, i]))\n"
     ]
    },
    {
     "name": "stdout",
     "output_type": "stream",
     "text": [
      "\tTrying idx = 318...OK!\n",
      "\tTrying idx = 50...OK!\n",
      "\tTrying idx = 45...OK!\n",
      "\tTrying idx = 150...Failed - absorbing state :(\n",
      "\tTrying idx = 798...OK!\n"
     ]
    },
    {
     "name": "stderr",
     "output_type": "stream",
     "text": [
      "/Users/robertarbon/miniconda3/envs/science/lib/python3.6/site-packages/msmtools/analysis/dense/pcca.py:287: ComplexWarning: Casting complex values to real discards the imaginary part\n",
      "  evecs[:, i] /= math.sqrt(np.dot(evecs[:, i] * pi, evecs[:, i]))\n"
     ]
    },
    {
     "name": "stdout",
     "output_type": "stream",
     "text": [
      "\tTrying idx = 214...OK!\n",
      "\tTrying idx = 201...OK!\n",
      "\tTrying idx = 962...OK!\n",
      "\tTrying idx = 716...OK!\n",
      "\tTrying idx = 302...Failed - absorbing state :(\n",
      "\tTrying idx = 805...OK!\n",
      "\tTrying idx = 810...OK!\n",
      "\tTrying idx = 270...Failed - absorbing state :(\n",
      "\tTrying idx = 988...OK!\n",
      "\tTrying idx = 913...Failed - absorbing state :(\n",
      "\tTrying idx = 767...OK!\n",
      "\tTrying idx = 896...OK!\n",
      "\tTrying idx = 883...OK!\n",
      "\tTrying idx = 133...OK!\n",
      "\tTrying idx = 126...OK!\n",
      "\tTrying idx = 26...OK!\n"
     ]
    },
    {
     "name": "stderr",
     "output_type": "stream",
     "text": [
      "/Users/robertarbon/miniconda3/envs/science/lib/python3.6/site-packages/msmtools/analysis/dense/pcca.py:287: ComplexWarning: Casting complex values to real discards the imaginary part\n",
      "  evecs[:, i] /= math.sqrt(np.dot(evecs[:, i] * pi, evecs[:, i]))\n"
     ]
    },
    {
     "name": "stdout",
     "output_type": "stream",
     "text": [
      "\tTrying idx = 278...Failed - absorbing state :(\n",
      "\tTrying idx = 980...OK!\n",
      "\tTrying idx = 818...OK!\n"
     ]
    },
    {
     "name": "stderr",
     "output_type": "stream",
     "text": [
      "/Users/robertarbon/miniconda3/envs/science/lib/python3.6/site-packages/msmtools/analysis/dense/pcca.py:287: ComplexWarning: Casting complex values to real discards the imaginary part\n",
      "  evecs[:, i] /= math.sqrt(np.dot(evecs[:, i] * pi, evecs[:, i]))\n"
     ]
    },
    {
     "name": "stdout",
     "output_type": "stream",
     "text": [
      "\tTrying idx = 3...OK!\n",
      "\tTrying idx = 157...OK!\n",
      "\tTrying idx = 142...Failed - absorbing state :(\n",
      "\tTrying idx = 42...OK!\n",
      "\tTrying idx = 869...Failed - zero probability state :(\n",
      "\tTrying idx = 785...OK!\n",
      "\tTrying idx = 790...OK!\n",
      "\tTrying idx = 770...OK!\n",
      "\tTrying idx = 765...OK!\n",
      "\tTrying idx = 39...OK!\n"
     ]
    },
    {
     "name": "stderr",
     "output_type": "stream",
     "text": [
      "/Users/robertarbon/miniconda3/envs/science/lib/python3.6/site-packages/msmtools/analysis/dense/pcca.py:287: ComplexWarning: Casting complex values to real discards the imaginary part\n",
      "  evecs[:, i] /= math.sqrt(np.dot(evecs[:, i] * pi, evecs[:, i]))\n"
     ]
    },
    {
     "name": "stdout",
     "output_type": "stream",
     "text": [
      "\tTrying idx = 139...OK!\n",
      "\tTrying idx = 889...OK!\n",
      "\tTrying idx = 904...OK!\n",
      "\tTrying idx = 272...OK!\n",
      "\tTrying idx = 267...Failed - absorbing state :(\n",
      "\tTrying idx = 812...OK!\n",
      "\tTrying idx = 714...OK!\n",
      "\tTrying idx = 701...Failed - absorbing state :(\n",
      "\tTrying idx = 699...OK!\n",
      "\tTrying idx = 975...OK!\n",
      "\tTrying idx = 960...OK!\n"
     ]
    },
    {
     "name": "stderr",
     "output_type": "stream",
     "text": [
      "/Users/robertarbon/miniconda3/envs/science/lib/python3.6/site-packages/msmtools/analysis/dense/pcca.py:287: ComplexWarning: Casting complex values to real discards the imaginary part\n",
      "  evecs[:, i] /= math.sqrt(np.dot(evecs[:, i] * pi, evecs[:, i]))\n"
     ]
    },
    {
     "name": "stdout",
     "output_type": "stream",
     "text": [
      "\tTrying idx = 298...OK!\n",
      "\tTrying idx = 203...OK!\n",
      "\tTrying idx = 787...OK!\n",
      "\tTrying idx = 40...Failed - absorbing state :(\n",
      "\tTrying idx = 55...OK!\n",
      "\tTrying idx = 140...OK!\n",
      "\tTrying idx = 709...Failed - absorbing state :(\n",
      "\tTrying idx = 997...OK!\n",
      "\tTrying idx = 919...Failed - absorbing state :(\n",
      "\tTrying idx = 24...Failed - absorbing state :(\n",
      "\tTrying idx = 131...OK!\n",
      "\tTrying idx = 124...OK!\n",
      "\tTrying idx = 894...OK!\n",
      "\tTrying idx = 881...OK!\n",
      "\tTrying idx = 778...OK!\n",
      "\tTrying idx = 815...Failed - absorbing state :(\n",
      "\tTrying idx = 800...OK!\n",
      "\tTrying idx = 260...OK!\n",
      "\tTrying idx = 998...Failed - absorbing state :(\n",
      "\tTrying idx = 903...OK!\n",
      "\tTrying idx = 916...Failed - absorbing state :(\n",
      "\tTrying idx = 762...OK!\n",
      "\tTrying idx = 777...OK!\n",
      "\tTrying idx = 871...OK!\n",
      "\tTrying idx = 788...OK!\n",
      "\tTrying idx = 211...OK!\n",
      "\tTrying idx = 312...OK!\n",
      "\tTrying idx = 713...OK!\n",
      "\tTrying idx = 147...OK!\n",
      "\tTrying idx = 52...OK!\n",
      "\tTrying idx = 282...Failed - absorbing state :(\n",
      "\tTrying idx = 219...OK!\n",
      "\tTrying idx = 795...OK!\n",
      "\tTrying idx = 780...OK!\n",
      "\tTrying idx = 879...OK!\n",
      "\tTrying idx = 886...OK!\n",
      "\tTrying idx = 123...OK!\n",
      "\tTrying idx = 136...OK!\n",
      "\tTrying idx = 36...OK!\n",
      "\tTrying idx = 990...OK!\n"
     ]
    },
    {
     "name": "stderr",
     "output_type": "stream",
     "text": [
      "/Users/robertarbon/miniconda3/envs/science/lib/python3.6/site-packages/msmtools/analysis/dense/pcca.py:287: ComplexWarning: Casting complex values to real discards the imaginary part\n",
      "  evecs[:, i] /= math.sqrt(np.dot(evecs[:, i] * pi, evecs[:, i]))\n"
     ]
    },
    {
     "name": "stdout",
     "output_type": "stream",
     "text": [
      "\tTrying idx = 985...OK!\n",
      "\tTrying idx = 6...Failed - absorbing state :(\n",
      "\tTrying idx = 808...OK!\n",
      "\tTrying idx = 878...Failed - absorbing state :(\n",
      "\tTrying idx = 781...OK!\n",
      "\tTrying idx = 794...OK!\n",
      "\tTrying idx = 283...OK!\n",
      "\tTrying idx = 53...OK!\n",
      "\tTrying idx = 809...OK!\n",
      "\tTrying idx = 7...OK!\n",
      "\tTrying idx = 984...OK!\n",
      "\tTrying idx = 991...OK!\n",
      "\tTrying idx = 892...OK!\n"
     ]
    },
    {
     "name": "stderr",
     "output_type": "stream",
     "text": [
      "/Users/robertarbon/miniconda3/envs/science/lib/python3.6/site-packages/msmtools/analysis/dense/pcca.py:287: ComplexWarning: Casting complex values to real discards the imaginary part\n",
      "  evecs[:, i] /= math.sqrt(np.dot(evecs[:, i] * pi, evecs[:, i]))\n"
     ]
    },
    {
     "name": "stdout",
     "output_type": "stream",
     "text": [
      "\tTrying idx = 887...Failed - absorbing state :(\n",
      "\tTrying idx = 22...OK!\n",
      "\tTrying idx = 37...Failed - absorbing state :(\n",
      "\tTrying idx = 137...OK!\n",
      "\tTrying idx = 122...OK!\n",
      "\tTrying idx = 776...Failed - absorbing state :(\n",
      "\tTrying idx = 917...OK!\n",
      "\tTrying idx = 902...OK!\n",
      "\tTrying idx = 999...OK!\n"
     ]
    },
    {
     "name": "stderr",
     "output_type": "stream",
     "text": [
      "/Users/robertarbon/miniconda3/envs/science/lib/python3.6/site-packages/msmtools/analysis/dense/pcca.py:287: ComplexWarning: Casting complex values to real discards the imaginary part\n",
      "  evecs[:, i] /= math.sqrt(np.dot(evecs[:, i] * pi, evecs[:, i]))\n"
     ]
    },
    {
     "name": "stdout",
     "output_type": "stream",
     "text": [
      "\tTrying idx = 274...OK!\n",
      "\tTrying idx = 801...OK!\n",
      "\tTrying idx = 814...OK!\n",
      "\tTrying idx = 306...OK!\n"
     ]
    },
    {
     "name": "stderr",
     "output_type": "stream",
     "text": [
      "/Users/robertarbon/miniconda3/envs/science/lib/python3.6/site-packages/msmtools/analysis/dense/pcca.py:287: ComplexWarning: Casting complex values to real discards the imaginary part\n",
      "  evecs[:, i] /= math.sqrt(np.dot(evecs[:, i] * pi, evecs[:, i]))\n"
     ]
    },
    {
     "name": "stdout",
     "output_type": "stream",
     "text": [
      "\tTrying idx = 210...OK!\n"
     ]
    },
    {
     "name": "stderr",
     "output_type": "stream",
     "text": [
      "/Users/robertarbon/miniconda3/envs/science/lib/python3.6/site-packages/msmtools/analysis/dense/pcca.py:287: ComplexWarning: Casting complex values to real discards the imaginary part\n",
      "  evecs[:, i] /= math.sqrt(np.dot(evecs[:, i] * pi, evecs[:, i]))\n"
     ]
    },
    {
     "name": "stdout",
     "output_type": "stream",
     "text": [
      "\tTrying idx = 205...Failed - absorbing state :(\n",
      "\tTrying idx = 789...OK!\n",
      "\tTrying idx = 870...OK!\n",
      "\tTrying idx = 708...OK!\n",
      "\tTrying idx = 141...OK!\n",
      "\tTrying idx = 54...OK!\n",
      "\tTrying idx = 41...OK!\n",
      "\tTrying idx = 284...OK!\n",
      "\tTrying idx = 793...OK!\n",
      "\tTrying idx = 786...OK!\n",
      "\tTrying idx = 779...OK!\n",
      "\tTrying idx = 125...OK!\n",
      "\tTrying idx = 130...OK!\n",
      "\tTrying idx = 25...Failed - zero probability state :(\n",
      "\tTrying idx = 880...OK!\n",
      "\tTrying idx = 895...OK!\n",
      "\tTrying idx = 918...OK!\n",
      "\tTrying idx = 983...Failed - absorbing state :(\n",
      "\tTrying idx = 0...Failed - absorbing state :(\n",
      "\tTrying idx = 813...OK!\n",
      "\tTrying idx = 806...OK!\n",
      "\tTrying idx = 8...OK!\n"
     ]
    },
    {
     "name": "stderr",
     "output_type": "stream",
     "text": [
      "/Users/robertarbon/miniconda3/envs/science/lib/python3.6/site-packages/msmtools/analysis/dense/pcca.py:287: ComplexWarning: Casting complex values to real discards the imaginary part\n",
      "  evecs[:, i] /= math.sqrt(np.dot(evecs[:, i] * pi, evecs[:, i]))\n"
     ]
    },
    {
     "name": "stdout",
     "output_type": "stream",
     "text": [
      "\tTrying idx = 266...OK!\n",
      "\tTrying idx = 905...OK!\n",
      "\tTrying idx = 138...OK!\n",
      "\tTrying idx = 38...Failed - absorbing state :(\n",
      "\tTrying idx = 888...OK!\n",
      "\tTrying idx = 771...OK!\n",
      "\tTrying idx = 202...OK!\n",
      "\tTrying idx = 217...OK!\n",
      "\tTrying idx = 299...OK!\n",
      "\tTrying idx = 961...Failed - absorbing state :(\n",
      "\tTrying idx = 974...OK!\n",
      "\tTrying idx = 301...OK!\n",
      "\tTrying idx = 49...OK!\n",
      "\tTrying idx = 715...Failed - absorbing state :(\n",
      "\tTrying idx = 160...OK!\n",
      "\tTrying idx = 60...Failed - absorbing state :(\n",
      "\tTrying idx = 729...OK!\n",
      "\tTrying idx = 111...Failed - zero probability state :(\n",
      "\tTrying idx = 11...Failed - absorbing state :(\n",
      "\tTrying idx = 758...OK!\n",
      "\tTrying idx = 939...Failed - absorbing state :(\n",
      "\tTrying idx = 931...Failed - absorbing state :(\n",
      "\tTrying idx = 119...OK!\n",
      "\tTrying idx = 19...OK!\n",
      "\tTrying idx = 827...OK!\n",
      "\tTrying idx = 832...OK!\n",
      "\tTrying idx = 197...OK!\n",
      "\tTrying idx = 252...Failed - absorbing state :(\n",
      "\tTrying idx = 940...Failed - absorbing state :(\n",
      "\tTrying idx = 734...OK!\n",
      "\tTrying idx = 721...OK!\n",
      "\tTrying idx = 168...OK!\n",
      "\tTrying idx = 843...OK!\n",
      "\tTrying idx = 856...OK!\n",
      "\tTrying idx = 223...Failed - zero probability state :(\n",
      "\tTrying idx = 72...Failed - absorbing state :(\n",
      "\tTrying idx = 67...Failed - absorbing state :(\n",
      "\tTrying idx = 859...OK!\n",
      "\tTrying idx = 239...Failed - absorbing state :(\n",
      "\tTrying idx = 103...OK!\n",
      "\tTrying idx = 116...OK!\n",
      "\tTrying idx = 248...Failed - absorbing state :(\n",
      "\tTrying idx = 255...OK!\n",
      "\tTrying idx = 85...OK!\n",
      "\tTrying idx = 835...Failed - absorbing state :(\n",
      "\tTrying idx = 820...OK!\n",
      "\tTrying idx = 742...OK!\n",
      "\tTrying idx = 757...OK!\n",
      "\tTrying idx = 224...OK!\n",
      "\tTrying idx = 332...OK!\n",
      "\tTrying idx = 733...OK!\n",
      "\tTrying idx = 922...OK!\n",
      "\tTrying idx = 743...OK!\n"
     ]
    },
    {
     "name": "stderr",
     "output_type": "stream",
     "text": [
      "/Users/robertarbon/miniconda3/envs/science/lib/python3.6/site-packages/msmtools/analysis/dense/pcca.py:287: ComplexWarning: Casting complex values to real discards the imaginary part\n",
      "  evecs[:, i] /= math.sqrt(np.dot(evecs[:, i] * pi, evecs[:, i]))\n"
     ]
    },
    {
     "name": "stdout",
     "output_type": "stream",
     "text": [
      "\tTrying idx = 84...OK!\n"
     ]
    },
    {
     "name": "stderr",
     "output_type": "stream",
     "text": [
      "/Users/robertarbon/miniconda3/envs/science/lib/python3.6/site-packages/msmtools/analysis/dense/pcca.py:287: ComplexWarning: Casting complex values to real discards the imaginary part\n",
      "  evecs[:, i] /= math.sqrt(np.dot(evecs[:, i] * pi, evecs[:, i]))\n"
     ]
    },
    {
     "name": "stdout",
     "output_type": "stream",
     "text": [
      "\tTrying idx = 821...OK!\n",
      "\tTrying idx = 834...OK!\n"
     ]
    },
    {
     "name": "stderr",
     "output_type": "stream",
     "text": [
      "/Users/robertarbon/miniconda3/envs/science/lib/python3.6/site-packages/msmtools/analysis/dense/pcca.py:287: ComplexWarning: Casting complex values to real discards the imaginary part\n",
      "  evecs[:, i] /= math.sqrt(np.dot(evecs[:, i] * pi, evecs[:, i]))\n"
     ]
    },
    {
     "name": "stdout",
     "output_type": "stream",
     "text": [
      "\tTrying idx = 241...Failed - zero probability state :(\n",
      "\tTrying idx = 953...OK!\n",
      "\tTrying idx = 732...OK!\n",
      "\tTrying idx = 230...OK!\n",
      "\tTrying idx = 66...Failed - absorbing state :(\n",
      "\tTrying idx = 249...OK!\n",
      "\tTrying idx = 199...OK!\n",
      "\tTrying idx = 99...Failed - absorbing state :(\n",
      "\tTrying idx = 829...OK!\n",
      "\tTrying idx = 117...OK!\n",
      "\tTrying idx = 17...Failed - absorbing state :(\n",
      "\tTrying idx = 826...OK!\n",
      "\tTrying idx = 83...OK!\n",
      "\tTrying idx = 96...OK!\n",
      "\tTrying idx = 196...OK!\n",
      "\tTrying idx = 18...OK!\n",
      "\tTrying idx = 118...OK!\n",
      "\tTrying idx = 744...OK!\n",
      "\tTrying idx = 751...OK!\n",
      "\tTrying idx = 222...OK!\n",
      "\tTrying idx = 237...OK!\n",
      "\tTrying idx = 728...Failed - absorbing state :(\n",
      "\tTrying idx = 161...OK!\n"
     ]
    },
    {
     "name": "stderr",
     "output_type": "stream",
     "text": [
      "/Users/robertarbon/miniconda3/envs/science/lib/python3.6/site-packages/msmtools/analysis/dense/pcca.py:287: ComplexWarning: Casting complex values to real discards the imaginary part\n",
      "  evecs[:, i] /= math.sqrt(np.dot(evecs[:, i] * pi, evecs[:, i]))\n"
     ]
    },
    {
     "name": "stdout",
     "output_type": "stream",
     "text": [
      "\tTrying idx = 759...OK!\n",
      "\tTrying idx = 110...OK!\n",
      "\tTrying idx = 323...OK!\n",
      "\tTrying idx = 722...Failed - absorbing state :(\n",
      "\tTrying idx = 737...OK!\n",
      "\tTrying idx = 220...OK!\n",
      "\tTrying idx = 235...OK!\n",
      "\tTrying idx = 927...OK!\n",
      "\tTrying idx = 932...OK!\n"
     ]
    },
    {
     "name": "stderr",
     "output_type": "stream",
     "text": [
      "/Users/robertarbon/miniconda3/envs/science/lib/python3.6/site-packages/msmtools/analysis/dense/pcca.py:287: ComplexWarning: Casting complex values to real discards the imaginary part\n",
      "  evecs[:, i] /= math.sqrt(np.dot(evecs[:, i] * pi, evecs[:, i]))\n"
     ]
    },
    {
     "name": "stdout",
     "output_type": "stream",
     "text": [
      "\tTrying idx = 753...Failed - absorbing state :(\n",
      "\tTrying idx = 194...OK!\n",
      "\tTrying idx = 81...Failed - absorbing state :(\n",
      "\tTrying idx = 831...OK!\n",
      "\tTrying idx = 824...OK!\n",
      "\tTrying idx = 244...OK!\n",
      "\tTrying idx = 259...OK!\n",
      "\tTrying idx = 89...OK!\n",
      "\tTrying idx = 107...OK!\n",
      "\tTrying idx = 112...OK!\n",
      "\tTrying idx = 848...Failed - absorbing state :(\n",
      "\tTrying idx = 76...OK!\n",
      "\tTrying idx = 63...OK!\n",
      "\tTrying idx = 232...Failed - zero probability state :(\n",
      "\tTrying idx = 847...OK!\n",
      "\tTrying idx = 852...OK!\n",
      "\tTrying idx = 730...Failed - absorbing state :(\n",
      "\tTrying idx = 331...Failed - absorbing state :(\n",
      "\tTrying idx = 256...OK!\n",
      "\tTrying idx = 243...Failed - absorbing state :(\n",
      "\tTrying idx = 823...OK!\n",
      "\tTrying idx = 836...OK!\n",
      "\tTrying idx = 86...OK!\n",
      "\tTrying idx = 754...OK!\n",
      "\tTrying idx = 741...OK!\n",
      "\tTrying idx = 108...OK!\n",
      "\tTrying idx = 935...OK!\n",
      "\tTrying idx = 15...Failed - absorbing state :(\n",
      "\tTrying idx = 115...OK!\n",
      "\tTrying idx = 100...OK!\n"
     ]
    },
    {
     "name": "stderr",
     "output_type": "stream",
     "text": [
      "/Users/robertarbon/miniconda3/envs/science/lib/python3.6/site-packages/msmtools/analysis/dense/pcca.py:287: ComplexWarning: Casting complex values to real discards the imaginary part\n",
      "  evecs[:, i] /= math.sqrt(np.dot(evecs[:, i] * pi, evecs[:, i]))\n"
     ]
    },
    {
     "name": "stdout",
     "output_type": "stream",
     "text": [
      "\tTrying idx = 959...OK!\n"
     ]
    },
    {
     "name": "stderr",
     "output_type": "stream",
     "text": [
      "/Users/robertarbon/miniconda3/envs/science/lib/python3.6/site-packages/msmtools/analysis/dense/pcca.py:287: ComplexWarning: Casting complex values to real discards the imaginary part\n",
      "  evecs[:, i] /= math.sqrt(np.dot(evecs[:, i] * pi, evecs[:, i]))\n"
     ]
    },
    {
     "name": "stdout",
     "output_type": "stream",
     "text": [
      "\tTrying idx = 64...OK!\n",
      "\tTrying idx = 71...Failed - absorbing state :(\n",
      "\tTrying idx = 114...OK!\n",
      "\tTrying idx = 14...Failed - absorbing state :(\n",
      "\tTrying idx = 739...Failed - absorbing state :(\n",
      "\tTrying idx = 165...OK!\n",
      "\tTrying idx = 70...OK!\n",
      "\tTrying idx = 65...OK!\n",
      "\tTrying idx = 945...OK!\n",
      "\tTrying idx = 78...OK!\n",
      "\tTrying idx = 724...OK!\n",
      "\tTrying idx = 226...OK!\n",
      "\tTrying idx = 233...OK!\n",
      "\tTrying idx = 627...Failed - absorbing state :(\n",
      "\tTrying idx = 921...Failed - absorbing state :(\n",
      "\tTrying idx = 109...OK!\n",
      "\tTrying idx = 755...OK!\n",
      "\tTrying idx = 837...OK!\n",
      "\tTrying idx = 822...OK!\n",
      "\tTrying idx = 242...Failed - zero probability state :(\n",
      "\tTrying idx = 257...OK!\n"
     ]
    },
    {
     "name": "stderr",
     "output_type": "stream",
     "text": [
      "/Users/robertarbon/miniconda3/envs/science/lib/python3.6/site-packages/msmtools/analysis/dense/pcca.py:287: ComplexWarning: Casting complex values to real discards the imaginary part\n",
      "  evecs[:, i] /= math.sqrt(np.dot(evecs[:, i] * pi, evecs[:, i]))\n"
     ]
    },
    {
     "name": "stdout",
     "output_type": "stream",
     "text": [
      "\tTrying idx = 13...Failed - absorbing state :(\n",
      "\tTrying idx = 113...OK!\n",
      "\tTrying idx = 106...OK!\n",
      "\tTrying idx = 507...OK!\n",
      "\tTrying idx = 88...Failed - absorbing state :(\n",
      "\tTrying idx = 838...OK!\n",
      "\tTrying idx = 258...Failed - absorbing state :(\n",
      "\tTrying idx = 162...Failed - absorbing state :(\n",
      "\tTrying idx = 234...OK!\n",
      "\tTrying idx = 221...OK!\n",
      "\tTrying idx = 736...OK!\n",
      "\tTrying idx = 723...OK!\n",
      "\tTrying idx = 957...OK!\n",
      "\tTrying idx = 80...OK!\n",
      "\tTrying idx = 195...OK!\n"
     ]
    },
    {
     "name": "stderr",
     "output_type": "stream",
     "text": [
      "/Users/robertarbon/miniconda3/envs/science/lib/python3.6/site-packages/msmtools/analysis/dense/pcca.py:287: ComplexWarning: Casting complex values to real discards the imaginary part\n",
      "  evecs[:, i] /= math.sqrt(np.dot(evecs[:, i] * pi, evecs[:, i]))\n"
     ]
    },
    {
     "name": "stdout",
     "output_type": "stream",
     "text": [
      "\tTrying idx = 830...OK!\n",
      "\tTrying idx = 752...OK!\n",
      "\tTrying idx = 747...Failed - zero probability state :(\n",
      "\tTrying idx = 933...Failed - absorbing state :(\n",
      "4\n",
      "\tTrying idx = 678...OK!\n",
      "\tTrying idx = 526...OK!\n",
      "\tTrying idx = 454...OK!\n",
      "\tTrying idx = 208...OK!\n",
      "\tTrying idx = 692...Failed - absorbing state :(\n",
      "\tTrying idx = 286...OK!\n",
      "\tTrying idx = 557...Failed - absorbing state :(\n",
      "\tTrying idx = 717...OK!\n",
      "\tTrying idx = 963...OK!\n",
      "\tTrying idx = 200...Failed - absorbing state :(\n",
      "\tTrying idx = 766...OK!\n",
      "\tTrying idx = 20...OK!\n",
      "\tTrying idx = 890...OK!\n",
      "\tTrying idx = 534...OK!\n",
      "\tTrying idx = 993...OK!\n",
      "\tTrying idx = 5...Failed - absorbing state :(\n",
      "\tTrying idx = 151...Failed - absorbing state :(\n",
      "\tTrying idx = 718...OK!\n",
      "\tTrying idx = 545...OK!\n",
      "\tTrying idx = 550...OK!\n",
      "\tTrying idx = 979...OK!\n",
      "\tTrying idx = 397...OK!\n",
      "\tTrying idx = 382...OK!\n",
      "\tTrying idx = 606...OK!\n",
      "\tTrying idx = 212...OK!\n",
      "\tTrying idx = 688...Failed - absorbing state :(\n",
      "\tTrying idx = 529...OK!\n",
      "\tTrying idx = 774...OK!\n",
      "\tTrying idx = 58...OK!\n",
      "\tTrying idx = 689...OK!\n",
      "\tTrying idx = 899...OK!\n",
      "\tTrying idx = 277...OK!\n",
      "\tTrying idx = 4...OK!\n",
      "\tTrying idx = 909...OK!\n",
      "\tTrying idx = 768...OK!\n",
      "\tTrying idx = 21...Failed - absorbing state :(\n",
      "\tTrying idx = 884...OK!\n",
      "\tTrying idx = 978...OK!\n",
      "\tTrying idx = 600...Failed - absorbing state :(\n",
      "\tTrying idx = 201...OK!\n",
      "\tTrying idx = 962...OK!\n",
      "\tTrying idx = 716...OK!\n",
      "\tTrying idx = 805...OK!\n",
      "\tTrying idx = 810...OK!\n",
      "\tTrying idx = 671...OK!\n",
      "\tTrying idx = 772...Failed - absorbing state :(\n",
      "\tTrying idx = 126...OK!\n",
      "\tTrying idx = 527...OK!\n",
      "\tTrying idx = 278...OK!\n",
      "\tTrying idx = 3...OK!\n"
     ]
    },
    {
     "name": "stderr",
     "output_type": "stream",
     "text": [
      "/Users/robertarbon/miniconda3/envs/science/lib/python3.6/site-packages/msmtools/analysis/dense/pcca.py:287: ComplexWarning: Casting complex values to real discards the imaginary part\n",
      "  evecs[:, i] /= math.sqrt(np.dot(evecs[:, i] * pi, evecs[:, i]))\n"
     ]
    },
    {
     "name": "stdout",
     "output_type": "stream",
     "text": [
      "\tTrying idx = 543...OK!\n",
      "\tTrying idx = 686...Failed - absorbing state :(\n",
      "\tTrying idx = 869...OK!\n",
      "\tTrying idx = 785...OK!\n",
      "\tTrying idx = 790...OK!\n",
      "\tTrying idx = 765...OK!\n",
      "\tTrying idx = 272...Failed - absorbing state :(\n",
      "\tTrying idx = 807...OK!\n",
      "\tTrying idx = 812...OK!\n",
      "\tTrying idx = 701...Failed - absorbing state :(\n",
      "\tTrying idx = 975...OK!\n",
      "\tTrying idx = 602...OK!\n",
      "\tTrying idx = 876...OK!\n",
      "\tTrying idx = 285...OK!\n",
      "\tTrying idx = 691...OK!\n",
      "\tTrying idx = 55...OK!\n",
      "\tTrying idx = 982...OK!\n",
      "\tTrying idx = 24...OK!\n"
     ]
    },
    {
     "name": "stderr",
     "output_type": "stream",
     "text": [
      "/Users/robertarbon/miniconda3/envs/science/lib/python3.6/site-packages/msmtools/analysis/dense/pcca.py:287: ComplexWarning: Casting complex values to real discards the imaginary part\n",
      "  evecs[:, i] /= math.sqrt(np.dot(evecs[:, i] * pi, evecs[:, i]))\n"
     ]
    },
    {
     "name": "stdout",
     "output_type": "stream",
     "text": [
      "\tTrying idx = 379...OK!\n",
      "\tTrying idx = 778...Failed - absorbing state :(\n",
      "\tTrying idx = 916...OK!\n",
      "\tTrying idx = 211...OK!\n",
      "\tTrying idx = 972...OK!\n",
      "\tTrying idx = 546...OK!\n",
      "\tTrying idx = 219...OK!\n",
      "\tTrying idx = 780...Failed - absorbing state :(\n",
      "\tTrying idx = 6...OK!\n",
      "\tTrying idx = 619...OK!\n",
      "\tTrying idx = 153...Failed - absorbing state :(\n",
      "\tTrying idx = 552...OK!\n",
      "\tTrying idx = 809...OK!\n"
     ]
    },
    {
     "name": "stderr",
     "output_type": "stream",
     "text": [
      "/Users/robertarbon/miniconda3/envs/science/lib/python3.6/site-packages/msmtools/analysis/dense/pcca.py:287: ComplexWarning: Casting complex values to real discards the imaginary part\n",
      "  evecs[:, i] /= math.sqrt(np.dot(evecs[:, i] * pi, evecs[:, i]))\n"
     ]
    },
    {
     "name": "stdout",
     "output_type": "stream",
     "text": [
      "\tTrying idx = 22...OK!\n",
      "\tTrying idx = 763...OK!\n",
      "\tTrying idx = 917...Failed - absorbing state :(\n",
      "\tTrying idx = 712...Failed - absorbing state :(\n",
      "\tTrying idx = 604...OK!\n",
      "\tTrying idx = 210...OK!\n",
      "\tTrying idx = 789...OK!\n",
      "\tTrying idx = 555...Failed - absorbing state :(\n",
      "\tTrying idx = 540...OK!\n",
      "\tTrying idx = 685...Failed - absorbing state :(\n",
      "\tTrying idx = 690...OK!\n",
      "\tTrying idx = 793...OK!\n",
      "\tTrying idx = 0...Failed - absorbing state :(\n",
      "\tTrying idx = 813...Failed - absorbing state :(\n",
      "\tTrying idx = 8...OK!\n",
      "\tTrying idx = 202...OK!\n",
      "\tTrying idx = 974...OK!\n",
      "\tTrying idx = 715...OK!\n",
      "\tTrying idx = 75...OK!\n"
     ]
    },
    {
     "name": "stderr",
     "output_type": "stream",
     "text": [
      "/Users/robertarbon/miniconda3/envs/science/lib/python3.6/site-packages/msmtools/analysis/dense/pcca.py:287: ComplexWarning: Casting complex values to real discards the imaginary part\n",
      "  evecs[:, i] /= math.sqrt(np.dot(evecs[:, i] * pi, evecs[:, i]))\n"
     ]
    },
    {
     "name": "stdout",
     "output_type": "stream",
     "text": [
      "\tTrying idx = 729...OK!\n",
      "\tTrying idx = 561...OK!\n",
      "\tTrying idx = 574...OK!\n",
      "\tTrying idx = 104...OK!\n",
      "\tTrying idx = 11...OK!\n",
      "\tTrying idx = 359...Failed - absorbing state :(\n",
      "\tTrying idx = 505...OK!\n",
      "\tTrying idx = 495...OK!\n",
      "\tTrying idx = 19...Failed - zero probability state :(\n",
      "\tTrying idx = 596...Failed - absorbing state :(\n",
      "\tTrying idx = 832...OK!\n",
      "\tTrying idx = 182...OK!\n",
      "\tTrying idx = 97...Failed - absorbing state :(\n",
      "\tTrying idx = 252...Failed - absorbing state :(\n",
      "\tTrying idx = 721...OK!\n",
      "\tTrying idx = 223...OK!\n",
      "\tTrying idx = 239...Failed - absorbing state :(\n",
      "\tTrying idx = 502...Failed - absorbing state :(\n",
      "\tTrying idx = 103...OK!\n",
      "\tTrying idx = 599...OK!\n",
      "\tTrying idx = 820...Failed - absorbing state :(\n",
      "\tTrying idx = 742...Failed - absorbing state :(\n",
      "\tTrying idx = 936...OK!\n",
      "\tTrying idx = 478...OK!\n",
      "\tTrying idx = 357...Failed - absorbing state :(\n",
      "\tTrying idx = 590...OK!\n",
      "\tTrying idx = 84...OK!\n",
      "\tTrying idx = 834...Failed - absorbing state :(\n",
      "\tTrying idx = 655...OK!\n",
      "\tTrying idx = 254...OK!\n",
      "\tTrying idx = 241...Failed - absorbing state :(\n",
      "\tTrying idx = 732...Failed - absorbing state :(\n",
      "\tTrying idx = 479...OK!\n",
      "\tTrying idx = 225...OK!\n",
      "\tTrying idx = 66...OK!\n",
      "\tTrying idx = 648...OK!\n"
     ]
    },
    {
     "name": "stderr",
     "output_type": "stream",
     "text": [
      "/Users/robertarbon/miniconda3/envs/science/lib/python3.6/site-packages/msmtools/analysis/dense/pcca.py:287: ComplexWarning: Casting complex values to real discards the imaginary part\n",
      "  evecs[:, i] /= math.sqrt(np.dot(evecs[:, i] * pi, evecs[:, i]))\n"
     ]
    },
    {
     "name": "stdout",
     "output_type": "stream",
     "text": [
      "\tTrying idx = 415...OK!\n",
      "\tTrying idx = 199...OK!\n",
      "\tTrying idx = 99...OK!\n",
      "\tTrying idx = 829...Failed - absorbing state :(\n",
      "\tTrying idx = 598...OK!\n",
      "\tTrying idx = 102...OK!\n",
      "\tTrying idx = 503...Failed - absorbing state :(\n",
      "\tTrying idx = 246...OK!\n",
      "\tTrying idx = 96...OK!\n",
      "\tTrying idx = 350...Failed - absorbing state :(\n",
      "\tTrying idx = 345...Failed - absorbing state :(\n",
      "\tTrying idx = 925...OK!\n",
      "\tTrying idx = 222...OK!\n",
      "\tTrying idx = 237...Failed - absorbing state :(\n",
      "\tTrying idx = 842...OK!\n",
      "\tTrying idx = 941...OK!\n",
      "\tTrying idx = 938...OK!\n",
      "\tTrying idx = 358...Failed - absorbing state :(\n",
      "\tTrying idx = 722...Failed - absorbing state :(\n",
      "\tTrying idx = 927...OK!\n",
      "\tTrying idx = 352...Failed - absorbing state :(\n",
      "\tTrying idx = 94...OK!\n",
      "\tTrying idx = 658...OK!\n"
     ]
    },
    {
     "name": "stderr",
     "output_type": "stream",
     "text": [
      "/Users/robertarbon/miniconda3/envs/science/lib/python3.6/site-packages/msmtools/analysis/dense/pcca.py:287: ComplexWarning: Casting complex values to real discards the imaginary part\n",
      "  evecs[:, i] /= math.sqrt(np.dot(evecs[:, i] * pi, evecs[:, i]))\n"
     ]
    },
    {
     "name": "stdout",
     "output_type": "stream",
     "text": [
      "\tTrying idx = 89...OK!\n",
      "\tTrying idx = 506...OK!\n",
      "\tTrying idx = 107...OK!\n",
      "\tTrying idx = 112...OK!\n",
      "\tTrying idx = 12...Failed - absorbing state :(\n",
      "\tTrying idx = 629...OK!\n",
      "\tTrying idx = 562...OK!\n",
      "\tTrying idx = 176...Failed - absorbing state :(\n",
      "\tTrying idx = 730...Failed - absorbing state :(\n",
      "\tTrying idx = 725...OK!\n",
      "\tTrying idx = 657...OK!\n"
     ]
    },
    {
     "name": "stderr",
     "output_type": "stream",
     "text": [
      "/Users/robertarbon/miniconda3/envs/science/lib/python3.6/site-packages/msmtools/analysis/dense/pcca.py:287: ComplexWarning: Casting complex values to real discards the imaginary part\n",
      "  evecs[:, i] /= math.sqrt(np.dot(evecs[:, i] * pi, evecs[:, i]))\n"
     ]
    },
    {
     "name": "stdout",
     "output_type": "stream",
     "text": [
      "\tTrying idx = 592...OK!\n",
      "\tTrying idx = 93...Failed - absorbing state :(\n",
      "\tTrying idx = 186...OK!\n",
      "\tTrying idx = 15...OK!\n",
      "\tTrying idx = 348...Failed - absorbing state :(\n",
      "\tTrying idx = 749...OK!\n",
      "\tTrying idx = 339...OK!\n",
      "\tTrying idx = 64...OK!\n",
      "\tTrying idx = 738...Failed - absorbing state :(\n",
      "\tTrying idx = 748...OK!\n",
      "\tTrying idx = 14...Failed - absorbing state :(\n",
      "\tTrying idx = 349...OK!\n",
      "\tTrying idx = 739...OK!\n",
      "\tTrying idx = 70...OK!\n",
      "\tTrying idx = 65...OK!\n"
     ]
    },
    {
     "name": "stderr",
     "output_type": "stream",
     "text": [
      "/Users/robertarbon/miniconda3/envs/science/lib/python3.6/site-packages/msmtools/analysis/dense/pcca.py:287: ComplexWarning: Casting complex values to real discards the imaginary part\n",
      "  evecs[:, i] /= math.sqrt(np.dot(evecs[:, i] * pi, evecs[:, i]))\n"
     ]
    },
    {
     "name": "stdout",
     "output_type": "stream",
     "text": [
      "\tTrying idx = 945...OK!\n",
      "\tTrying idx = 178...OK!\n",
      "\tTrying idx = 724...OK!\n",
      "\tTrying idx = 731...Failed - absorbing state :(\n",
      "\tTrying idx = 354...Failed - absorbing state :(\n",
      "\tTrying idx = 837...OK!\n",
      "\tTrying idx = 87...OK!\n",
      "\tTrying idx = 13...OK!\n",
      "\tTrying idx = 88...Failed - absorbing state :(\n",
      "\tTrying idx = 188...OK!\n"
     ]
    },
    {
     "name": "stderr",
     "output_type": "stream",
     "text": [
      "/Users/robertarbon/miniconda3/envs/science/lib/python3.6/site-packages/msmtools/analysis/dense/pcca.py:287: ComplexWarning: Casting complex values to real discards the imaginary part\n",
      "  evecs[:, i] /= math.sqrt(np.dot(evecs[:, i] * pi, evecs[:, i]))\n"
     ]
    },
    {
     "name": "stdout",
     "output_type": "stream",
     "text": [
      "\tTrying idx = 576...Failed - absorbing state :(\n",
      "\tTrying idx = 628...OK!\n",
      "\tTrying idx = 635...OK!\n",
      "\tTrying idx = 942...OK!\n",
      "\tTrying idx = 245...Failed - absorbing state :(\n",
      "\tTrying idx = 594...OK!\n",
      "\tTrying idx = 95...OK!\n",
      "\tTrying idx = 830...OK!\n",
      "\tTrying idx = 346...OK!\n",
      "\tTrying idx = 353...OK!\n",
      "6\n",
      "\tTrying idx = 2...Failed - absorbing state :(\n",
      "\tTrying idx = 819...OK!\n",
      "\tTrying idx = 678...OK!\n",
      "\tTrying idx = 430...Failed - absorbing state :(\n",
      "\tTrying idx = 981...OK!\n",
      "\tTrying idx = 279...OK!\n"
     ]
    },
    {
     "name": "stderr",
     "output_type": "stream",
     "text": [
      "/Users/robertarbon/miniconda3/envs/science/lib/python3.6/site-packages/msmtools/analysis/dense/pcca.py:287: ComplexWarning: Casting complex values to real discards the imaginary part\n",
      "  evecs[:, i] /= math.sqrt(np.dot(evecs[:, i] * pi, evecs[:, i]))\n"
     ]
    },
    {
     "name": "stdout",
     "output_type": "stream",
     "text": [
      "\tTrying idx = 526...Failed - absorbing state :(\n",
      "\tTrying idx = 791...OK!\n",
      "\tTrying idx = 784...OK!\n",
      "\tTrying idx = 868...OK!\n",
      "\tTrying idx = 385...Failed - absorbing state :(\n",
      "\tTrying idx = 390...OK!\n",
      "\tTrying idx = 609...OK!\n",
      "\tTrying idx = 692...OK!\n",
      "\tTrying idx = 286...OK!\n",
      "\tTrying idx = 557...OK!\n",
      "\tTrying idx = 702...OK!\n",
      "\tTrying idx = 717...OK!\n",
      "\tTrying idx = 963...OK!\n",
      "\tTrying idx = 976...Failed - absorbing state :(\n",
      "\tTrying idx = 614...OK!\n",
      "\tTrying idx = 601...Failed - absorbing state :(\n",
      "\tTrying idx = 860...OK!\n",
      "\tTrying idx = 398...Failed - absorbing state :(\n",
      "\tTrying idx = 799...OK!\n",
      "\tTrying idx = 766...OK!\n",
      "\tTrying idx = 773...OK!\n"
     ]
    },
    {
     "name": "stderr",
     "output_type": "stream",
     "text": [
      "/Users/robertarbon/miniconda3/envs/science/lib/python3.6/site-packages/msmtools/analysis/dense/pcca.py:287: ComplexWarning: Casting complex values to real discards the imaginary part\n",
      "  evecs[:, i] /= math.sqrt(np.dot(evecs[:, i] * pi, evecs[:, i]))\n"
     ]
    },
    {
     "name": "stdout",
     "output_type": "stream",
     "text": [
      "\tTrying idx = 912...OK!\n",
      "\tTrying idx = 264...OK!\n",
      "\tTrying idx = 670...OK!\n",
      "\tTrying idx = 665...OK!\n",
      "\tTrying idx = 438...OK!\n",
      "\tTrying idx = 811...OK!\n",
      "\tTrying idx = 804...Failed - absorbing state :(\n",
      "\tTrying idx = 135...Failed - absorbing state :(\n",
      "\tTrying idx = 20...OK!\n",
      "\tTrying idx = 993...OK!\n",
      "\tTrying idx = 422...Failed - zero probability state :(\n",
      "\tTrying idx = 5...Failed - absorbing state :(\n",
      "\tTrying idx = 151...OK!\n",
      "\tTrying idx = 144...OK!\n",
      "\tTrying idx = 718...Failed - absorbing state :(\n",
      "\tTrying idx = 545...OK!\n",
      "\tTrying idx = 281...OK!\n",
      "\tTrying idx = 695...OK!\n",
      "\tTrying idx = 397...OK!\n"
     ]
    },
    {
     "name": "stderr",
     "output_type": "stream",
     "text": [
      "/Users/robertarbon/miniconda3/envs/science/lib/python3.6/site-packages/msmtools/analysis/dense/pcca.py:287: ComplexWarning: Casting complex values to real discards the imaginary part\n",
      "  evecs[:, i] /= math.sqrt(np.dot(evecs[:, i] * pi, evecs[:, i]))\n"
     ]
    },
    {
     "name": "stdout",
     "output_type": "stream",
     "text": [
      "\tTrying idx = 613...Failed - absorbing state :(\n",
      "\tTrying idx = 212...OK!\n",
      "\tTrying idx = 207...Failed - absorbing state :(\n",
      "\tTrying idx = 971...OK!\n",
      "\tTrying idx = 964...OK!\n",
      "\tTrying idx = 710...OK!\n",
      "\tTrying idx = 705...OK!\n",
      "\tTrying idx = 558...OK!\n",
      "\tTrying idx = 304...OK!\n",
      "\tTrying idx = 59...OK!\n",
      "\tTrying idx = 662...OK!\n",
      "\tTrying idx = 276...OK!\n",
      "\tTrying idx = 263...Failed - absorbing state :(\n",
      "\tTrying idx = 529...Failed - absorbing state :(\n",
      "\tTrying idx = 774...Failed - absorbing state :(\n",
      "\tTrying idx = 58...OK!\n",
      "\tTrying idx = 158...OK!\n",
      "\tTrying idx = 704...OK!\n",
      "\tTrying idx = 711...OK!\n",
      "\tTrying idx = 559...OK!\n",
      "\tTrying idx = 970...OK!\n",
      "\tTrying idx = 213...Failed - absorbing state :(\n",
      "\tTrying idx = 873...OK!\n",
      "\tTrying idx = 866...OK!\n",
      "\tTrying idx = 899...OK!\n",
      "\tTrying idx = 775...OK!\n",
      "\tTrying idx = 901...OK!\n",
      "\tTrying idx = 676...OK!\n",
      "\tTrying idx = 663...Failed - absorbing state :(\n",
      "\tTrying idx = 423...Failed - absorbing state :(\n",
      "\tTrying idx = 520...OK!\n",
      "\tTrying idx = 21...OK!\n",
      "\tTrying idx = 134...OK!\n",
      "\tTrying idx = 797...OK!\n",
      "\tTrying idx = 782...OK!\n",
      "\tTrying idx = 383...OK!\n",
      "\tTrying idx = 396...Failed - absorbing state :(\n",
      "\tTrying idx = 681...OK!\n",
      "\tTrying idx = 694...OK!\n",
      "\tTrying idx = 978...OK!\n",
      "\tTrying idx = 295...Failed - absorbing state :(\n",
      "\tTrying idx = 719...OK!\n",
      "\tTrying idx = 150...OK!\n",
      "\tTrying idx = 798...OK!\n",
      "\tTrying idx = 399...OK!\n",
      "\tTrying idx = 874...OK!\n",
      "\tTrying idx = 600...Failed - absorbing state :(\n",
      "\tTrying idx = 962...OK!\n",
      "\tTrying idx = 703...OK!\n",
      "\tTrying idx = 805...OK!\n",
      "\tTrying idx = 664...OK!\n",
      "\tTrying idx = 439...OK!\n",
      "\tTrying idx = 270...Failed - absorbing state :(\n",
      "\tTrying idx = 265...OK!\n",
      "\tTrying idx = 988...Failed - absorbing state :(\n",
      "\tTrying idx = 913...OK!\n",
      "\tTrying idx = 772...Failed - zero probability state :(\n",
      "\tTrying idx = 767...OK!\n",
      "\tTrying idx = 373...OK!\n",
      "\tTrying idx = 896...OK!\n",
      "\tTrying idx = 883...OK!\n",
      "\tTrying idx = 133...OK!\n",
      "\tTrying idx = 33...Failed - absorbing state :(\n",
      "\tTrying idx = 278...OK!\n",
      "\tTrying idx = 995...OK!\n",
      "\tTrying idx = 679...OK!\n",
      "\tTrying idx = 431...OK!\n",
      "\tTrying idx = 424...Failed - absorbing state :(\n",
      "\tTrying idx = 3...Failed - absorbing state :(\n",
      "\tTrying idx = 693...OK!\n",
      "\tTrying idx = 790...OK!\n",
      "\tTrying idx = 770...OK!\n",
      "\tTrying idx = 139...Failed - absorbing state :(\n",
      "\tTrying idx = 889...OK!\n",
      "\tTrying idx = 911...OK!\n",
      "\tTrying idx = 904...OK!\n",
      "\tTrying idx = 272...OK!\n",
      "\tTrying idx = 267...Failed - absorbing state :(\n",
      "\tTrying idx = 9...OK!\n",
      "\tTrying idx = 807...OK!\n",
      "\tTrying idx = 812...OK!\n",
      "\tTrying idx = 714...OK!\n",
      "\tTrying idx = 701...OK!\n",
      "\tTrying idx = 300...OK!\n",
      "\tTrying idx = 699...OK!\n",
      "\tTrying idx = 975...Failed - absorbing state :(\n",
      "\tTrying idx = 602...OK!\n",
      "\tTrying idx = 863...OK!\n"
     ]
    },
    {
     "name": "stderr",
     "output_type": "stream",
     "text": [
      "/Users/robertarbon/miniconda3/envs/science/lib/python3.6/site-packages/msmtools/analysis/dense/pcca.py:287: ComplexWarning: Casting complex values to real discards the imaginary part\n",
      "  evecs[:, i] /= math.sqrt(np.dot(evecs[:, i] * pi, evecs[:, i]))\n"
     ]
    },
    {
     "name": "stdout",
     "output_type": "stream",
     "text": [
      "\tTrying idx = 386...OK!\n",
      "\tTrying idx = 787...OK!\n",
      "\tTrying idx = 792...OK!\n",
      "\tTrying idx = 968...OK!\n",
      "\tTrying idx = 691...OK!\n",
      "\tTrying idx = 155...OK!\n",
      "\tTrying idx = 140...Failed - absorbing state :(\n",
      "\tTrying idx = 709...OK!\n",
      "\tTrying idx = 1...Failed - absorbing state :(\n",
      "\tTrying idx = 982...OK!\n"
     ]
    },
    {
     "name": "stderr",
     "output_type": "stream",
     "text": [
      "/Users/robertarbon/miniconda3/envs/science/lib/python3.6/site-packages/msmtools/analysis/dense/pcca.py:287: ComplexWarning: Casting complex values to real discards the imaginary part\n",
      "  evecs[:, i] /= math.sqrt(np.dot(evecs[:, i] * pi, evecs[:, i]))\n"
     ]
    },
    {
     "name": "stdout",
     "output_type": "stream",
     "text": [
      "\tTrying idx = 919...OK!\n",
      "\tTrying idx = 24...OK!\n"
     ]
    },
    {
     "name": "stderr",
     "output_type": "stream",
     "text": [
      "/Users/robertarbon/miniconda3/envs/science/lib/python3.6/site-packages/msmtools/analysis/dense/pcca.py:287: ComplexWarning: Casting complex values to real discards the imaginary part\n",
      "  evecs[:, i] /= math.sqrt(np.dot(evecs[:, i] * pi, evecs[:, i]))\n"
     ]
    },
    {
     "name": "stdout",
     "output_type": "stream",
     "text": [
      "\tTrying idx = 131...OK!\n"
     ]
    },
    {
     "name": "stderr",
     "output_type": "stream",
     "text": [
      "/Users/robertarbon/miniconda3/envs/science/lib/python3.6/site-packages/msmtools/analysis/dense/pcca.py:287: ComplexWarning: Casting complex values to real discards the imaginary part\n",
      "  evecs[:, i] /= math.sqrt(np.dot(evecs[:, i] * pi, evecs[:, i]))\n"
     ]
    },
    {
     "name": "stdout",
     "output_type": "stream",
     "text": [
      "\tTrying idx = 894...OK!\n",
      "\tTrying idx = 815...OK!\n",
      "\tTrying idx = 800...OK!\n",
      "\tTrying idx = 903...OK!\n",
      "\tTrying idx = 376...OK!\n",
      "\tTrying idx = 762...OK!\n",
      "\tTrying idx = 777...Failed - absorbing state :(\n",
      "\tTrying idx = 871...OK!\n",
      "\tTrying idx = 864...OK!\n",
      "\tTrying idx = 211...OK!\n",
      "\tTrying idx = 972...Failed - absorbing state :(\n",
      "\tTrying idx = 706...OK!\n",
      "\tTrying idx = 713...OK!\n",
      "\tTrying idx = 553...OK!\n",
      "\tTrying idx = 152...OK!\n",
      "\tTrying idx = 47...OK!\n",
      "\tTrying idx = 683...OK!\n",
      "\tTrying idx = 696...OK!\n",
      "\tTrying idx = 795...OK!\n",
      "\tTrying idx = 394...Failed - absorbing state :(\n",
      "\tTrying idx = 879...OK!\n",
      "\tTrying idx = 893...OK!\n",
      "\tTrying idx = 669...OK!\n",
      "\tTrying idx = 421...OK!\n",
      "\tTrying idx = 434...OK!\n",
      "\tTrying idx = 808...OK!\n",
      "\tTrying idx = 395...OK!\n",
      "\tTrying idx = 697...OK!\n",
      "\tTrying idx = 682...OK!\n",
      "\tTrying idx = 153...OK!\n"
     ]
    },
    {
     "name": "stderr",
     "output_type": "stream",
     "text": [
      "/Users/robertarbon/miniconda3/envs/science/lib/python3.6/site-packages/msmtools/analysis/dense/pcca.py:287: ComplexWarning: Casting complex values to real discards the imaginary part\n",
      "  evecs[:, i] /= math.sqrt(np.dot(evecs[:, i] * pi, evecs[:, i]))\n"
     ]
    },
    {
     "name": "stdout",
     "output_type": "stream",
     "text": [
      "\tTrying idx = 552...Failed - absorbing state :(\n",
      "\tTrying idx = 809...OK!\n",
      "\tTrying idx = 435...OK!\n",
      "\tTrying idx = 420...OK!\n",
      "\tTrying idx = 892...OK!\n",
      "\tTrying idx = 22...OK!\n",
      "\tTrying idx = 137...Failed - absorbing state :(\n",
      "\tTrying idx = 122...OK!\n",
      "\tTrying idx = 536...OK!\n",
      "\tTrying idx = 776...Failed - absorbing state :(\n",
      "\tTrying idx = 902...OK!\n",
      "\tTrying idx = 660...OK!\n",
      "\tTrying idx = 999...Failed - absorbing state :(\n",
      "\tTrying idx = 801...OK!\n",
      "\tTrying idx = 814...OK!\n",
      "\tTrying idx = 712...OK!\n",
      "\tTrying idx = 707...OK!\n"
     ]
    },
    {
     "name": "stderr",
     "output_type": "stream",
     "text": [
      "/Users/robertarbon/miniconda3/envs/science/lib/python3.6/site-packages/msmtools/analysis/dense/pcca.py:287: ComplexWarning: Casting complex values to real discards the imaginary part\n",
      "  evecs[:, i] /= math.sqrt(np.dot(evecs[:, i] * pi, evecs[:, i]))\n"
     ]
    },
    {
     "name": "stdout",
     "output_type": "stream",
     "text": [
      "\tTrying idx = 973...Failed - absorbing state :(\n",
      "\tTrying idx = 604...Failed - absorbing state :(\n",
      "\tTrying idx = 865...OK!\n",
      "\tTrying idx = 870...OK!\n",
      "\tTrying idx = 708...OK!\n",
      "\tTrying idx = 555...OK!\n",
      "\tTrying idx = 141...OK!\n"
     ]
    },
    {
     "name": "stderr",
     "output_type": "stream",
     "text": [
      "/Users/robertarbon/miniconda3/envs/science/lib/python3.6/site-packages/msmtools/analysis/dense/pcca.py:287: ComplexWarning: Casting complex values to real discards the imaginary part\n",
      "  evecs[:, i] /= math.sqrt(np.dot(evecs[:, i] * pi, evecs[:, i]))\n"
     ]
    },
    {
     "name": "stdout",
     "output_type": "stream",
     "text": [
      "\tTrying idx = 969...OK!\n",
      "\tTrying idx = 793...OK!\n",
      "\tTrying idx = 531...OK!\n",
      "\tTrying idx = 779...OK!\n",
      "\tTrying idx = 125...OK!\n",
      "\tTrying idx = 130...OK!\n",
      "\tTrying idx = 880...OK!\n",
      "\tTrying idx = 895...OK!\n",
      "\tTrying idx = 996...OK!\n",
      "\tTrying idx = 0...Failed - absorbing state :(\n",
      "\tTrying idx = 813...OK!\n",
      "\tTrying idx = 273...OK!\n",
      "\tTrying idx = 138...Failed - absorbing state :(\n",
      "\tTrying idx = 862...OK!\n",
      "\tTrying idx = 603...OK!\n",
      "\tTrying idx = 974...OK!\n",
      "\tTrying idx = 698...OK!\n",
      "\tTrying idx = 700...OK!\n",
      "\tTrying idx = 715...OK!\n",
      "\tTrying idx = 175...OK!\n",
      "\tTrying idx = 60...OK!\n",
      "\tTrying idx = 729...OK!\n"
     ]
    },
    {
     "name": "stderr",
     "output_type": "stream",
     "text": [
      "/Users/robertarbon/miniconda3/envs/science/lib/python3.6/site-packages/msmtools/analysis/dense/pcca.py:287: ComplexWarning: Casting complex values to real discards the imaginary part\n",
      "  evecs[:, i] /= math.sqrt(np.dot(evecs[:, i] * pi, evecs[:, i]))\n"
     ]
    },
    {
     "name": "stdout",
     "output_type": "stream",
     "text": [
      "\tTrying idx = 561...OK!\n",
      "\tTrying idx = 413...Failed - absorbing state :(\n",
      "\tTrying idx = 406...OK!\n",
      "\tTrying idx = 11...OK!\n",
      "\tTrying idx = 505...OK!\n",
      "\tTrying idx = 495...Failed - absorbing state :(\n",
      "\tTrying idx = 924...OK!\n",
      "\tTrying idx = 750...OK!\n",
      "\tTrying idx = 745...OK!\n",
      "\tTrying idx = 119...OK!\n",
      "\tTrying idx = 596...OK!\n",
      "\tTrying idx = 832...OK!\n",
      "\tTrying idx = 646...OK!\n",
      "\tTrying idx = 653...OK!\n",
      "\tTrying idx = 569...OK!\n",
      "\tTrying idx = 856...OK!\n",
      "\tTrying idx = 637...OK!\n",
      "\tTrying idx = 573...Failed - absorbing state :(\n",
      "\tTrying idx = 566...OK!\n",
      "\tTrying idx = 67...OK!\n",
      "\tTrying idx = 859...OK!\n",
      "\tTrying idx = 638...OK!\n"
     ]
    },
    {
     "name": "stderr",
     "output_type": "stream",
     "text": [
      "/Users/robertarbon/miniconda3/envs/science/lib/python3.6/site-packages/msmtools/analysis/dense/pcca.py:287: ComplexWarning: Casting complex values to real discards the imaginary part\n",
      "  evecs[:, i] /= math.sqrt(np.dot(evecs[:, i] * pi, evecs[:, i]))\n"
     ]
    },
    {
     "name": "stdout",
     "output_type": "stream",
     "text": [
      "\tTrying idx = 116...OK!\n",
      "\tTrying idx = 599...Failed - absorbing state :(\n",
      "\tTrying idx = 198...Failed - absorbing state :(\n",
      "\tTrying idx = 828...OK!\n",
      "\tTrying idx = 649...OK!\n",
      "\tTrying idx = 414...OK!\n",
      "\tTrying idx = 654...OK!\n",
      "\tTrying idx = 641...OK!\n"
     ]
    },
    {
     "name": "stderr",
     "output_type": "stream",
     "text": [
      "/Users/robertarbon/miniconda3/envs/science/lib/python3.6/site-packages/msmtools/analysis/dense/pcca.py:287: ComplexWarning: Casting complex values to real discards the imaginary part\n",
      "  evecs[:, i] /= math.sqrt(np.dot(evecs[:, i] * pi, evecs[:, i]))\n"
     ]
    },
    {
     "name": "stdout",
     "output_type": "stream",
     "text": [
      "\tTrying idx = 409...OK!\n",
      "\tTrying idx = 742...OK!\n",
      "\tTrying idx = 231...Failed - absorbing state :(\n",
      "\tTrying idx = 630...Failed - absorbing state :(\n",
      "\tTrying idx = 625...OK!\n"
     ]
    },
    {
     "name": "stderr",
     "output_type": "stream",
     "text": [
      "/Users/robertarbon/miniconda3/envs/science/lib/python3.6/site-packages/msmtools/analysis/dense/pcca.py:287: ComplexWarning: Casting complex values to real discards the imaginary part\n",
      "  evecs[:, i] /= math.sqrt(np.dot(evecs[:, i] * pi, evecs[:, i]))\n"
     ]
    },
    {
     "name": "stdout",
     "output_type": "stream",
     "text": [
      "\tTrying idx = 726...OK!\n",
      "\tTrying idx = 947...OK!\n",
      "\tTrying idx = 756...OK!\n",
      "\tTrying idx = 743...OK!\n",
      "\tTrying idx = 590...Failed - absorbing state :(\n",
      "\tTrying idx = 184...OK!\n",
      "\tTrying idx = 191...Failed - absorbing state :(\n",
      "\tTrying idx = 821...OK!\n",
      "\tTrying idx = 640...OK!\n",
      "\tTrying idx = 655...OK!\n",
      "\tTrying idx = 408...OK!\n",
      "\tTrying idx = 732...Failed - absorbing state :(\n",
      "\tTrying idx = 727...OK!\n",
      "\tTrying idx = 845...OK!\n",
      "\tTrying idx = 850...OK!\n",
      "\tTrying idx = 624...Failed - absorbing state :(\n",
      "\tTrying idx = 631...OK!\n",
      "\tTrying idx = 639...OK!\n",
      "\tTrying idx = 173...OK!\n",
      "\tTrying idx = 166...OK!\n",
      "\tTrying idx = 567...OK!\n",
      "\tTrying idx = 572...Failed - zero probability state :(\n",
      "\tTrying idx = 648...OK!\n",
      "\tTrying idx = 415...Failed - zero probability state :(\n",
      "\tTrying idx = 400...OK!\n",
      "\tTrying idx = 829...OK!\n",
      "\tTrying idx = 598...OK!\n",
      "\tTrying idx = 117...OK!\n",
      "\tTrying idx = 17...OK!\n",
      "\tTrying idx = 652...OK!\n",
      "\tTrying idx = 647...OK!\n",
      "\tTrying idx = 833...OK!\n"
     ]
    },
    {
     "name": "stderr",
     "output_type": "stream",
     "text": [
      "/Users/robertarbon/miniconda3/envs/science/lib/python3.6/site-packages/msmtools/analysis/dense/pcca.py:287: ComplexWarning: Casting complex values to real discards the imaginary part\n",
      "  evecs[:, i] /= math.sqrt(np.dot(evecs[:, i] * pi, evecs[:, i]))\n"
     ]
    },
    {
     "name": "stdout",
     "output_type": "stream",
     "text": [
      "\tTrying idx = 826...OK!\n",
      "\tTrying idx = 751...OK!\n",
      "\tTrying idx = 237...OK!\n",
      "\tTrying idx = 636...OK!\n",
      "\tTrying idx = 842...Failed - absorbing state :(\n",
      "\tTrying idx = 169...OK!\n",
      "\tTrying idx = 720...OK!\n",
      "\tTrying idx = 568...OK!\n",
      "\tTrying idx = 949...OK!\n",
      "\tTrying idx = 728...OK!\n",
      "\tTrying idx = 575...OK!\n",
      "\tTrying idx = 560...OK!\n",
      "\tTrying idx = 174...OK!\n",
      "\tTrying idx = 511...OK!\n",
      "\tTrying idx = 10...OK!\n",
      "\tTrying idx = 407...OK!\n",
      "\tTrying idx = 722...OK!\n",
      "\tTrying idx = 855...OK!\n",
      "\tTrying idx = 634...OK!\n",
      "\tTrying idx = 927...Failed - absorbing state :(\n",
      "\tTrying idx = 753...OK!\n",
      "\tTrying idx = 251...OK!\n",
      "\tTrying idx = 650...OK!\n",
      "\tTrying idx = 645...OK!\n",
      "\tTrying idx = 418...OK!\n",
      "\tTrying idx = 658...OK!\n",
      "\tTrying idx = 405...OK!\n"
     ]
    },
    {
     "name": "stderr",
     "output_type": "stream",
     "text": [
      "/Users/robertarbon/miniconda3/envs/science/lib/python3.6/site-packages/msmtools/analysis/dense/pcca.py:287: ComplexWarning: Casting complex values to real discards the imaginary part\n",
      "  evecs[:, i] /= math.sqrt(np.dot(evecs[:, i] * pi, evecs[:, i]))\n"
     ]
    },
    {
     "name": "stdout",
     "output_type": "stream",
     "text": [
      "\tTrying idx = 410...OK!\n",
      "\tTrying idx = 588...Failed - absorbing state :(\n",
      "\tTrying idx = 839...OK!\n",
      "\tTrying idx = 513...OK!\n",
      "\tTrying idx = 12...OK!\n",
      "\tTrying idx = 629...Failed - absorbing state :(\n",
      "\tTrying idx = 228...OK!\n",
      "\tTrying idx = 848...OK!\n",
      "\tTrying idx = 562...OK!\n",
      "\tTrying idx = 163...OK!\n",
      "\tTrying idx = 626...OK!\n",
      "\tTrying idx = 633...OK!\n",
      "\tTrying idx = 227...Failed - absorbing state :(\n",
      "\tTrying idx = 847...OK!\n",
      "\tTrying idx = 730...OK!\n",
      "\tTrying idx = 725...OK!\n",
      "\tTrying idx = 179...OK!\n",
      "\tTrying idx = 642...OK!\n",
      "\tTrying idx = 657...OK!\n",
      "\tTrying idx = 592...OK!\n",
      "\tTrying idx = 587...OK!\n",
      "\tTrying idx = 823...OK!\n",
      "\tTrying idx = 186...Failed - absorbing state :(\n",
      "\tTrying idx = 509...OK!\n",
      "\tTrying idx = 754...OK!\n",
      "\tTrying idx = 920...OK!\n",
      "\tTrying idx = 514...Failed - absorbing state :(\n",
      "\tTrying idx = 749...OK!\n",
      "\tTrying idx = 417...OK!\n"
     ]
    },
    {
     "name": "stderr",
     "output_type": "stream",
     "text": [
      "/Users/robertarbon/miniconda3/envs/science/lib/python3.6/site-packages/msmtools/analysis/dense/pcca.py:287: ComplexWarning: Casting complex values to real discards the imaginary part\n",
      "  evecs[:, i] /= math.sqrt(np.dot(evecs[:, i] * pi, evecs[:, i]))\n"
     ]
    },
    {
     "name": "stdout",
     "output_type": "stream",
     "text": [
      "\tTrying idx = 402...Failed - zero probability state :(\n",
      "\tTrying idx = 171...OK!\n",
      "\tTrying idx = 565...OK!\n",
      "\tTrying idx = 570...OK!\n",
      "\tTrying idx = 473...OK!\n",
      "\tTrying idx = 466...OK!\n",
      "\tTrying idx = 403...OK!\n",
      "\tTrying idx = 416...OK!\n"
     ]
    },
    {
     "name": "stderr",
     "output_type": "stream",
     "text": [
      "/Users/robertarbon/miniconda3/envs/science/lib/python3.6/site-packages/msmtools/analysis/dense/pcca.py:287: ComplexWarning: Casting complex values to real discards the imaginary part\n",
      "  evecs[:, i] /= math.sqrt(np.dot(evecs[:, i] * pi, evecs[:, i]))\n"
     ]
    },
    {
     "name": "stdout",
     "output_type": "stream",
     "text": [
      "\tTrying idx = 14...OK!\n",
      "\tTrying idx = 929...OK!\n",
      "\tTrying idx = 571...OK!\n",
      "\tTrying idx = 564...OK!\n",
      "\tTrying idx = 165...OK!\n",
      "\tTrying idx = 170...OK!\n",
      "\tTrying idx = 958...OK!\n",
      "\tTrying idx = 950...OK!\n",
      "\tTrying idx = 724...OK!\n",
      "\tTrying idx = 731...OK!\n",
      "\tTrying idx = 853...Failed - absorbing state :(\n",
      "\tTrying idx = 632...OK!\n",
      "\tTrying idx = 627...OK!\n",
      "\tTrying idx = 921...OK!\n",
      "\tTrying idx = 755...OK!\n",
      "\tTrying idx = 822...OK!\n",
      "\tTrying idx = 586...Failed - absorbing state :(\n",
      "\tTrying idx = 593...Failed - absorbing state :(\n",
      "\tTrying idx = 656...OK!\n",
      "\tTrying idx = 643...OK!\n",
      "\tTrying idx = 589...OK!\n",
      "\tTrying idx = 659...OK!\n",
      "\tTrying idx = 411...OK!\n"
     ]
    },
    {
     "name": "stderr",
     "output_type": "stream",
     "text": [
      "/Users/robertarbon/miniconda3/envs/science/lib/python3.6/site-packages/msmtools/analysis/dense/pcca.py:287: ComplexWarning: Casting complex values to real discards the imaginary part\n",
      "  evecs[:, i] /= math.sqrt(np.dot(evecs[:, i] * pi, evecs[:, i]))\n"
     ]
    },
    {
     "name": "stdout",
     "output_type": "stream",
     "text": [
      "\tTrying idx = 404...OK!\n",
      "\tTrying idx = 62...OK!\n",
      "\tTrying idx = 563...OK!\n",
      "\tTrying idx = 229...OK!\n",
      "\tTrying idx = 475...OK!\n",
      "\tTrying idx = 628...OK!\n",
      "\tTrying idx = 635...OK!\n",
      "\tTrying idx = 854...OK!\n",
      "\tTrying idx = 723...OK!\n",
      "\tTrying idx = 644...OK!\n",
      "\tTrying idx = 651...OK!\n",
      "\tTrying idx = 419...OK!\n",
      "\tTrying idx = 180...OK!\n",
      "\tTrying idx = 195...OK!\n",
      "\tTrying idx = 825...OK!\n",
      "\tTrying idx = 482...OK!\n",
      "\tTrying idx = 933...OK!\n",
      "7\n",
      "\tTrying idx = 32...OK!\n",
      "\tTrying idx = 127...OK!\n"
     ]
    },
    {
     "name": "stderr",
     "output_type": "stream",
     "text": [
      "/Users/robertarbon/miniconda3/envs/science/lib/python3.6/site-packages/msmtools/analysis/dense/pcca.py:287: ComplexWarning: Casting complex values to real discards the imaginary part\n",
      "  evecs[:, i] /= math.sqrt(np.dot(evecs[:, i] * pi, evecs[:, i]))\n"
     ]
    },
    {
     "name": "stdout",
     "output_type": "stream",
     "text": [
      "\tTrying idx = 132...Failed - absorbing state :(\n",
      "\tTrying idx = 687...Failed - absorbing state :(\n",
      "\tTrying idx = 557...OK!\n",
      "\tTrying idx = 56...Failed - absorbing state :(\n",
      "\tTrying idx = 143...Failed - absorbing state :(\n",
      "\tTrying idx = 156...OK!\n",
      "\tTrying idx = 264...Failed - absorbing state :(\n",
      "\tTrying idx = 271...Failed - absorbing state :(\n",
      "\tTrying idx = 438...OK!\n",
      "\tTrying idx = 20...Failed - absorbing state :(\n",
      "\tTrying idx = 35...OK!\n",
      "\tTrying idx = 890...OK!\n",
      "\tTrying idx = 885...OK!\n",
      "\tTrying idx = 144...OK!\n",
      "\tTrying idx = 44...OK!\n",
      "\tTrying idx = 212...OK!\n",
      "\tTrying idx = 688...Failed - absorbing state :(\n",
      "\tTrying idx = 971...OK!\n",
      "\tTrying idx = 964...OK!\n",
      "\tTrying idx = 558...OK!\n",
      "\tTrying idx = 159...OK!\n"
     ]
    },
    {
     "name": "stderr",
     "output_type": "stream",
     "text": [
      "/Users/robertarbon/miniconda3/envs/science/lib/python3.6/site-packages/msmtools/analysis/dense/pcca.py:287: ComplexWarning: Casting complex values to real discards the imaginary part\n",
      "  evecs[:, i] /= math.sqrt(np.dot(evecs[:, i] * pi, evecs[:, i]))\n"
     ]
    },
    {
     "name": "stdout",
     "output_type": "stream",
     "text": [
      "\tTrying idx = 761...OK!\n",
      "\tTrying idx = 128...OK!\n",
      "\tTrying idx = 158...OK!\n",
      "\tTrying idx = 689...Failed - absorbing state :(\n",
      "\tTrying idx = 206...OK!\n",
      "\tTrying idx = 213...OK!\n",
      "\tTrying idx = 129...Failed - absorbing state :(\n",
      "\tTrying idx = 901...Failed - absorbing state :(\n",
      "\tTrying idx = 34...OK!\n"
     ]
    },
    {
     "name": "stderr",
     "output_type": "stream",
     "text": [
      "/Users/robertarbon/miniconda3/envs/science/lib/python3.6/site-packages/msmtools/analysis/dense/pcca.py:287: ComplexWarning: Casting complex values to real discards the imaginary part\n",
      "  evecs[:, i] /= math.sqrt(np.dot(evecs[:, i] * pi, evecs[:, i]))\n"
     ]
    },
    {
     "name": "stdout",
     "output_type": "stream",
     "text": [
      "\tTrying idx = 21...OK!\n",
      "\tTrying idx = 121...Failed - absorbing state :(\n",
      "\tTrying idx = 134...OK!\n",
      "\tTrying idx = 145...OK!\n",
      "\tTrying idx = 615...Failed - absorbing state :(\n",
      "\tTrying idx = 214...OK!\n",
      "\tTrying idx = 201...OK!\n",
      "\tTrying idx = 977...OK!\n",
      "\tTrying idx = 671...OK!\n",
      "\tTrying idx = 439...OK!\n",
      "\tTrying idx = 270...Failed - absorbing state :(\n",
      "\tTrying idx = 265...OK!\n",
      "\tTrying idx = 906...OK!\n",
      "\tTrying idx = 896...OK!\n",
      "\tTrying idx = 133...Failed - absorbing state :(\n",
      "\tTrying idx = 126...Failed - absorbing state :(\n",
      "\tTrying idx = 26...Failed - absorbing state :(\n",
      "\tTrying idx = 33...OK!\n",
      "\tTrying idx = 980...OK!\n",
      "\tTrying idx = 157...OK!\n",
      "\tTrying idx = 686...Failed - absorbing state :(\n",
      "\tTrying idx = 384...OK!\n",
      "\tTrying idx = 785...OK!\n",
      "\tTrying idx = 139...OK!\n",
      "\tTrying idx = 371...Failed - absorbing state :(\n",
      "\tTrying idx = 272...OK!\n",
      "\tTrying idx = 267...Failed - absorbing state :(\n",
      "\tTrying idx = 701...Failed - absorbing state :(\n",
      "\tTrying idx = 48...Failed - absorbing state :(\n",
      "\tTrying idx = 203...OK!\n",
      "\tTrying idx = 40...OK!\n",
      "\tTrying idx = 55...OK!\n",
      "\tTrying idx = 155...OK!\n",
      "\tTrying idx = 140...OK!\n",
      "\tTrying idx = 1...OK!\n",
      "\tTrying idx = 982...Failed - absorbing state :(\n",
      "\tTrying idx = 24...Failed - absorbing state :(\n",
      "\tTrying idx = 31...OK!\n",
      "\tTrying idx = 131...OK!\n"
     ]
    },
    {
     "name": "stderr",
     "output_type": "stream",
     "text": [
      "/Users/robertarbon/miniconda3/envs/science/lib/python3.6/site-packages/msmtools/analysis/dense/pcca.py:287: ComplexWarning: Casting complex values to real discards the imaginary part\n",
      "  evecs[:, i] /= math.sqrt(np.dot(evecs[:, i] * pi, evecs[:, i]))\n"
     ]
    },
    {
     "name": "stdout",
     "output_type": "stream",
     "text": [
      "\tTrying idx = 124...Failed - absorbing state :(\n",
      "\tTrying idx = 815...OK!\n",
      "\tTrying idx = 275...OK!\n",
      "\tTrying idx = 674...OK!\n",
      "\tTrying idx = 204...OK!\n",
      "\tTrying idx = 211...Failed - absorbing state :(\n",
      "\tTrying idx = 147...OK!\n",
      "\tTrying idx = 152...OK!\n"
     ]
    },
    {
     "name": "stderr",
     "output_type": "stream",
     "text": [
      "/Users/robertarbon/miniconda3/envs/science/lib/python3.6/site-packages/msmtools/analysis/dense/pcca.py:287: ComplexWarning: Casting complex values to real discards the imaginary part\n",
      "  evecs[:, i] /= math.sqrt(np.dot(evecs[:, i] * pi, evecs[:, i]))\n"
     ]
    },
    {
     "name": "stdout",
     "output_type": "stream",
     "text": [
      "\tTrying idx = 52...OK!\n",
      "\tTrying idx = 219...OK!\n",
      "\tTrying idx = 123...OK!\n",
      "\tTrying idx = 36...OK!\n",
      "\tTrying idx = 23...Failed - absorbing state :(\n",
      "\tTrying idx = 268...OK!\n",
      "\tTrying idx = 53...Failed - absorbing state :(\n",
      "\tTrying idx = 153...OK!\n"
     ]
    },
    {
     "name": "stderr",
     "output_type": "stream",
     "text": [
      "/Users/robertarbon/miniconda3/envs/science/lib/python3.6/site-packages/msmtools/analysis/dense/pcca.py:287: ComplexWarning: Casting complex values to real discards the imaginary part\n",
      "  evecs[:, i] /= math.sqrt(np.dot(evecs[:, i] * pi, evecs[:, i]))\n"
     ]
    },
    {
     "name": "stdout",
     "output_type": "stream",
     "text": [
      "\tTrying idx = 146...OK!\n",
      "\tTrying idx = 269...Failed - zero probability state :(\n",
      "\tTrying idx = 22...OK!\n",
      "\tTrying idx = 37...OK!\n",
      "\tTrying idx = 137...OK!\n"
     ]
    },
    {
     "name": "stderr",
     "output_type": "stream",
     "text": [
      "/Users/robertarbon/miniconda3/envs/science/lib/python3.6/site-packages/msmtools/analysis/dense/pcca.py:287: ComplexWarning: Casting complex values to real discards the imaginary part\n",
      "  evecs[:, i] /= math.sqrt(np.dot(evecs[:, i] * pi, evecs[:, i]))\n"
     ]
    },
    {
     "name": "stdout",
     "output_type": "stream",
     "text": [
      "\tTrying idx = 122...OK!\n",
      "\tTrying idx = 917...OK!\n",
      "\tTrying idx = 274...OK!\n",
      "\tTrying idx = 712...OK!\n",
      "\tTrying idx = 459...OK!\n",
      "\tTrying idx = 210...OK!\n",
      "\tTrying idx = 205...Failed - absorbing state :(\n",
      "\tTrying idx = 309...OK!\n",
      "\tTrying idx = 141...OK!\n",
      "\tTrying idx = 154...OK!\n",
      "\tTrying idx = 41...Failed - absorbing state :(\n",
      "\tTrying idx = 685...OK!\n",
      "\tTrying idx = 690...Failed - absorbing state :(\n",
      "\tTrying idx = 125...Failed - absorbing state :(\n",
      "\tTrying idx = 130...OK!\n"
     ]
    },
    {
     "name": "stderr",
     "output_type": "stream",
     "text": [
      "/Users/robertarbon/miniconda3/envs/science/lib/python3.6/site-packages/msmtools/analysis/dense/pcca.py:287: ComplexWarning: Casting complex values to real discards the imaginary part\n",
      "  evecs[:, i] /= math.sqrt(np.dot(evecs[:, i] * pi, evecs[:, i]))\n"
     ]
    },
    {
     "name": "stdout",
     "output_type": "stream",
     "text": [
      "\tTrying idx = 30...OK!\n",
      "\tTrying idx = 25...OK!\n",
      "\tTrying idx = 0...Failed - absorbing state :(\n",
      "\tTrying idx = 813...OK!\n",
      "\tTrying idx = 266...OK!\n",
      "\tTrying idx = 273...OK!\n",
      "\tTrying idx = 138...OK!\n"
     ]
    },
    {
     "name": "stderr",
     "output_type": "stream",
     "text": [
      "/Users/robertarbon/miniconda3/envs/science/lib/python3.6/site-packages/msmtools/analysis/dense/pcca.py:287: ComplexWarning: Casting complex values to real discards the imaginary part\n",
      "  evecs[:, i] /= math.sqrt(np.dot(evecs[:, i] * pi, evecs[:, i]))\n"
     ]
    },
    {
     "name": "stdout",
     "output_type": "stream",
     "text": [
      "\tTrying idx = 38...OK!\n",
      "\tTrying idx = 202...Failed - absorbing state :(\n",
      "\tTrying idx = 616...Failed - absorbing state :(\n",
      "\tTrying idx = 149...OK!\n"
     ]
    },
    {
     "name": "stderr",
     "output_type": "stream",
     "text": [
      "/Users/robertarbon/miniconda3/envs/science/lib/python3.6/site-packages/msmtools/analysis/dense/pcca.py:287: ComplexWarning: Casting complex values to real discards the imaginary part\n",
      "  evecs[:, i] /= math.sqrt(np.dot(evecs[:, i] * pi, evecs[:, i]))\n"
     ]
    },
    {
     "name": "stdout",
     "output_type": "stream",
     "text": [
      "\tTrying idx = 49...OK!\n",
      "\tTrying idx = 75...OK!\n",
      "\tTrying idx = 111...Failed - absorbing state :(\n",
      "\tTrying idx = 104...OK!\n",
      "\tTrying idx = 510...OK!\n",
      "\tTrying idx = 939...OK!\n",
      "\tTrying idx = 750...OK!\n",
      "\tTrying idx = 19...OK!\n",
      "\tTrying idx = 596...OK!\n",
      "\tTrying idx = 82...OK!\n",
      "\tTrying idx = 653...OK!\n",
      "\tTrying idx = 252...Failed - absorbing state :(\n",
      "\tTrying idx = 247...OK!\n",
      "\tTrying idx = 940...OK!\n",
      "\tTrying idx = 168...Failed - absorbing state :(\n",
      "\tTrying idx = 68...OK!\n",
      "\tTrying idx = 856...OK!\n",
      "\tTrying idx = 223...OK!\n",
      "\tTrying idx = 72...OK!\n",
      "\tTrying idx = 67...OK!\n",
      "\tTrying idx = 167...OK!\n",
      "\tTrying idx = 172...OK!\n",
      "\tTrying idx = 239...OK!\n",
      "\tTrying idx = 103...OK!\n",
      "\tTrying idx = 116...OK!\n"
     ]
    },
    {
     "name": "stderr",
     "output_type": "stream",
     "text": [
      "/Users/robertarbon/miniconda3/envs/science/lib/python3.6/site-packages/msmtools/analysis/dense/pcca.py:287: ComplexWarning: Casting complex values to real discards the imaginary part\n",
      "  evecs[:, i] /= math.sqrt(np.dot(evecs[:, i] * pi, evecs[:, i]))\n"
     ]
    },
    {
     "name": "stdout",
     "output_type": "stream",
     "text": [
      "\tTrying idx = 599...OK!\n",
      "\tTrying idx = 98...OK!\n",
      "\tTrying idx = 198...OK!\n",
      "\tTrying idx = 649...OK!\n",
      "\tTrying idx = 248...OK!\n",
      "\tTrying idx = 240...OK!\n",
      "\tTrying idx = 190...Failed - absorbing state :(\n",
      "\tTrying idx = 185...OK!\n",
      "\tTrying idx = 224...OK!\n",
      "\tTrying idx = 726...Failed - absorbing state :(\n",
      "\tTrying idx = 922...OK!\n",
      "\tTrying idx = 184...Failed - absorbing state :(\n",
      "\tTrying idx = 91...OK!\n",
      "\tTrying idx = 640...Failed - absorbing state :(\n",
      "\tTrying idx = 727...OK!\n",
      "\tTrying idx = 624...Failed - absorbing state :(\n",
      "\tTrying idx = 230...Failed - absorbing state :(\n",
      "\tTrying idx = 225...OK!\n",
      "\tTrying idx = 166...OK!\n",
      "\tTrying idx = 66...Failed - absorbing state :(\n",
      "\tTrying idx = 73...OK!\n",
      "\tTrying idx = 249...OK!\n",
      "\tTrying idx = 99...OK!\n",
      "\tTrying idx = 117...Failed - absorbing state :(\n",
      "\tTrying idx = 102...OK!\n",
      "\tTrying idx = 96...OK!\n",
      "\tTrying idx = 183...Failed - absorbing state :(\n",
      "\tTrying idx = 18...OK!\n",
      "\tTrying idx = 118...Failed - absorbing state :(\n",
      "\tTrying idx = 481...OK!\n",
      "\tTrying idx = 623...Failed - absorbing state :(\n",
      "\tTrying idx = 69...OK!\n",
      "\tTrying idx = 735...OK!\n",
      "\tTrying idx = 161...Failed - zero probability state :(\n",
      "\tTrying idx = 174...OK!\n",
      "\tTrying idx = 105...OK!\n",
      "\tTrying idx = 235...OK!\n"
     ]
    },
    {
     "name": "stderr",
     "output_type": "stream",
     "text": [
      "/Users/robertarbon/miniconda3/envs/science/lib/python3.6/site-packages/msmtools/analysis/dense/pcca.py:287: ComplexWarning: Casting complex values to real discards the imaginary part\n",
      "  evecs[:, i] /= math.sqrt(np.dot(evecs[:, i] * pi, evecs[:, i]))\n"
     ]
    },
    {
     "name": "stdout",
     "output_type": "stream",
     "text": [
      "\tTrying idx = 194...OK!\n",
      "\tTrying idx = 81...OK!\n",
      "\tTrying idx = 94...OK!\n",
      "\tTrying idx = 251...OK!\n",
      "\tTrying idx = 107...Failed - absorbing state :(\n",
      "\tTrying idx = 228...OK!\n",
      "\tTrying idx = 577...Failed - absorbing state :(\n",
      "\tTrying idx = 176...OK!\n",
      "\tTrying idx = 76...OK!\n",
      "\tTrying idx = 63...Failed - absorbing state :(\n",
      "\tTrying idx = 232...Failed - absorbing state :(\n",
      "\tTrying idx = 227...OK!\n",
      "\tTrying idx = 79...OK!\n",
      "\tTrying idx = 179...OK!\n",
      "\tTrying idx = 256...Failed - absorbing state :(\n",
      "\tTrying idx = 592...OK!\n",
      "\tTrying idx = 93...Failed - absorbing state :(\n",
      "\tTrying idx = 86...OK!\n",
      "\tTrying idx = 186...Failed - absorbing state :(\n",
      "\tTrying idx = 935...OK!\n",
      "\tTrying idx = 115...OK!\n",
      "\tTrying idx = 100...Failed - absorbing state :(\n",
      "\tTrying idx = 501...OK!\n",
      "\tTrying idx = 64...Failed - absorbing state :(\n",
      "\tTrying idx = 71...Failed - absorbing state :(\n",
      "\tTrying idx = 171...Failed - absorbing state :(\n",
      "\tTrying idx = 164...OK!\n",
      "\tTrying idx = 101...OK!\n",
      "\tTrying idx = 114...OK!\n",
      "\tTrying idx = 14...Failed - zero probability state :(\n",
      "\tTrying idx = 165...Failed - absorbing state :(\n",
      "\tTrying idx = 170...OK!\n",
      "\tTrying idx = 70...Failed - zero probability state :(\n",
      "\tTrying idx = 65...OK!\n",
      "\tTrying idx = 958...OK!\n",
      "\tTrying idx = 178...Failed - absorbing state :(\n",
      "\tTrying idx = 78...OK!\n",
      "\tTrying idx = 226...OK!\n",
      "\tTrying idx = 233...OK!\n",
      "\tTrying idx = 934...Failed - absorbing state :(\n",
      "\tTrying idx = 192...OK!\n",
      "\tTrying idx = 187...OK!\n"
     ]
    },
    {
     "name": "stderr",
     "output_type": "stream",
     "text": [
      "/Users/robertarbon/miniconda3/envs/science/lib/python3.6/site-packages/msmtools/analysis/dense/pcca.py:287: ComplexWarning: Casting complex values to real discards the imaginary part\n",
      "  evecs[:, i] /= math.sqrt(np.dot(evecs[:, i] * pi, evecs[:, i]))\n"
     ]
    },
    {
     "name": "stdout",
     "output_type": "stream",
     "text": [
      "\tTrying idx = 87...Failed - absorbing state :(\n",
      "\tTrying idx = 92...Failed - absorbing state :(\n",
      "\tTrying idx = 593...Failed - absorbing state :(\n",
      "\tTrying idx = 257...Failed - absorbing state :(\n",
      "\tTrying idx = 13...Failed - absorbing state :(\n",
      "\tTrying idx = 106...OK!\n",
      "\tTrying idx = 88...OK!\n",
      "\tTrying idx = 188...Failed - absorbing state :(\n",
      "\tTrying idx = 77...OK!\n",
      "\tTrying idx = 162...OK!\n",
      "\tTrying idx = 576...Failed - absorbing state :(\n",
      "\tTrying idx = 229...Failed - absorbing state :(\n",
      "\tTrying idx = 234...OK!\n",
      "\tTrying idx = 221...OK!\n"
     ]
    },
    {
     "name": "stderr",
     "output_type": "stream",
     "text": [
      "/Users/robertarbon/miniconda3/envs/science/lib/python3.6/site-packages/msmtools/analysis/dense/pcca.py:287: ComplexWarning: Casting complex values to real discards the imaginary part\n",
      "  evecs[:, i] /= math.sqrt(np.dot(evecs[:, i] * pi, evecs[:, i]))\n"
     ]
    },
    {
     "name": "stdout",
     "output_type": "stream",
     "text": [
      "\tTrying idx = 245...Failed - absorbing state :(\n",
      "\tTrying idx = 80...Failed - absorbing state :(\n",
      "\tTrying idx = 195...Failed - absorbing state :(\n",
      "\tTrying idx = 926...OK!\n",
      "8\n",
      "\tTrying idx = 2...OK!\n",
      "\tTrying idx = 882...OK!\n",
      "\tTrying idx = 897...OK!\n",
      "\tTrying idx = 32...Failed - absorbing state :(\n",
      "\tTrying idx = 27...OK!\n",
      "\tTrying idx = 791...OK!\n",
      "\tTrying idx = 784...OK!\n",
      "\tTrying idx = 868...OK!\n",
      "\tTrying idx = 441...Failed - absorbing state :(\n",
      "\tTrying idx = 454...OK!\n",
      "\tTrying idx = 692...OK!\n",
      "\tTrying idx = 557...OK!\n",
      "\tTrying idx = 963...OK!\n",
      "\tTrying idx = 215...OK!\n",
      "\tTrying idx = 601...OK!\n",
      "\tTrying idx = 875...OK!\n",
      "\tTrying idx = 799...OK!\n",
      "\tTrying idx = 907...OK!\n",
      "\tTrying idx = 912...OK!\n",
      "\tTrying idx = 264...OK!\n",
      "\tTrying idx = 35...OK!\n",
      "\tTrying idx = 885...OK!\n",
      "\tTrying idx = 534...OK!\n",
      "\tTrying idx = 769...OK!\n",
      "\tTrying idx = 908...OK!\n",
      "\tTrying idx = 986...OK!\n",
      "\tTrying idx = 993...OK!\n",
      "\tTrying idx = 5...Failed - absorbing state :(\n",
      "\tTrying idx = 545...Failed - absorbing state :(\n",
      "\tTrying idx = 550...OK!\n",
      "\tTrying idx = 281...Failed - absorbing state :(\n",
      "\tTrying idx = 294...OK!\n",
      "\tTrying idx = 453...OK!\n",
      "\tTrying idx = 446...OK!\n",
      "\tTrying idx = 796...OK!\n",
      "\tTrying idx = 872...OK!\n",
      "\tTrying idx = 613...OK!\n",
      "\tTrying idx = 207...OK!\n",
      "\tTrying idx = 289...Failed - absorbing state :(\n",
      "\tTrying idx = 971...OK!\n",
      "\tTrying idx = 964...OK!\n",
      "\tTrying idx = 311...OK!\n",
      "\tTrying idx = 159...Failed - zero probability state :(\n",
      "\tTrying idx = 900...OK!\n",
      "\tTrying idx = 774...OK!\n",
      "\tTrying idx = 761...OK!\n",
      "\tTrying idx = 375...Failed - absorbing state :(\n",
      "\tTrying idx = 898...OK!\n",
      "\tTrying idx = 158...OK!\n",
      "\tTrying idx = 559...Failed - absorbing state :(\n",
      "\tTrying idx = 965...OK!\n",
      "\tTrying idx = 970...OK!\n",
      "\tTrying idx = 288...Failed - zero probability state :(\n",
      "\tTrying idx = 866...OK!\n"
     ]
    },
    {
     "name": "stderr",
     "output_type": "stream",
     "text": [
      "/Users/robertarbon/miniconda3/envs/science/lib/python3.6/site-packages/msmtools/analysis/dense/pcca.py:287: ComplexWarning: Casting complex values to real discards the imaginary part\n",
      "  evecs[:, i] /= math.sqrt(np.dot(evecs[:, i] * pi, evecs[:, i]))\n"
     ]
    },
    {
     "name": "stdout",
     "output_type": "stream",
     "text": [
      "\tTrying idx = 899...OK!\n",
      "\tTrying idx = 374...Failed - absorbing state :(\n",
      "\tTrying idx = 528...OK!\n",
      "\tTrying idx = 901...OK!\n",
      "\tTrying idx = 4...Failed - absorbing state :(\n",
      "\tTrying idx = 520...OK!\n",
      "\tTrying idx = 34...OK!\n",
      "\tTrying idx = 21...OK!\n",
      "\tTrying idx = 884...OK!\n",
      "\tTrying idx = 797...OK!\n",
      "\tTrying idx = 396...Failed - absorbing state :(\n",
      "\tTrying idx = 295...OK!\n",
      "\tTrying idx = 544...OK!\n",
      "\tTrying idx = 45...OK!\n",
      "\tTrying idx = 798...OK!\n",
      "\tTrying idx = 615...OK!\n",
      "\tTrying idx = 214...Failed - zero probability state :(\n",
      "\tTrying idx = 977...OK!\n",
      "\tTrying idx = 439...Failed - absorbing state :(\n",
      "\tTrying idx = 913...OK!\n",
      "\tTrying idx = 906...OK!\n",
      "\tTrying idx = 896...Failed - zero probability state :(\n",
      "\tTrying idx = 33...OK!\n",
      "\tTrying idx = 527...OK!\n",
      "\tTrying idx = 287...OK!\n",
      "\tTrying idx = 455...OK!\n",
      "\tTrying idx = 869...OK!\n",
      "\tTrying idx = 785...OK!\n",
      "\tTrying idx = 765...OK!\n",
      "\tTrying idx = 39...Failed - absorbing state :(\n",
      "\tTrying idx = 911...OK!\n",
      "\tTrying idx = 904...OK!\n",
      "\tTrying idx = 666...OK!\n",
      "\tTrying idx = 673...OK!\n",
      "\tTrying idx = 9...Failed - absorbing state :(\n",
      "\tTrying idx = 807...OK!\n",
      "\tTrying idx = 48...Failed - absorbing state :(\n",
      "\tTrying idx = 876...OK!\n",
      "\tTrying idx = 285...Failed - absorbing state :(\n",
      "\tTrying idx = 290...OK!\n",
      "\tTrying idx = 55...Failed - absorbing state :(\n",
      "\tTrying idx = 140...OK!\n",
      "\tTrying idx = 554...Failed - absorbing state :(\n",
      "\tTrying idx = 1...OK!\n",
      "\tTrying idx = 525...Failed - absorbing state :(\n",
      "\tTrying idx = 530...OK!\n",
      "\tTrying idx = 815...OK!\n",
      "\tTrying idx = 800...OK!\n",
      "\tTrying idx = 260...Failed - absorbing state :(\n",
      "\tTrying idx = 903...OK!\n",
      "\tTrying idx = 916...OK!\n"
     ]
    },
    {
     "name": "stderr",
     "output_type": "stream",
     "text": [
      "/Users/robertarbon/miniconda3/envs/science/lib/python3.6/site-packages/msmtools/analysis/dense/pcca.py:287: ComplexWarning: Casting complex values to real discards the imaginary part\n",
      "  evecs[:, i] /= math.sqrt(np.dot(evecs[:, i] * pi, evecs[:, i]))\n"
     ]
    },
    {
     "name": "stdout",
     "output_type": "stream",
     "text": [
      "\tTrying idx = 762...OK!\n",
      "\tTrying idx = 204...OK!\n",
      "\tTrying idx = 458...OK!\n",
      "\tTrying idx = 610...OK!\n",
      "\tTrying idx = 972...OK!\n",
      "\tTrying idx = 312...OK!\n",
      "\tTrying idx = 553...OK!\n",
      "\tTrying idx = 546...OK!\n",
      "\tTrying idx = 52...Failed - absorbing state :(\n",
      "\tTrying idx = 47...OK!\n",
      "\tTrying idx = 297...OK!\n",
      "\tTrying idx = 282...Failed - absorbing state :(\n",
      "\tTrying idx = 445...Failed - absorbing state :(\n",
      "\tTrying idx = 450...OK!\n",
      "\tTrying idx = 219...OK!\n"
     ]
    },
    {
     "name": "stderr",
     "output_type": "stream",
     "text": [
      "/Users/robertarbon/miniconda3/envs/science/lib/python3.6/site-packages/msmtools/analysis/dense/pcca.py:287: ComplexWarning: Casting complex values to real discards the imaginary part\n",
      "  evecs[:, i] /= math.sqrt(np.dot(evecs[:, i] * pi, evecs[:, i]))\n"
     ]
    },
    {
     "name": "stdout",
     "output_type": "stream",
     "text": [
      "\tTrying idx = 795...OK!\n",
      "\tTrying idx = 780...OK!\n",
      "\tTrying idx = 537...OK!\n",
      "\tTrying idx = 522...OK!\n",
      "\tTrying idx = 886...OK!\n",
      "\tTrying idx = 36...OK!\n",
      "\tTrying idx = 990...OK!\n",
      "\tTrying idx = 781...OK!\n",
      "\tTrying idx = 296...OK!\n"
     ]
    },
    {
     "name": "stderr",
     "output_type": "stream",
     "text": [
      "/Users/robertarbon/miniconda3/envs/science/lib/python3.6/site-packages/msmtools/analysis/dense/pcca.py:287: ComplexWarning: Casting complex values to real discards the imaginary part\n",
      "  evecs[:, i] /= math.sqrt(np.dot(evecs[:, i] * pi, evecs[:, i]))\n"
     ]
    },
    {
     "name": "stdout",
     "output_type": "stream",
     "text": [
      "\tTrying idx = 46...Failed - absorbing state :(\n",
      "\tTrying idx = 53...OK!\n",
      "\tTrying idx = 153...Failed - absorbing state :(\n",
      "\tTrying idx = 552...OK!\n",
      "\tTrying idx = 7...Failed - absorbing state :(\n",
      "\tTrying idx = 984...OK!\n",
      "\tTrying idx = 887...OK!\n",
      "\tTrying idx = 22...OK!\n",
      "\tTrying idx = 37...Failed - absorbing state :(\n",
      "\tTrying idx = 523...OK!\n",
      "\tTrying idx = 776...OK!\n",
      "\tTrying idx = 902...OK!\n",
      "\tTrying idx = 814...OK!\n",
      "\tTrying idx = 313...Failed - absorbing state :(\n",
      "\tTrying idx = 973...OK!\n",
      "\tTrying idx = 966...OK!\n",
      "\tTrying idx = 789...OK!\n",
      "\tTrying idx = 54...OK!\n",
      "\tTrying idx = 284...OK!\n",
      "\tTrying idx = 969...OK!\n",
      "\tTrying idx = 793...OK!\n",
      "\tTrying idx = 786...OK!\n",
      "\tTrying idx = 779...OK!\n",
      "\tTrying idx = 30...OK!\n",
      "\tTrying idx = 378...Failed - absorbing state :(\n",
      "\tTrying idx = 918...OK!\n",
      "\tTrying idx = 996...OK!\n",
      "\tTrying idx = 983...OK!\n",
      "\tTrying idx = 0...Failed - absorbing state :(\n",
      "\tTrying idx = 806...OK!\n"
     ]
    },
    {
     "name": "stderr",
     "output_type": "stream",
     "text": [
      "/Users/robertarbon/miniconda3/envs/science/lib/python3.6/site-packages/msmtools/analysis/dense/pcca.py:287: ComplexWarning: Casting complex values to real discards the imaginary part\n",
      "  evecs[:, i] /= math.sqrt(np.dot(evecs[:, i] * pi, evecs[:, i]))\n"
     ]
    },
    {
     "name": "stdout",
     "output_type": "stream",
     "text": [
      "\tTrying idx = 266...OK!\n",
      "\tTrying idx = 273...OK!\n",
      "\tTrying idx = 672...OK!\n",
      "\tTrying idx = 667...Failed - absorbing state :(\n",
      "\tTrying idx = 905...OK!\n",
      "\tTrying idx = 910...OK!\n",
      "\tTrying idx = 888...OK!\n",
      "\tTrying idx = 877...OK!\n",
      "\tTrying idx = 49...Failed - zero probability state :(\n",
      "\tTrying idx = 548...OK!\n",
      "\tTrying idx = 729...OK!\n",
      "\tTrying idx = 406...OK!\n",
      "\tTrying idx = 11...Failed - absorbing state :(\n",
      "\tTrying idx = 939...OK!\n",
      "\tTrying idx = 488...OK!\n",
      "\tTrying idx = 931...OK!\n",
      "\tTrying idx = 924...OK!\n",
      "\tTrying idx = 596...OK!\n",
      "\tTrying idx = 827...OK!\n",
      "\tTrying idx = 197...OK!\n",
      "\tTrying idx = 82...OK!\n",
      "\tTrying idx = 247...OK!\n",
      "\tTrying idx = 955...OK!\n",
      "\tTrying idx = 940...OK!\n",
      "\tTrying idx = 573...OK!\n",
      "\tTrying idx = 72...Failed - absorbing state :(\n",
      "\tTrying idx = 517...OK!\n",
      "\tTrying idx = 502...OK!\n",
      "\tTrying idx = 255...OK!\n",
      "\tTrying idx = 923...OK!\n",
      "\tTrying idx = 936...OK!\n",
      "\tTrying idx = 492...OK!\n",
      "\tTrying idx = 952...OK!\n",
      "\tTrying idx = 937...OK!\n",
      "\tTrying idx = 821...OK!\n",
      "\tTrying idx = 254...OK!\n",
      "\tTrying idx = 946...OK!\n",
      "\tTrying idx = 732...OK!\n",
      "\tTrying idx = 850...OK!\n",
      "\tTrying idx = 238...Failed - absorbing state :(\n",
      "\tTrying idx = 73...OK!\n",
      "\tTrying idx = 598...OK!\n"
     ]
    },
    {
     "name": "stderr",
     "output_type": "stream",
     "text": [
      "/Users/robertarbon/miniconda3/envs/science/lib/python3.6/site-packages/msmtools/analysis/dense/pcca.py:287: ComplexWarning: Casting complex values to real discards the imaginary part\n",
      "  evecs[:, i] /= math.sqrt(np.dot(evecs[:, i] * pi, evecs[:, i]))\n"
     ]
    },
    {
     "name": "stdout",
     "output_type": "stream",
     "text": [
      "\tTrying idx = 503...OK!\n",
      "\tTrying idx = 516...OK!\n",
      "\tTrying idx = 246...OK!\n",
      "\tTrying idx = 826...OK!\n",
      "\tTrying idx = 597...Failed - absorbing state :(\n",
      "\tTrying idx = 519...OK!\n",
      "\tTrying idx = 751...Failed - absorbing state :(\n",
      "\tTrying idx = 69...Failed - absorbing state :(\n",
      "\tTrying idx = 735...OK!\n",
      "\tTrying idx = 941...OK!\n",
      "\tTrying idx = 954...OK!\n",
      "\tTrying idx = 728...OK!\n",
      "\tTrying idx = 560...OK!\n",
      "\tTrying idx = 74...OK!\n",
      "\tTrying idx = 938...OK!\n",
      "\tTrying idx = 511...OK!\n",
      "\tTrying idx = 504...OK!\n",
      "\tTrying idx = 759...OK!\n",
      "\tTrying idx = 855...OK!\n",
      "\tTrying idx = 220...OK!\n",
      "\tTrying idx = 927...OK!\n",
      "\tTrying idx = 181...Failed - zero probability state :(\n",
      "\tTrying idx = 81...OK!\n",
      "\tTrying idx = 824...OK!\n",
      "\tTrying idx = 189...OK!\n",
      "\tTrying idx = 513...OK!\n",
      "\tTrying idx = 461...OK!\n",
      "\tTrying idx = 228...OK!\n",
      "\tTrying idx = 76...OK!\n"
     ]
    },
    {
     "name": "stderr",
     "output_type": "stream",
     "text": [
      "/Users/robertarbon/miniconda3/envs/science/lib/python3.6/site-packages/msmtools/analysis/dense/pcca.py:287: ComplexWarning: Casting complex values to real discards the imaginary part\n",
      "  evecs[:, i] /= math.sqrt(np.dot(evecs[:, i] * pi, evecs[:, i]))\n"
     ]
    },
    {
     "name": "stdout",
     "output_type": "stream",
     "text": [
      "\tTrying idx = 63...OK!\n"
     ]
    },
    {
     "name": "stderr",
     "output_type": "stream",
     "text": [
      "/Users/robertarbon/miniconda3/envs/science/lib/python3.6/site-packages/msmtools/analysis/dense/pcca.py:287: ComplexWarning: Casting complex values to real discards the imaginary part\n",
      "  evecs[:, i] /= math.sqrt(np.dot(evecs[:, i] * pi, evecs[:, i]))\n"
     ]
    },
    {
     "name": "stdout",
     "output_type": "stream",
     "text": [
      "\tTrying idx = 227...OK!\n",
      "\tTrying idx = 79...Failed - absorbing state :(\n",
      "\tTrying idx = 179...Failed - absorbing state :(\n",
      "\tTrying idx = 944...OK!\n"
     ]
    },
    {
     "name": "stderr",
     "output_type": "stream",
     "text": [
      "/Users/robertarbon/miniconda3/envs/science/lib/python3.6/site-packages/msmtools/analysis/dense/pcca.py:287: ComplexWarning: Casting complex values to real discards the imaginary part\n",
      "  evecs[:, i] /= math.sqrt(np.dot(evecs[:, i] * pi, evecs[:, i]))\n"
     ]
    },
    {
     "name": "stdout",
     "output_type": "stream",
     "text": [
      "\tTrying idx = 256...Failed - absorbing state :(\n",
      "\tTrying idx = 243...OK!\n",
      "\tTrying idx = 592...OK!\n",
      "\tTrying idx = 823...OK!\n",
      "\tTrying idx = 509...OK!\n",
      "\tTrying idx = 754...OK!\n",
      "\tTrying idx = 355...OK!\n",
      "\tTrying idx = 935...OK!\n",
      "\tTrying idx = 514...OK!\n",
      "\tTrying idx = 738...OK!\n",
      "\tTrying idx = 565...OK!\n",
      "\tTrying idx = 515...OK!\n",
      "\tTrying idx = 500...OK!\n",
      "\tTrying idx = 14...OK!\n",
      "\tTrying idx = 929...OK!\n",
      "\tTrying idx = 467...OK!\n",
      "\tTrying idx = 472...OK!\n",
      "\tTrying idx = 739...OK!\n",
      "\tTrying idx = 178...OK!\n",
      "\tTrying idx = 853...OK!\n",
      "\tTrying idx = 921...OK!\n",
      "\tTrying idx = 934...OK!\n",
      "\tTrying idx = 192...OK!\n",
      "\tTrying idx = 13...Failed - absorbing state :(\n",
      "\tTrying idx = 507...OK!\n",
      "\tTrying idx = 512...OK!\n",
      "\tTrying idx = 589...OK!\n",
      "\tTrying idx = 62...OK!\n",
      "\tTrying idx = 77...OK!\n",
      "\tTrying idx = 849...OK!\n",
      "\tTrying idx = 229...OK!\n",
      "\tTrying idx = 475...Failed - absorbing state :(\n",
      "\tTrying idx = 460...OK!\n",
      "\tTrying idx = 628...OK!\n",
      "\tTrying idx = 468...OK!\n"
     ]
    },
    {
     "name": "stderr",
     "output_type": "stream",
     "text": [
      "/Users/robertarbon/miniconda3/envs/science/lib/python3.6/site-packages/msmtools/analysis/dense/pcca.py:287: ComplexWarning: Casting complex values to real discards the imaginary part\n",
      "  evecs[:, i] /= math.sqrt(np.dot(evecs[:, i] * pi, evecs[:, i]))\n"
     ]
    },
    {
     "name": "stdout",
     "output_type": "stream",
     "text": [
      "\tTrying idx = 942...OK!\n",
      "\tTrying idx = 80...Failed - absorbing state :(\n",
      "\tTrying idx = 180...OK!\n",
      "\tTrying idx = 195...OK!\n",
      "\tTrying idx = 752...OK!\n",
      "\tTrying idx = 346...Failed - absorbing state :(\n",
      "\tTrying idx = 353...Failed - absorbing state :(\n",
      "\tTrying idx = 497...OK!\n",
      "\tTrying idx = 933...OK!\n",
      "\tTrying idx = 926...OK!\n",
      "9\n",
      "\tTrying idx = 2...OK!\n",
      "\tTrying idx = 430...OK!\n",
      "\tTrying idx = 279...OK!\n",
      "\tTrying idx = 132...OK!\n",
      "\tTrying idx = 791...OK!\n",
      "\tTrying idx = 784...OK!\n",
      "\tTrying idx = 868...OK!\n",
      "\tTrying idx = 390...OK!\n",
      "\tTrying idx = 441...OK!\n",
      "\tTrying idx = 557...OK!\n",
      "\tTrying idx = 542...OK!\n"
     ]
    },
    {
     "name": "stderr",
     "output_type": "stream",
     "text": [
      "/Users/robertarbon/miniconda3/envs/science/lib/python3.6/site-packages/msmtools/analysis/dense/pcca.py:287: ComplexWarning: Casting complex values to real discards the imaginary part\n",
      "  evecs[:, i] /= math.sqrt(np.dot(evecs[:, i] * pi, evecs[:, i]))\n"
     ]
    },
    {
     "name": "stdout",
     "output_type": "stream",
     "text": [
      "\tTrying idx = 56...OK!\n",
      "\tTrying idx = 156...Failed - absorbing state :(\n",
      "\tTrying idx = 303...Failed - absorbing state :(\n",
      "\tTrying idx = 200...OK!\n",
      "\tTrying idx = 860...OK!\n",
      "\tTrying idx = 372...OK!\n",
      "\tTrying idx = 367...OK!\n",
      "\tTrying idx = 912...OK!\n",
      "\tTrying idx = 989...OK!\n",
      "\tTrying idx = 264...Failed - zero probability state :(\n",
      "\tTrying idx = 271...OK!\n",
      "\tTrying idx = 438...OK!\n",
      "\tTrying idx = 120...OK!\n",
      "\tTrying idx = 993...Failed - absorbing state :(\n",
      "\tTrying idx = 437...OK!\n",
      "\tTrying idx = 5...OK!\n",
      "\tTrying idx = 44...Failed - absorbing state :(\n",
      "\tTrying idx = 281...OK!\n",
      "\tTrying idx = 294...OK!\n",
      "\tTrying idx = 979...OK!\n",
      "\tTrying idx = 783...OK!\n",
      "\tTrying idx = 872...Failed - absorbing state :(\n",
      "\tTrying idx = 212...OK!\n",
      "\tTrying idx = 304...OK!\n",
      "\tTrying idx = 159...OK!\n",
      "\tTrying idx = 803...OK!\n",
      "\tTrying idx = 276...OK!\n",
      "\tTrying idx = 915...OK!\n",
      "\tTrying idx = 900...OK!\n",
      "\tTrying idx = 128...Failed - absorbing state :(\n",
      "\tTrying idx = 360...OK!\n",
      "\tTrying idx = 310...OK!\n"
     ]
    },
    {
     "name": "stderr",
     "output_type": "stream",
     "text": [
      "/Users/robertarbon/miniconda3/envs/science/lib/python3.6/site-packages/msmtools/analysis/dense/pcca.py:287: ComplexWarning: Casting complex values to real discards the imaginary part\n",
      "  evecs[:, i] /= math.sqrt(np.dot(evecs[:, i] * pi, evecs[:, i]))\n"
     ]
    },
    {
     "name": "stdout",
     "output_type": "stream",
     "text": [
      "\tTrying idx = 305...OK!\n",
      "\tTrying idx = 213...OK!\n",
      "\tTrying idx = 873...Failed - absorbing state :(\n",
      "\tTrying idx = 866...Failed - absorbing state :(\n",
      "\tTrying idx = 899...OK!\n",
      "\tTrying idx = 374...OK!\n",
      "\tTrying idx = 760...OK!\n"
     ]
    },
    {
     "name": "stderr",
     "output_type": "stream",
     "text": [
      "/Users/robertarbon/miniconda3/envs/science/lib/python3.6/site-packages/msmtools/analysis/dense/pcca.py:287: ComplexWarning: Casting complex values to real discards the imaginary part\n",
      "  evecs[:, i] /= math.sqrt(np.dot(evecs[:, i] * pi, evecs[:, i]))\n"
     ]
    },
    {
     "name": "stdout",
     "output_type": "stream",
     "text": [
      "\tTrying idx = 914...OK!\n",
      "\tTrying idx = 992...OK!\n",
      "\tTrying idx = 987...Failed - absorbing state :(\n",
      "\tTrying idx = 134...OK!\n",
      "\tTrying idx = 782...OK!\n",
      "\tTrying idx = 295...OK!\n",
      "\tTrying idx = 50...Failed - absorbing state :(\n",
      "\tTrying idx = 45...OK!\n",
      "\tTrying idx = 861...OK!\n",
      "\tTrying idx = 615...OK!\n",
      "\tTrying idx = 201...OK!\n",
      "\tTrying idx = 439...OK!\n",
      "\tTrying idx = 270...OK!\n",
      "\tTrying idx = 913...OK!\n",
      "\tTrying idx = 366...Failed - absorbing state :(\n",
      "\tTrying idx = 373...OK!\n",
      "\tTrying idx = 133...Failed - absorbing state :(\n",
      "\tTrying idx = 278...Failed - absorbing state :(\n",
      "\tTrying idx = 431...OK!\n",
      "\tTrying idx = 157...OK!\n",
      "\tTrying idx = 142...OK!\n",
      "\tTrying idx = 57...OK!\n",
      "\tTrying idx = 543...OK!\n",
      "\tTrying idx = 292...OK!\n"
     ]
    },
    {
     "name": "stderr",
     "output_type": "stream",
     "text": [
      "/Users/robertarbon/miniconda3/envs/science/lib/python3.6/site-packages/msmtools/analysis/dense/pcca.py:287: ComplexWarning: Casting complex values to real discards the imaginary part\n",
      "  evecs[:, i] /= math.sqrt(np.dot(evecs[:, i] * pi, evecs[:, i]))\n"
     ]
    },
    {
     "name": "stdout",
     "output_type": "stream",
     "text": [
      "\tTrying idx = 440...OK!\n",
      "\tTrying idx = 608...OK!\n",
      "\tTrying idx = 391...OK!\n",
      "\tTrying idx = 384...OK!\n",
      "\tTrying idx = 785...OK!\n",
      "\tTrying idx = 790...Failed - absorbing state :(\n",
      "\tTrying idx = 538...OK!\n",
      "\tTrying idx = 139...OK!\n",
      "\tTrying idx = 371...OK!\n"
     ]
    },
    {
     "name": "stderr",
     "output_type": "stream",
     "text": [
      "/Users/robertarbon/miniconda3/envs/science/lib/python3.6/site-packages/msmtools/analysis/dense/pcca.py:287: ComplexWarning: Casting complex values to real discards the imaginary part\n",
      "  evecs[:, i] /= math.sqrt(np.dot(evecs[:, i] * pi, evecs[:, i]))\n"
     ]
    },
    {
     "name": "stdout",
     "output_type": "stream",
     "text": [
      "\tTrying idx = 911...Failed - absorbing state :(\n",
      "\tTrying idx = 272...OK!\n",
      "\tTrying idx = 267...OK!\n",
      "\tTrying idx = 9...Failed - absorbing state :(\n",
      "\tTrying idx = 812...OK!\n",
      "\tTrying idx = 216...OK!\n",
      "\tTrying idx = 787...OK!\n",
      "\tTrying idx = 442...OK!\n"
     ]
    },
    {
     "name": "stderr",
     "output_type": "stream",
     "text": [
      "/Users/robertarbon/miniconda3/envs/science/lib/python3.6/site-packages/msmtools/analysis/dense/pcca.py:287: ComplexWarning: Casting complex values to real discards the imaginary part\n",
      "  evecs[:, i] /= math.sqrt(np.dot(evecs[:, i] * pi, evecs[:, i]))\n"
     ]
    },
    {
     "name": "stdout",
     "output_type": "stream",
     "text": [
      "\tTrying idx = 285...OK!\n"
     ]
    },
    {
     "name": "stderr",
     "output_type": "stream",
     "text": [
      "/Users/robertarbon/miniconda3/envs/science/lib/python3.6/site-packages/msmtools/analysis/dense/pcca.py:287: ComplexWarning: Casting complex values to real discards the imaginary part\n",
      "  evecs[:, i] /= math.sqrt(np.dot(evecs[:, i] * pi, evecs[:, i]))\n"
     ]
    },
    {
     "name": "stdout",
     "output_type": "stream",
     "text": [
      "\tTrying idx = 290...Failed - absorbing state :(\n",
      "\tTrying idx = 308...OK!\n",
      "\tTrying idx = 554...OK!\n",
      "\tTrying idx = 997...Failed - absorbing state :(\n",
      "\tTrying idx = 426...OK!\n",
      "\tTrying idx = 919...OK!\n",
      "\tTrying idx = 131...OK!\n",
      "\tTrying idx = 124...OK!\n",
      "\tTrying idx = 881...OK!\n",
      "\tTrying idx = 815...OK!\n",
      "\tTrying idx = 275...Failed - absorbing state :(\n",
      "\tTrying idx = 998...OK!\n",
      "\tTrying idx = 429...Failed - absorbing state :(\n",
      "\tTrying idx = 916...OK!\n",
      "\tTrying idx = 363...OK!\n",
      "\tTrying idx = 389...OK!\n",
      "\tTrying idx = 864...OK!\n",
      "\tTrying idx = 788...OK!\n",
      "\tTrying idx = 204...OK!\n",
      "\tTrying idx = 211...Failed - zero probability state :(\n",
      "\tTrying idx = 307...Failed - zero probability state :(\n",
      "\tTrying idx = 546...OK!\n",
      "\tTrying idx = 152...Failed - absorbing state :(\n",
      "\tTrying idx = 282...OK!\n",
      "\tTrying idx = 780...Failed - absorbing state :(\n",
      "\tTrying idx = 394...OK!\n"
     ]
    },
    {
     "name": "stderr",
     "output_type": "stream",
     "text": [
      "/Users/robertarbon/miniconda3/envs/science/lib/python3.6/site-packages/msmtools/analysis/dense/pcca.py:287: ComplexWarning: Casting complex values to real discards the imaginary part\n",
      "  evecs[:, i] /= math.sqrt(np.dot(evecs[:, i] * pi, evecs[:, i]))\n"
     ]
    },
    {
     "name": "stdout",
     "output_type": "stream",
     "text": [
      "\tTrying idx = 879...OK!\n",
      "\tTrying idx = 136...Failed - absorbing state :(\n",
      "\tTrying idx = 268...OK!\n",
      "\tTrying idx = 990...OK!\n",
      "\tTrying idx = 6...OK!\n",
      "\tTrying idx = 781...OK!\n",
      "\tTrying idx = 218...OK!\n"
     ]
    },
    {
     "name": "stderr",
     "output_type": "stream",
     "text": [
      "/Users/robertarbon/miniconda3/envs/science/lib/python3.6/site-packages/msmtools/analysis/dense/pcca.py:287: ComplexWarning: Casting complex values to real discards the imaginary part\n",
      "  evecs[:, i] /= math.sqrt(np.dot(evecs[:, i] * pi, evecs[:, i]))\n"
     ]
    },
    {
     "name": "stdout",
     "output_type": "stream",
     "text": [
      "\tTrying idx = 7...Failed - absorbing state :(\n",
      "\tTrying idx = 991...OK!\n"
     ]
    },
    {
     "name": "stderr",
     "output_type": "stream",
     "text": [
      "/Users/robertarbon/miniconda3/envs/science/lib/python3.6/site-packages/msmtools/analysis/dense/pcca.py:287: ComplexWarning: Casting complex values to real discards the imaginary part\n",
      "  evecs[:, i] /= math.sqrt(np.dot(evecs[:, i] * pi, evecs[:, i]))\n"
     ]
    },
    {
     "name": "stdout",
     "output_type": "stream",
     "text": [
      "\tTrying idx = 269...OK!\n",
      "\tTrying idx = 887...OK!\n",
      "\tTrying idx = 37...OK!\n",
      "\tTrying idx = 137...OK!\n",
      "\tTrying idx = 362...OK!\n",
      "\tTrying idx = 377...OK!\n",
      "\tTrying idx = 917...OK!\n",
      "\tTrying idx = 428...OK!\n",
      "\tTrying idx = 274...Failed - absorbing state :(\n",
      "\tTrying idx = 306...OK!\n",
      "\tTrying idx = 313...OK!\n",
      "\tTrying idx = 604...OK!\n",
      "\tTrying idx = 205...OK!\n",
      "\tTrying idx = 865...OK!\n",
      "\tTrying idx = 870...OK!\n"
     ]
    },
    {
     "name": "stderr",
     "output_type": "stream",
     "text": [
      "/Users/robertarbon/miniconda3/envs/science/lib/python3.6/site-packages/msmtools/analysis/dense/pcca.py:287: ComplexWarning: Casting complex values to real discards the imaginary part\n",
      "  evecs[:, i] /= math.sqrt(np.dot(evecs[:, i] * pi, evecs[:, i]))\n"
     ]
    },
    {
     "name": "stdout",
     "output_type": "stream",
     "text": [
      "\tTrying idx = 291...Failed - absorbing state :(\n",
      "\tTrying idx = 443...OK!\n",
      "\tTrying idx = 786...OK!\n",
      "\tTrying idx = 387...OK!\n",
      "\tTrying idx = 130...OK!\n",
      "\tTrying idx = 378...OK!\n",
      "\tTrying idx = 880...OK!\n",
      "\tTrying idx = 895...OK!\n",
      "\tTrying idx = 918...OK!\n",
      "\tTrying idx = 427...OK!\n",
      "\tTrying idx = 813...OK!\n",
      "\tTrying idx = 266...OK!\n",
      "\tTrying idx = 273...Failed - absorbing state :(\n",
      "\tTrying idx = 138...OK!\n",
      "\tTrying idx = 888...OK!\n",
      "\tTrying idx = 862...OK!\n",
      "\tTrying idx = 202...OK!\n",
      "\tTrying idx = 217...OK!\n",
      "\tTrying idx = 301...OK!\n",
      "\tTrying idx = 477...Failed - absorbing state :(\n",
      "\tTrying idx = 328...Failed - absorbing state :(\n",
      "\tTrying idx = 160...Failed - absorbing state :(\n",
      "\tTrying idx = 60...Failed - absorbing state :(\n",
      "\tTrying idx = 75...Failed - absorbing state :(\n",
      "\tTrying idx = 11...Failed - absorbing state :(\n",
      "\tTrying idx = 359...OK!\n",
      "\tTrying idx = 505...Failed - absorbing state :(\n",
      "\tTrying idx = 758...OK!\n",
      "\tTrying idx = 931...OK!\n",
      "\tTrying idx = 924...OK!\n",
      "\tTrying idx = 344...OK!\n",
      "\tTrying idx = 351...OK!\n",
      "\tTrying idx = 827...Failed - absorbing state :(\n",
      "\tTrying idx = 252...OK!\n",
      "\tTrying idx = 247...OK!\n",
      "\tTrying idx = 569...Failed - absorbing state :(\n",
      "\tTrying idx = 68...Failed - absorbing state :(\n",
      "\tTrying idx = 856...OK!\n",
      "\tTrying idx = 637...Failed - absorbing state :(\n",
      "\tTrying idx = 236...Failed - absorbing state :(\n",
      "\tTrying idx = 223...Failed - absorbing state :(\n",
      "\tTrying idx = 72...Failed - absorbing state :(\n",
      "\tTrying idx = 67...Failed - absorbing state :(\n",
      "\tTrying idx = 172...OK!\n",
      "\tTrying idx = 859...OK!\n"
     ]
    },
    {
     "name": "stderr",
     "output_type": "stream",
     "text": [
      "/Users/robertarbon/miniconda3/envs/science/lib/python3.6/site-packages/msmtools/analysis/dense/pcca.py:287: ComplexWarning: Casting complex values to real discards the imaginary part\n",
      "  evecs[:, i] /= math.sqrt(np.dot(evecs[:, i] * pi, evecs[:, i]))\n"
     ]
    },
    {
     "name": "stdout",
     "output_type": "stream",
     "text": [
      "\tTrying idx = 239...OK!\n",
      "\tTrying idx = 16...OK!\n",
      "\tTrying idx = 103...OK!\n",
      "\tTrying idx = 248...Failed - absorbing state :(\n",
      "\tTrying idx = 240...OK!\n",
      "\tTrying idx = 255...Failed - absorbing state :(\n",
      "\tTrying idx = 90...Failed - absorbing state :(\n",
      "\tTrying idx = 591...OK!\n",
      "\tTrying idx = 356...OK!\n",
      "\tTrying idx = 487...Failed - absorbing state :(\n",
      "\tTrying idx = 224...Failed - absorbing state :(\n",
      "\tTrying idx = 231...Failed - absorbing state :(\n",
      "\tTrying idx = 332...OK!\n",
      "\tTrying idx = 486...Failed - absorbing state :(\n",
      "\tTrying idx = 922...OK!\n"
     ]
    },
    {
     "name": "stderr",
     "output_type": "stream",
     "text": [
      "/Users/robertarbon/miniconda3/envs/science/lib/python3.6/site-packages/msmtools/analysis/dense/pcca.py:287: ComplexWarning: Casting complex values to real discards the imaginary part\n",
      "  evecs[:, i] /= math.sqrt(np.dot(evecs[:, i] * pi, evecs[:, i]))\n"
     ]
    },
    {
     "name": "stdout",
     "output_type": "stream",
     "text": [
      "\tTrying idx = 342...OK!\n",
      "\tTrying idx = 357...OK!\n",
      "\tTrying idx = 91...Failed - zero probability state :(\n",
      "\tTrying idx = 254...OK!\n",
      "\tTrying idx = 241...OK!\n"
     ]
    },
    {
     "name": "stderr",
     "output_type": "stream",
     "text": [
      "/Users/robertarbon/miniconda3/envs/science/lib/python3.6/site-packages/msmtools/analysis/dense/pcca.py:287: ComplexWarning: Casting complex values to real discards the imaginary part\n",
      "  evecs[:, i] /= math.sqrt(np.dot(evecs[:, i] * pi, evecs[:, i]))\n"
     ]
    },
    {
     "name": "stdout",
     "output_type": "stream",
     "text": [
      "\tTrying idx = 326...OK!\n",
      "\tTrying idx = 333...OK!\n",
      "\tTrying idx = 631...OK!\n"
     ]
    },
    {
     "name": "stderr",
     "output_type": "stream",
     "text": [
      "/Users/robertarbon/miniconda3/envs/science/lib/python3.6/site-packages/msmtools/analysis/dense/pcca.py:287: ComplexWarning: Casting complex values to real discards the imaginary part\n",
      "  evecs[:, i] /= math.sqrt(np.dot(evecs[:, i] * pi, evecs[:, i]))\n"
     ]
    },
    {
     "name": "stdout",
     "output_type": "stream",
     "text": [
      "\tTrying idx = 225...OK!\n",
      "\tTrying idx = 238...OK!\n",
      "\tTrying idx = 102...OK!\n",
      "\tTrying idx = 17...Failed - absorbing state :(\n",
      "\tTrying idx = 503...OK!\n",
      "\tTrying idx = 246...OK!\n",
      "\tTrying idx = 183...OK!\n",
      "\tTrying idx = 350...OK!\n",
      "\tTrying idx = 345...OK!\n",
      "\tTrying idx = 519...OK!\n",
      "\tTrying idx = 494...OK!\n"
     ]
    },
    {
     "name": "stderr",
     "output_type": "stream",
     "text": [
      "/Users/robertarbon/miniconda3/envs/science/lib/python3.6/site-packages/msmtools/analysis/dense/pcca.py:287: ComplexWarning: Casting complex values to real discards the imaginary part\n",
      "  evecs[:, i] /= math.sqrt(np.dot(evecs[:, i] * pi, evecs[:, i]))\n"
     ]
    },
    {
     "name": "stdout",
     "output_type": "stream",
     "text": [
      "\tTrying idx = 237...OK!\n"
     ]
    },
    {
     "name": "stderr",
     "output_type": "stream",
     "text": [
      "/Users/robertarbon/miniconda3/envs/science/lib/python3.6/site-packages/msmtools/analysis/dense/pcca.py:287: ComplexWarning: Casting complex values to real discards the imaginary part\n",
      "  evecs[:, i] /= math.sqrt(np.dot(evecs[:, i] * pi, evecs[:, i]))\n"
     ]
    },
    {
     "name": "stdout",
     "output_type": "stream",
     "text": [
      "\tTrying idx = 636...OK!\n",
      "\tTrying idx = 321...OK!\n"
     ]
    },
    {
     "name": "stderr",
     "output_type": "stream",
     "text": [
      "/Users/robertarbon/miniconda3/envs/science/lib/python3.6/site-packages/msmtools/analysis/dense/pcca.py:287: ComplexWarning: Casting complex values to real discards the imaginary part\n",
      "  evecs[:, i] /= math.sqrt(np.dot(evecs[:, i] * pi, evecs[:, i]))\n"
     ]
    },
    {
     "name": "stdout",
     "output_type": "stream",
     "text": [
      "\tTrying idx = 69...OK!\n"
     ]
    },
    {
     "name": "stderr",
     "output_type": "stream",
     "text": [
      "/Users/robertarbon/miniconda3/envs/science/lib/python3.6/site-packages/msmtools/analysis/dense/pcca.py:287: ComplexWarning: Casting complex values to real discards the imaginary part\n",
      "  evecs[:, i] /= math.sqrt(np.dot(evecs[:, i] * pi, evecs[:, i]))\n"
     ]
    },
    {
     "name": "stdout",
     "output_type": "stream",
     "text": [
      "\tTrying idx = 941...OK!\n",
      "\tTrying idx = 329...OK!\n",
      "\tTrying idx = 74...Failed - absorbing state :(\n",
      "\tTrying idx = 476...OK!\n",
      "\tTrying idx = 358...OK!\n",
      "\tTrying idx = 336...OK!\n",
      "\tTrying idx = 323...Failed - absorbing state :(\n",
      "\tTrying idx = 220...OK!\n",
      "\tTrying idx = 235...Failed - absorbing state :(\n",
      "\tTrying idx = 469...OK!\n",
      "\tTrying idx = 352...OK!\n",
      "\tTrying idx = 347...OK!\n",
      "\tTrying idx = 81...OK!\n",
      "\tTrying idx = 580...OK!\n",
      "\tTrying idx = 244...OK!\n",
      "\tTrying idx = 259...OK!\n",
      "\tTrying idx = 513...OK!\n",
      "\tTrying idx = 107...OK!\n",
      "\tTrying idx = 228...OK!\n",
      "\tTrying idx = 577...OK!\n",
      "\tTrying idx = 63...OK!\n",
      "\tTrying idx = 227...Failed - zero probability state :(\n",
      "\tTrying idx = 324...OK!\n",
      "\tTrying idx = 331...OK!\n",
      "\tTrying idx = 79...OK!\n",
      "\tTrying idx = 944...Failed - absorbing state :(\n",
      "\tTrying idx = 256...OK!\n",
      "\tTrying idx = 243...OK!\n",
      "\tTrying idx = 836...Failed - absorbing state :(\n",
      "\tTrying idx = 86...OK!\n",
      "\tTrying idx = 193...Failed - absorbing state :(\n",
      "\tTrying idx = 108...OK!\n"
     ]
    },
    {
     "name": "stderr",
     "output_type": "stream",
     "text": [
      "/Users/robertarbon/miniconda3/envs/science/lib/python3.6/site-packages/msmtools/analysis/dense/pcca.py:287: ComplexWarning: Casting complex values to real discards the imaginary part\n",
      "  evecs[:, i] /= math.sqrt(np.dot(evecs[:, i] * pi, evecs[:, i]))\n"
     ]
    },
    {
     "name": "stdout",
     "output_type": "stream",
     "text": [
      "\tTrying idx = 340...OK!\n",
      "\tTrying idx = 355...OK!\n",
      "\tTrying idx = 920...Failed - absorbing state :(\n",
      "\tTrying idx = 15...OK!\n",
      "\tTrying idx = 100...OK!\n",
      "\tTrying idx = 348...OK!\n",
      "\tTrying idx = 64...OK!\n",
      "\tTrying idx = 570...Failed - absorbing state :(\n",
      "\tTrying idx = 101...Failed - absorbing state :(\n",
      "\tTrying idx = 14...OK!\n",
      "\tTrying idx = 349...OK!\n",
      "\tTrying idx = 564...OK!\n"
     ]
    },
    {
     "name": "stderr",
     "output_type": "stream",
     "text": [
      "/Users/robertarbon/miniconda3/envs/science/lib/python3.6/site-packages/msmtools/analysis/dense/pcca.py:287: ComplexWarning: Casting complex values to real discards the imaginary part\n",
      "  evecs[:, i] /= math.sqrt(np.dot(evecs[:, i] * pi, evecs[:, i]))\n"
     ]
    },
    {
     "name": "stdout",
     "output_type": "stream",
     "text": [
      "\tTrying idx = 338...OK!\n",
      "\tTrying idx = 325...OK!\n",
      "\tTrying idx = 226...OK!\n",
      "\tTrying idx = 921...OK!\n",
      "\tTrying idx = 354...OK!\n",
      "\tTrying idx = 341...OK!\n",
      "\tTrying idx = 837...OK!\n",
      "\tTrying idx = 242...OK!\n",
      "\tTrying idx = 113...Failed - absorbing state :(\n",
      "\tTrying idx = 62...OK!\n",
      "\tTrying idx = 849...OK!\n",
      "\tTrying idx = 635...OK!\n",
      "\tTrying idx = 221...OK!\n",
      "\tTrying idx = 322...OK!\n"
     ]
    },
    {
     "name": "stderr",
     "output_type": "stream",
     "text": [
      "/Users/robertarbon/miniconda3/envs/science/lib/python3.6/site-packages/msmtools/analysis/dense/pcca.py:287: ComplexWarning: Casting complex values to real discards the imaginary part\n",
      "  evecs[:, i] /= math.sqrt(np.dot(evecs[:, i] * pi, evecs[:, i]))\n"
     ]
    },
    {
     "name": "stdout",
     "output_type": "stream",
     "text": [
      "\tTrying idx = 942...Failed - absorbing state :(\n",
      "\tTrying idx = 245...OK!\n",
      "\tTrying idx = 346...Failed - absorbing state :(\n",
      "\tTrying idx = 353...OK!\n",
      "10\n",
      "\tTrying idx = 430...OK!\n",
      "\tTrying idx = 32...OK!\n"
     ]
    },
    {
     "name": "stderr",
     "output_type": "stream",
     "text": [
      "/Users/robertarbon/miniconda3/envs/science/lib/python3.6/site-packages/msmtools/analysis/dense/pcca.py:287: ComplexWarning: Casting complex values to real discards the imaginary part\n",
      "  evecs[:, i] /= math.sqrt(np.dot(evecs[:, i] * pi, evecs[:, i]))\n"
     ]
    },
    {
     "name": "stdout",
     "output_type": "stream",
     "text": [
      "\tTrying idx = 27...OK!\n",
      "\tTrying idx = 963...OK!\n",
      "\tTrying idx = 215...OK!\n",
      "\tTrying idx = 372...Failed - absorbing state :(\n",
      "\tTrying idx = 367...OK!\n",
      "\tTrying idx = 907...Failed - absorbing state :(\n",
      "\tTrying idx = 912...OK!\n",
      "\tTrying idx = 989...Failed - absorbing state :(\n",
      "\tTrying idx = 264...Failed - absorbing state :(\n",
      "\tTrying idx = 368...Failed - zero probability state :(\n",
      "\tTrying idx = 993...OK!\n"
     ]
    },
    {
     "name": "stderr",
     "output_type": "stream",
     "text": [
      "/Users/robertarbon/miniconda3/envs/science/lib/python3.6/site-packages/msmtools/analysis/dense/pcca.py:287: ComplexWarning: Casting complex values to real discards the imaginary part\n",
      "  evecs[:, i] /= math.sqrt(np.dot(evecs[:, i] * pi, evecs[:, i]))\n"
     ]
    },
    {
     "name": "stdout",
     "output_type": "stream",
     "text": [
      "\tTrying idx = 5...OK!\n",
      "\tTrying idx = 397...OK!\n",
      "\tTrying idx = 971...OK!\n",
      "\tTrying idx = 705...Failed - absorbing state :(\n",
      "\tTrying idx = 59...OK!\n",
      "\tTrying idx = 263...OK!\n",
      "\tTrying idx = 28...OK!\n",
      "\tTrying idx = 305...OK!\n",
      "\tTrying idx = 58...Failed - absorbing state :(\n",
      "\tTrying idx = 262...OK!\n",
      "\tTrying idx = 802...OK!\n",
      "\tTrying idx = 520...OK!\n"
     ]
    },
    {
     "name": "stderr",
     "output_type": "stream",
     "text": [
      "/Users/robertarbon/miniconda3/envs/science/lib/python3.6/site-packages/msmtools/analysis/dense/pcca.py:287: ComplexWarning: Casting complex values to real discards the imaginary part\n",
      "  evecs[:, i] /= math.sqrt(np.dot(evecs[:, i] * pi, evecs[:, i]))\n"
     ]
    },
    {
     "name": "stdout",
     "output_type": "stream",
     "text": [
      "\tTrying idx = 318...Failed - absorbing state :(\n",
      "\tTrying idx = 150...OK!\n",
      "\tTrying idx = 716...Failed - absorbing state :(\n",
      "\tTrying idx = 810...OK!\n",
      "\tTrying idx = 265...OK!\n",
      "\tTrying idx = 366...Failed - absorbing state :(\n",
      "\tTrying idx = 26...OK!\n",
      "\tTrying idx = 33...OK!\n",
      "\tTrying idx = 278...Failed - absorbing state :(\n",
      "\tTrying idx = 42...Failed - absorbing state :(\n",
      "\tTrying idx = 57...OK!\n",
      "\tTrying idx = 790...OK!\n",
      "\tTrying idx = 807...OK!\n",
      "\tTrying idx = 298...OK!\n",
      "\tTrying idx = 602...OK!\n",
      "\tTrying idx = 290...OK!\n",
      "\tTrying idx = 155...Failed - absorbing state :(\n",
      "\tTrying idx = 24...Failed - absorbing state :(\n",
      "\tTrying idx = 800...OK!\n",
      "\tTrying idx = 777...OK!\n",
      "\tTrying idx = 788...OK!\n",
      "\tTrying idx = 204...OK!\n",
      "\tTrying idx = 307...OK!\n",
      "\tTrying idx = 47...Failed - absorbing state :(\n",
      "\tTrying idx = 282...Failed - absorbing state :(\n",
      "\tTrying idx = 219...OK!\n"
     ]
    },
    {
     "name": "stderr",
     "output_type": "stream",
     "text": [
      "/Users/robertarbon/miniconda3/envs/science/lib/python3.6/site-packages/msmtools/analysis/dense/pcca.py:287: ComplexWarning: Casting complex values to real discards the imaginary part\n",
      "  evecs[:, i] /= math.sqrt(np.dot(evecs[:, i] * pi, evecs[:, i]))\n"
     ]
    },
    {
     "name": "stdout",
     "output_type": "stream",
     "text": [
      "\tTrying idx = 23...Failed - absorbing state :(\n",
      "\tTrying idx = 268...OK!\n",
      "\tTrying idx = 395...OK!\n",
      "\tTrying idx = 794...OK!\n",
      "\tTrying idx = 218...OK!\n",
      "\tTrying idx = 46...OK!\n",
      "\tTrying idx = 763...Failed - absorbing state :(\n",
      "\tTrying idx = 428...Failed - absorbing state :(\n",
      "\tTrying idx = 801...OK!\n",
      "\tTrying idx = 306...OK!\n",
      "\tTrying idx = 154...OK!\n",
      "\tTrying idx = 41...OK!\n",
      "\tTrying idx = 786...Failed - absorbing state :(\n",
      "\tTrying idx = 30...Failed - absorbing state :(\n",
      "\tTrying idx = 25...Failed - zero probability state :(\n",
      "\tTrying idx = 427...OK!\n"
     ]
    },
    {
     "name": "stderr",
     "output_type": "stream",
     "text": [
      "/Users/robertarbon/miniconda3/envs/science/lib/python3.6/site-packages/msmtools/analysis/dense/pcca.py:287: ComplexWarning: Casting complex values to real discards the imaginary part\n",
      "  evecs[:, i] /= math.sqrt(np.dot(evecs[:, i] * pi, evecs[:, i]))\n"
     ]
    },
    {
     "name": "stdout",
     "output_type": "stream",
     "text": [
      "\tTrying idx = 370...OK!\n"
     ]
    },
    {
     "name": "stderr",
     "output_type": "stream",
     "text": [
      "/Users/robertarbon/miniconda3/envs/science/lib/python3.6/site-packages/msmtools/analysis/dense/pcca.py:287: ComplexWarning: Casting complex values to real discards the imaginary part\n",
      "  evecs[:, i] /= math.sqrt(np.dot(evecs[:, i] * pi, evecs[:, i]))\n"
     ]
    },
    {
     "name": "stdout",
     "output_type": "stream",
     "text": [
      "\tTrying idx = 365...Failed - absorbing state :(\n",
      "\tTrying idx = 202...Failed - zero probability state :(\n",
      "\tTrying idx = 217...OK!\n",
      "\tTrying idx = 328...Failed - absorbing state :(\n",
      "\tTrying idx = 406...Failed - zero probability state :(\n",
      "\tTrying idx = 11...OK!\n",
      "\tTrying idx = 19...OK!\n",
      "\tTrying idx = 197...OK!\n",
      "\tTrying idx = 97...Failed - zero probability state :(\n",
      "\tTrying idx = 335...OK!\n",
      "\tTrying idx = 223...OK!\n",
      "\tTrying idx = 16...OK!\n",
      "\tTrying idx = 103...Failed - absorbing state :(\n",
      "\tTrying idx = 198...OK!\n",
      "\tTrying idx = 641...Failed - zero probability state :(\n",
      "\tTrying idx = 224...OK!\n",
      "\tTrying idx = 332...Failed - absorbing state :(\n",
      "\tTrying idx = 327...Failed - absorbing state :(\n",
      "\tTrying idx = 947...OK!\n",
      "\tTrying idx = 937...Failed - absorbing state :(\n",
      "\tTrying idx = 342...OK!\n",
      "\tTrying idx = 184...Failed - absorbing state :(\n",
      "\tTrying idx = 946...OK!\n"
     ]
    },
    {
     "name": "stderr",
     "output_type": "stream",
     "text": [
      "/Users/robertarbon/miniconda3/envs/science/lib/python3.6/site-packages/msmtools/analysis/dense/pcca.py:287: ComplexWarning: Casting complex values to real discards the imaginary part\n",
      "  evecs[:, i] /= math.sqrt(np.dot(evecs[:, i] * pi, evecs[:, i]))\n"
     ]
    },
    {
     "name": "stdout",
     "output_type": "stream",
     "text": [
      "\tTrying idx = 727...OK!\n",
      "\tTrying idx = 73...Failed - absorbing state :(\n",
      "\tTrying idx = 83...Failed - absorbing state :(\n",
      "\tTrying idx = 96...OK!\n"
     ]
    },
    {
     "name": "stderr",
     "output_type": "stream",
     "text": [
      "/Users/robertarbon/miniconda3/envs/science/lib/python3.6/site-packages/msmtools/analysis/dense/pcca.py:287: ComplexWarning: Casting complex values to real discards the imaginary part\n",
      "  evecs[:, i] /= math.sqrt(np.dot(evecs[:, i] * pi, evecs[:, i]))\n"
     ]
    },
    {
     "name": "stdout",
     "output_type": "stream",
     "text": [
      "\tTrying idx = 196...OK!\n",
      "\tTrying idx = 350...Failed - absorbing state :(\n",
      "\tTrying idx = 222...OK!\n",
      "\tTrying idx = 321...OK!\n",
      "\tTrying idx = 169...OK!\n",
      "\tTrying idx = 949...OK!\n",
      "\tTrying idx = 105...Failed - absorbing state :(\n",
      "\tTrying idx = 336...OK!\n",
      "\tTrying idx = 323...OK!\n",
      "\tTrying idx = 235...OK!\n",
      "\tTrying idx = 483...OK!\n",
      "\tTrying idx = 347...OK!\n"
     ]
    },
    {
     "name": "stderr",
     "output_type": "stream",
     "text": [
      "/Users/robertarbon/miniconda3/envs/science/lib/python3.6/site-packages/msmtools/analysis/dense/pcca.py:287: ComplexWarning: Casting complex values to real discards the imaginary part\n",
      "  evecs[:, i] /= math.sqrt(np.dot(evecs[:, i] * pi, evecs[:, i]))\n"
     ]
    },
    {
     "name": "stdout",
     "output_type": "stream",
     "text": [
      "\tTrying idx = 194...OK!\n",
      "\tTrying idx = 81...Failed - absorbing state :(\n",
      "\tTrying idx = 112...OK!\n",
      "\tTrying idx = 12...Failed - absorbing state :(\n",
      "\tTrying idx = 626...OK!\n",
      "\tTrying idx = 227...OK!\n",
      "\tTrying idx = 324...Failed - absorbing state :(\n",
      "\tTrying idx = 79...OK!\n",
      "\tTrying idx = 642...OK!\n",
      "\tTrying idx = 186...OK!\n",
      "\tTrying idx = 108...OK!\n",
      "\tTrying idx = 340...OK!\n",
      "\tTrying idx = 935...Failed - absorbing state :(\n",
      "\tTrying idx = 100...OK!\n",
      "\tTrying idx = 348...OK!\n",
      "\tTrying idx = 402...OK!\n",
      "\tTrying idx = 339...OK!\n",
      "\tTrying idx = 14...Failed - absorbing state :(\n",
      "\tTrying idx = 338...OK!\n"
     ]
    },
    {
     "name": "stderr",
     "output_type": "stream",
     "text": [
      "/Users/robertarbon/miniconda3/envs/science/lib/python3.6/site-packages/msmtools/analysis/dense/pcca.py:287: ComplexWarning: Casting complex values to real discards the imaginary part\n",
      "  evecs[:, i] /= math.sqrt(np.dot(evecs[:, i] * pi, evecs[:, i]))\n"
     ]
    },
    {
     "name": "stdout",
     "output_type": "stream",
     "text": [
      "\tTrying idx = 233...OK!\n",
      "\tTrying idx = 192...Failed - absorbing state :(\n",
      "\tTrying idx = 87...Failed - absorbing state :(\n",
      "\tTrying idx = 643...OK!\n",
      "\tTrying idx = 13...Failed - zero probability state :(\n",
      "\tTrying idx = 106...Failed - absorbing state :(\n",
      "\tTrying idx = 404...OK!\n"
     ]
    },
    {
     "name": "stderr",
     "output_type": "stream",
     "text": [
      "/Users/robertarbon/miniconda3/envs/science/lib/python3.6/site-packages/msmtools/analysis/dense/pcca.py:287: ComplexWarning: Casting complex values to real discards the imaginary part\n",
      "  evecs[:, i] /= math.sqrt(np.dot(evecs[:, i] * pi, evecs[:, i]))\n"
     ]
    },
    {
     "name": "stdout",
     "output_type": "stream",
     "text": [
      "\tTrying idx = 322...OK!\n",
      "\tTrying idx = 337...OK!\n",
      "\tTrying idx = 95...OK!\n"
     ]
    }
   ],
   "source": [
    "bayes_ts = {'traj_num': [], 'time_idx': [], 'mean_ts_ps': []}\n",
    "bayes_mods = {'traj_num': [], 'time_idx': [], \"mod\": [] }\n",
    "root_dir = 'msm_10ps'\n",
    "lag_ps = 10\n",
    "for traj_num in [1,3,4,6,7,8,9,10]:\n",
    "    data_dir = root_dir+'/output_{}'.format(traj_num)\n",
    "    hmm_paths = glob(os.path.join(data_dir, '*_hmm_obj.pyemma'))\n",
    "    hmm_idx = [int(re.search('^[0-9]+', os.path.basename(x)).group(0)) for x in hmm_paths]\n",
    "    dtraj_paths = [os.path.join(data_dir, '{}_dtraj.npy'.format(i)) for i in hmm_idx]\n",
    "    print(traj_num)\n",
    "    for i in range(len(hmm_idx)):\n",
    "        print('\\tTrying idx = {}'.format(hmm_idx[i]), end='...')\n",
    "        # Get HMM parameters: \n",
    "        hmm = msm.MaximumLikelihoodHMSM().load(hmm_paths[i])\n",
    "        nstates = hmm.nstates\n",
    "        lag = hmm.lag # lag in frames\n",
    "        dt = np.round(lag_ps/lag, 2) # Timestep in ps. \n",
    "        # Check for any silly models\n",
    "        if np.any(np.diag(hmm.transition_matrix)==1):\n",
    "            print('Failed - absorbing state :(')\n",
    "            continue \n",
    "        if np.any(hmm.stationary_distribution < 1e-8):\n",
    "            print('Failed - zero probability state :(')\n",
    "            continue\n",
    "        print('OK!')\n",
    "        # Fit Bayes model\n",
    "        dtraj = np.load(dtraj_paths[i])\n",
    "        bhmm = msm.bayesian_hidden_markov_model(dtraj, nstates=nstates, \n",
    "                                                lag=lag, nsamples=1000)\n",
    "        \n",
    "#         # Get the timescales of off-diagonal elements\n",
    "#         T = bhmm.sample_mean('transition_matrix')\n",
    "#         off_diag = T[~np.eye(T.shape[0], dtype='bool')]\n",
    "#         ts = -lag_ps/np.log(off_diag[off_diag>0])\n",
    "#         n_ts = ts.shape[0]\n",
    "        \n",
    "#         # Record results\n",
    "#         bayes_ts['traj_num'].extend(np.repeat(traj_num, n_ts))\n",
    "#         bayes_ts['time_idx'].extend(np.repeat(hmm_idx[i], n_ts))\n",
    "#         bayes_ts['mean_ts_ps'].extend(ts)\n",
    "\n",
    "        # Record models\n",
    "        bayes_mods['time_idx'].append(hmm_idx[i])\n",
    "        bayes_mods['traj_num'].append(traj_num)\n",
    "        bayes_mods['mod'].append(bhmm)"
   ]
  },
  {
   "cell_type": "markdown",
   "metadata": {},
   "source": [
    "## Save data"
   ]
  },
  {
   "cell_type": "code",
   "execution_count": 5,
   "metadata": {
    "scrolled": true
   },
   "outputs": [],
   "source": [
    "# df = pd.DataFrame(bayes_ts)\n",
    "# df.to_csv('all_timescales.csv')\n",
    "# pickle.dump(bayes_mods, file=open('all_bayes_mods.pickle', 'wb'))\n",
    "for i in range(len(bayes_mods['traj_num'])):\n",
    "    f_name = 'traj_{0}-idx_{1}_bhmm.p'.format(bayes_mods['traj_num'][i], bayes_mods['time_idx'][i])\n",
    "    pickle.dump(obj=bayes_mods['mod'][i], file=open(f_name, 'wb'))"
   ]
  }
 ],
 "metadata": {
  "kernelspec": {
   "display_name": "Python 3",
   "language": "python",
   "name": "python3"
  },
  "language_info": {
   "codemirror_mode": {
    "name": "ipython",
    "version": 3
   },
   "file_extension": ".py",
   "mimetype": "text/x-python",
   "name": "python",
   "nbconvert_exporter": "python",
   "pygments_lexer": "ipython3",
   "version": "3.6.7"
  }
 },
 "nbformat": 4,
 "nbformat_minor": 2
}
