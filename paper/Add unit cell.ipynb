{
 "cells": [
  {
   "cell_type": "code",
   "execution_count": 38,
   "metadata": {},
   "outputs": [
    {
     "name": "stdout",
     "output_type": "stream",
     "text": [
      "<mdtraj.Topology with 1 chains, 100 residues, 100 atoms, 0 bonds>\n",
      "<mdtraj.Topology with 1 chains, 100 residues, 100 atoms, 0 bonds>\n",
      "<mdtraj.Topology with 1 chains, 100 residues, 100 atoms, 0 bonds>\n"
     ]
    }
   ],
   "source": [
    "import numpy as np\n",
    "import mdtraj as md\n",
    "from pyemma.coordinates.clustering import KmeansClustering\n",
    "from pyemma.msm import MaximumLikelihoodHMSM\n",
    "import pandas as pd\n",
    "\n",
    "\n",
    "def create_top(n):\n",
    "    df = pd.DataFrame({'serial': np.arange(n),\n",
    "                       'name': np.repeat('O', n),\n",
    "                       'element': np.repeat('O', n),\n",
    "                       'resSeq': np.arange(n)+1,\n",
    "                       'resName': np.repeat('HOH', n),\n",
    "                       'chainID': np.repeat(0, n),\n",
    "                       'segmentID': np.repeat('A', n)})\n",
    "\n",
    "    top = md.Topology.from_dataframe(df)\n",
    "    return top\n",
    "\n",
    "\n",
    "traj_num = 3\n",
    "idxs = [119, 232, 886]\n",
    "xyzs = []\n",
    "for idx in range(1000):\n",
    "\n",
    "    # Load cluster centers\n",
    "    cluster = KmeansClustering(n_clusters=1).\\\n",
    "        load('msm_10ps/output_{0}/{1}_dtraj_obj.pyemma'.format(traj_num, idx))\n",
    "    ccs = cluster.cluster_centers_\n",
    "\n",
    "    # Get xyz into appropriate form\n",
    "    xyz = np.expand_dims(ccs, 0)\n",
    "    xyzs.append(xyz)\n",
    "\n",
    "    if idx in idxs:\n",
    "        # Load HMM\n",
    "        hmm = MaximumLikelihoodHMSM().load('msm_10ps/output_{0}/{1}_hmm_obj.pyemma'.format(traj_num, idx))\n",
    "        m_assign = hmm.metastable_assignments\n",
    "        N = hmm.nstates\n",
    "        # Save individual trajectory\n",
    "        top = create_top(xyz.shape[1])\n",
    "        print(top)\n",
    "        traj = md.Trajectory(xyz=xyz, topology=top)\n",
    "\n",
    "        traj.save_pdb('msm_10ps/output_{0}/{1}_cluster.pdb'.format(traj_num, idx),\n",
    "                      bfactors=m_assign/float(N))\n",
    "\n",
    "\n",
    "\n"
   ]
  },
  {
   "cell_type": "code",
   "execution_count": 46,
   "metadata": {},
   "outputs": [
    {
     "name": "stdout",
     "output_type": "stream",
     "text": [
      "[[2.2757032  0.9617711  0.655067  ]\n",
      " [2.124541   0.71032673 0.9767717 ]\n",
      " [1.5307263  0.41824272 1.0370371 ]]\n",
      "[[2.2757032  0.9617711  0.655067  ]\n",
      " [2.124541   0.71032673 0.9767717 ]\n",
      " [1.5307263  0.41824272 1.0370371 ]]\n"
     ]
    },
    {
     "data": {
      "text/plain": [
       "(1, 100000, 3)"
      ]
     },
     "execution_count": 46,
     "metadata": {},
     "output_type": "execute_result"
    }
   ],
   "source": [
    "xyz = np.concatenate(xyzs, axis=0)\n",
    "xyz = xyz.reshape(1, -1, 3)\n",
    "top = create_top(xyz.shape[1])\n",
    "traj = md.Trajectory(xyz=xyz, topology=top)"
   ]
  },
  {
   "cell_type": "code",
   "execution_count": 16,
   "metadata": {},
   "outputs": [],
   "source": [
    "traj.unitcell_angles = np.repeat([[90,90,90]], 1000, axis=0)\n",
    "\n",
    "lengths = xyz.reshape(-1,3).max(axis=0)- xyz.reshape(-1,3).min(axis=0)\n",
    "traj.unitcell_lengths = np.repeat(lengths[np.newaxis, :], 1000, axis=0)"
   ]
  },
  {
   "cell_type": "code",
   "execution_count": 37,
   "metadata": {},
   "outputs": [
    {
     "data": {
      "text/plain": [
       "array([[1.4861279, 2.440377 , 1.6908456],\n",
       "       [1.4861279, 2.440377 , 1.6908456],\n",
       "       [1.4861279, 2.440377 , 1.6908456],\n",
       "       ...,\n",
       "       [1.4861279, 2.440377 , 1.6908456],\n",
       "       [1.4861279, 2.440377 , 1.6908456],\n",
       "       [1.4861279, 2.440377 , 1.6908456]], dtype=float32)"
      ]
     },
     "execution_count": 37,
     "metadata": {},
     "output_type": "execute_result"
    }
   ],
   "source": [
    "traj.unitcell_lengths"
   ]
  },
  {
   "cell_type": "code",
   "execution_count": null,
   "metadata": {},
   "outputs": [],
   "source": [
    "traj.save_pbd('')"
   ]
  }
 ],
 "metadata": {
  "kernelspec": {
   "display_name": "Python 3",
   "language": "python",
   "name": "python3"
  },
  "language_info": {
   "codemirror_mode": {
    "name": "ipython",
    "version": 3
   },
   "file_extension": ".py",
   "mimetype": "text/x-python",
   "name": "python",
   "nbconvert_exporter": "python",
   "pygments_lexer": "ipython3",
   "version": "3.6.7"
  }
 },
 "nbformat": 4,
 "nbformat_minor": 2
}
