{
 "cells": [
  {
   "cell_type": "code",
   "execution_count": 5,
   "metadata": {},
   "outputs": [],
   "source": [
    "%matplotlib inline\n",
    "import matplotlib.pyplot as plt\n",
    "import seaborn as sns\n",
    "import matplotlib\n",
    "from glob import glob\n",
    "import os\n",
    "import re\n",
    "import pyemma.msm as msm\n",
    "import pyemma.coordinates as coor\n",
    "import pyemma.plots as mplt\n",
    "import numpy as np\n",
    "import my_network_plot as myplt\n",
    "from mpl_toolkits.mplot3d import Axes3D\n",
    "from matplotlib import ticker\n",
    "import operator\n",
    "import pandas as pd\n",
    "import mdtraj as md\n",
    "import matplotlib.image as mpimg \n"
   ]
  },
  {
   "cell_type": "markdown",
   "metadata": {},
   "source": [
    "# Load the data"
   ]
  },
  {
   "cell_type": "markdown",
   "metadata": {},
   "source": [
    "Below is the parameters cell for papermill parameterisation:"
   ]
  },
  {
   "cell_type": "code",
   "execution_count": 6,
   "metadata": {
    "tags": [
     "parameters"
    ]
   },
   "outputs": [],
   "source": [
    "traj_num = 3\n",
    "root_dir = 'msm_10ps'\n",
    "slice_nums = [(2, 255), (4, 821), (3, 932)]\n",
    "slice_num = 0\n"
   ]
  },
  {
   "cell_type": "markdown",
   "metadata": {},
   "source": [
    "The paths to the relevant objects"
   ]
  },
  {
   "cell_type": "code",
   "execution_count": 7,
   "metadata": {},
   "outputs": [],
   "source": [
    "data_dir = root_dir+'/output_{}'.format(traj_num)\n",
    "msm_paths = [os.path.join(data_dir, '{}_msm_obj.pyemma'.format(i)) for _, i in slice_nums]\n",
    "dtraj_paths = [os.path.join(data_dir, '{}_dtraj.npy'.format(i)) for _, i in slice_nums]\n"
   ]
  },
  {
   "cell_type": "markdown",
   "metadata": {},
   "source": [
    "### MSMs\n"
   ]
  },
  {
   "cell_type": "code",
   "execution_count": 8,
   "metadata": {},
   "outputs": [
    {
     "name": "stderr",
     "output_type": "stream",
     "text": [
      "/Users/robertarbon/miniconda3/envs/science/lib/python3.6/site-packages/pyemma/_base/serialization/pickle_extensions.py:52: UserWarning: BLOSC compression filter unavailable. Your resulting file may be large and not optimal to process.\n",
      "  warnings.warn('BLOSC compression filter unavailable. '\n"
     ]
    }
   ],
   "source": [
    "msms = [msm.MaximumLikelihoodMSM().load(x) for x in msm_paths]"
   ]
  },
  {
   "cell_type": "markdown",
   "metadata": {},
   "source": [
    "This is the conversion between lag in frames (which the MSM object keeps) and the time in ps. "
   ]
  },
  {
   "cell_type": "code",
   "execution_count": 9,
   "metadata": {},
   "outputs": [
    {
     "data": {
      "text/plain": [
       "0.10000000000000001"
      ]
     },
     "execution_count": 9,
     "metadata": {},
     "output_type": "execute_result"
    }
   ],
   "source": [
    "lag = msms[0].lagtime\n",
    "lag_ps = 10\n",
    "dt = np.round(lag_ps/lag, 2)\n",
    "dt "
   ]
  },
  {
   "cell_type": "code",
   "execution_count": null,
   "metadata": {},
   "outputs": [],
   "source": []
  },
  {
   "cell_type": "markdown",
   "metadata": {},
   "source": [
    "### Discrete trajectories"
   ]
  },
  {
   "cell_type": "code",
   "execution_count": 10,
   "metadata": {},
   "outputs": [],
   "source": [
    "dtrajs = [np.load(x) for x in dtraj_paths]"
   ]
  },
  {
   "cell_type": "markdown",
   "metadata": {},
   "source": [
    "## Models"
   ]
  },
  {
   "cell_type": "code",
   "execution_count": 11,
   "metadata": {},
   "outputs": [],
   "source": [
    "msms  = [msm.estimate_markov_model(dtrajs[i], lag=lag) for i in range(len(slice_nums))]"
   ]
  },
  {
   "cell_type": "code",
   "execution_count": 12,
   "metadata": {},
   "outputs": [
    {
     "data": {
      "application/vnd.jupyter.widget-view+json": {
       "model_id": "",
       "version_major": 2,
       "version_minor": 0
      },
      "text/plain": [
       "HBox(children=(HBox(children=(Label(value='pyemma.msm.estimators.bayesian_msm.BayesianMSM[3]: compute stat. in…"
      ]
     },
     "metadata": {},
     "output_type": "display_data"
    },
    {
     "name": "stdout",
     "output_type": "stream",
     "text": [
      "\r"
     ]
    },
    {
     "data": {
      "application/vnd.jupyter.widget-view+json": {
       "model_id": "",
       "version_major": 2,
       "version_minor": 0
      },
      "text/plain": [
       "HBox(children=(HBox(children=(Label(value='pyemma.msm.estimators.bayesian_msm.BayesianMSM[3]: Sampling MSMs'),…"
      ]
     },
     "metadata": {},
     "output_type": "display_data"
    },
    {
     "name": "stdout",
     "output_type": "stream",
     "text": [
      "\r"
     ]
    },
    {
     "data": {
      "application/vnd.jupyter.widget-view+json": {
       "model_id": "",
       "version_major": 2,
       "version_minor": 0
      },
      "text/plain": [
       "HBox(children=(HBox(children=(Label(value='pyemma.msm.estimators.bayesian_msm.BayesianMSM[4]: compute stat. in…"
      ]
     },
     "metadata": {},
     "output_type": "display_data"
    },
    {
     "name": "stdout",
     "output_type": "stream",
     "text": [
      "\r"
     ]
    },
    {
     "data": {
      "application/vnd.jupyter.widget-view+json": {
       "model_id": "",
       "version_major": 2,
       "version_minor": 0
      },
      "text/plain": [
       "HBox(children=(HBox(children=(Label(value='pyemma.msm.estimators.bayesian_msm.BayesianMSM[4]: Sampling MSMs'),…"
      ]
     },
     "metadata": {},
     "output_type": "display_data"
    },
    {
     "name": "stdout",
     "output_type": "stream",
     "text": [
      "\r"
     ]
    },
    {
     "data": {
      "application/vnd.jupyter.widget-view+json": {
       "model_id": "",
       "version_major": 2,
       "version_minor": 0
      },
      "text/plain": [
       "HBox(children=(HBox(children=(Label(value='pyemma.msm.estimators.bayesian_msm.BayesianMSM[5]: compute stat. in…"
      ]
     },
     "metadata": {},
     "output_type": "display_data"
    },
    {
     "name": "stdout",
     "output_type": "stream",
     "text": [
      "\r"
     ]
    },
    {
     "data": {
      "application/vnd.jupyter.widget-view+json": {
       "model_id": "",
       "version_major": 2,
       "version_minor": 0
      },
      "text/plain": [
       "HBox(children=(HBox(children=(Label(value='pyemma.msm.estimators.bayesian_msm.BayesianMSM[5]: Sampling MSMs'),…"
      ]
     },
     "metadata": {},
     "output_type": "display_data"
    },
    {
     "name": "stdout",
     "output_type": "stream",
     "text": [
      "\r"
     ]
    }
   ],
   "source": [
    "bmsms  = [msm.bayesian_markov_model(dtrajs[i], lag=lag,  \n",
    "                                          nsamples=1000) for i in range(len(slice_nums))]\n"
   ]
  },
  {
   "cell_type": "code",
   "execution_count": 13,
   "metadata": {},
   "outputs": [
    {
     "data": {
      "application/vnd.jupyter.widget-view+json": {
       "model_id": "",
       "version_major": 2,
       "version_minor": 0
      },
      "text/plain": [
       "HBox(children=(HBox(children=(Label(value='Sampling HMSMs'),), layout=Layout(max_width='35%', min_width='35%')…"
      ]
     },
     "metadata": {},
     "output_type": "display_data"
    },
    {
     "name": "stdout",
     "output_type": "stream",
     "text": [
      "\r"
     ]
    },
    {
     "data": {
      "application/vnd.jupyter.widget-view+json": {
       "model_id": "",
       "version_major": 2,
       "version_minor": 0
      },
      "text/plain": [
       "HBox(children=(HBox(children=(Label(value='Sampling HMSMs'),), layout=Layout(max_width='35%', min_width='35%')…"
      ]
     },
     "metadata": {},
     "output_type": "display_data"
    },
    {
     "name": "stdout",
     "output_type": "stream",
     "text": [
      "\r"
     ]
    },
    {
     "name": "stderr",
     "output_type": "stream",
     "text": [
      "/Users/robertarbon/miniconda3/envs/science/lib/python3.6/site-packages/msmtools/analysis/dense/pcca.py:287: ComplexWarning: Casting complex values to real discards the imaginary part\n",
      "  evecs[:, i] /= math.sqrt(np.dot(evecs[:, i] * pi, evecs[:, i]))\n"
     ]
    },
    {
     "data": {
      "application/vnd.jupyter.widget-view+json": {
       "model_id": "",
       "version_major": 2,
       "version_minor": 0
      },
      "text/plain": [
       "HBox(children=(HBox(children=(Label(value='Sampling HMSMs'),), layout=Layout(max_width='35%', min_width='35%')…"
      ]
     },
     "metadata": {},
     "output_type": "display_data"
    },
    {
     "name": "stdout",
     "output_type": "stream",
     "text": [
      "\r"
     ]
    }
   ],
   "source": [
    "bhmms = [msm.bayesian_hidden_markov_model(dtrajs[i], lag=lag, nstates=slice_nums[i][0], \n",
    "                                          nsamples=1000) for i in range(len(slice_nums))]\n",
    "\n",
    "    "
   ]
  },
  {
   "cell_type": "code",
   "execution_count": 14,
   "metadata": {},
   "outputs": [],
   "source": [
    "hmms = [msm.estimate_hidden_markov_model(dtrajs[i], lag=lag, nstates=slice_nums[i][0]) for i in range(len(slice_nums))]\n",
    "\n"
   ]
  },
  {
   "cell_type": "code",
   "execution_count": 15,
   "metadata": {},
   "outputs": [
    {
     "data": {
      "text/plain": [
       "[array([ 2347.60122472]),\n",
       " array([ 3438.83655272,   325.58557552,   177.77914733]),\n",
       " array([ 5778.28557262,  1306.40418721])]"
      ]
     },
     "execution_count": 15,
     "metadata": {},
     "output_type": "execute_result"
    }
   ],
   "source": [
    "tss = [mm.sample_conf('timescales')[1]*dt for mm in bhmms]\n",
    "tss"
   ]
  },
  {
   "cell_type": "code",
   "execution_count": 20,
   "metadata": {},
   "outputs": [],
   "source": [
    "Ts = [mm.sample_mean('transition_matrix') for mm in bhmms]"
   ]
  },
  {
   "cell_type": "code",
   "execution_count": 85,
   "metadata": {},
   "outputs": [
    {
     "name": "stdout",
     "output_type": "stream",
     "text": [
      "[ 1.          0.95182255]\n"
     ]
    },
    {
     "data": {
      "text/plain": [
       "array([[-0.70710678, -0.92747935],\n",
       "       [-0.70710678,  0.37387438]])"
      ]
     },
     "execution_count": 85,
     "metadata": {},
     "output_type": "execute_result"
    }
   ],
   "source": [
    "import numpy.linalg as la\n",
    "import scipy.linalg as sla\n",
    "\n",
    "T = Ts[0]\n",
    "w, v = la.eig(T)\n",
    "order = np.argsort(w)[::-1]\n",
    "w = w[order]\n",
    "print(w)\n",
    "v = v[:, order]\n",
    "v"
   ]
  },
  {
   "cell_type": "code",
   "execution_count": 86,
   "metadata": {},
   "outputs": [
    {
     "data": {
      "text/plain": [
       "array([[ 0.        ,  0.        ],\n",
       "       [ 0.        , -0.04937666]])"
      ]
     },
     "execution_count": 86,
     "metadata": {},
     "output_type": "execute_result"
    }
   ],
   "source": [
    "ln_T_diag = np.eye(2)\n",
    "ln_T_diag[np.eye(2, dtype=bool)] =  np.log(w)\n",
    "ln_T_diag"
   ]
  },
  {
   "cell_type": "code",
   "execution_count": 90,
   "metadata": {},
   "outputs": [
    {
     "data": {
      "text/plain": [
       "array([[-284.16422619,  284.16422619],\n",
       "       [ 704.93317101, -704.93317101]])"
      ]
     },
     "execution_count": 90,
     "metadata": {},
     "output_type": "execute_result"
    }
   ],
   "source": [
    "lnT = la.multi_dot((v,ln_T_diag, sla.inv(v)))\n",
    "K = lnT/lag_ps\n",
    "1/K"
   ]
  },
  {
   "cell_type": "code",
   "execution_count": 75,
   "metadata": {},
   "outputs": [
    {
     "data": {
      "text/plain": [
       "array([[ 0.96566376,  0.03433624],\n",
       "       [ 0.01384121,  0.98615879]])"
      ]
     },
     "execution_count": 75,
     "metadata": {},
     "output_type": "execute_result"
    }
   ],
   "source": [
    "T"
   ]
  },
  {
   "cell_type": "code",
   "execution_count": 143,
   "metadata": {},
   "outputs": [
    {
     "data": {
      "image/png": "[encoded data removed]",
      "text/plain": [
       "<Figure size 432x288 with 2 Axes>"
      ]
     },
     "metadata": {
      "needs_background": "light"
     },
     "output_type": "display_data"
    }
   ],
   "source": [
    "def plot_timescales(axes,  mm, dt, let, maxy=4388, xscale=1):\n",
    "    \n",
    "    ax = axes\n",
    "    # Timescale plots\n",
    "    ts = mm.sample_mean('timescales')*dt\n",
    "    tsL,tsR = mm.sample_conf('timescales')\n",
    "    tsL, tsR = tsL*dt, tsR*dt\n",
    "    N = mm.nstates\n",
    "    maxy = 10**(int(np.log10(maxy))+1)\n",
    "    # Slow:\n",
    "#     ax.plot(ts[0], 0, 1, lw=5, color='g', label='Slow')\n",
    "    cols = sns.color_palette('colorblind', N-1)\n",
    "    for i in range(0,N-1): \n",
    "        y = np.repeat(ts[i], 2)\n",
    "        yl = np.repeat(tsL[i], 2)\n",
    "        yr = np.repeat(tsR[i], 2)\n",
    "        \n",
    "        x = np.array([0, 1])+i\n",
    "        ax.plot(x*xscale, y, lw=5, color=cols[i])\n",
    "        ax.fill_between(x*xscale, yl, yr, color=cols[i], alpha=0.5)\n",
    "\n",
    "\n",
    "    # Labels\n",
    "    ax.set_yscale('log')\n",
    "#     ax.set_ylabel('Timescales (ps)')\n",
    "    \n",
    "    # Tick marks for timescale plots\n",
    "    locator = matplotlib.ticker.FixedLocator(locs=ts[:N], nbins=N)\n",
    "    formatter = matplotlib.ticker.StrMethodFormatter('{x:3.0f} ps')\n",
    "    ax.yaxis.set_major_formatter(formatter)\n",
    "    ax.yaxis.set_major_locator(locator)\n",
    "    ax.tick_params(which='minor', labelleft=False, left=False)\n",
    "    ax.tick_params(which='major', labelbottom = False, bottom=False)\n",
    "    ax.set_ylim(1, maxy)\n",
    "    \n",
    "    formatter2 = matplotlib.ticker.FuncFormatter(lambda x, pos: '{0}'.format(int(np.log10(x))))\n",
    "\n",
    "    ax2 = ax.twinx()\n",
    "    ax2.set_ylim(1, maxy)\n",
    "    ax2.set_yscale('log')\n",
    "    ax2.yaxis.set_major_formatter(formatter2) \n",
    "    ax2.set_ylabel(r'$\\log(\\tau/ps)$', rotation=0, horizontalalignment='left', labelpad=10 )\n",
    "    \n",
    "    ax.annotate(s='({})(iii)'.format(let), xy=(0.05, 1.05), xycoords='axes fraction', family='Times New Roman')\n",
    "\n",
    "    \n",
    "fig, ax = plt.subplots()\n",
    "plot_timescales(ax, bhmms[1], dt, 'a')"
   ]
  },
  {
   "cell_type": "code",
   "execution_count": 17,
   "metadata": {},
   "outputs": [
    {
     "data": {
      "image/png": "[encoded data removed]",
      "text/plain": [
       "<Figure size 432x288 with 1 Axes>"
      ]
     },
     "metadata": {},
     "output_type": "display_data"
    }
   ],
   "source": [
    "def plot_network(mm, ax, let, pad=0.4):\n",
    "    N = mm.nstates\n",
    "    # Colors \n",
    "    cmap_use = 'viridis_r'\n",
    "    cmap = matplotlib.cm.get_cmap(cmap_use,N)\n",
    "    cols = [cmap(n) for n in range(N)]\n",
    "    T = mm.sample_mean('transition_matrix')\n",
    "    ts = -lag_ps/np.log(T)\n",
    "    \n",
    "    # Network\n",
    "    r = 0.8\n",
    "    shift = 1 #0*np.pi/6\n",
    "    x = np.array([r * np.cos(2*np.pi*n/N + shift) for n in range(N)])\n",
    "    y = np.array([r * np.sin(2*np.pi*n/N + shift) for n in range(N)])\n",
    "#     delta = -0.2\n",
    "    pos = np.concatenate((x[:, np.newaxis], y[:,np.newaxis]), axis=1)\n",
    "    _, _ = myplt.plot_markov_model(mm.transition_matrix, ax=ax, \n",
    "                                  arrow_curvature=3.5, state_colors=cols, arrow_labels=ts, \n",
    "                                  arrow_label_format = '%2.2f',pos=pos,\n",
    "                                  figpadding=pad, arrow_scale=0.5, state_scale=2)\n",
    "    ax.annotate(s='({})(ii)'.format(let), xy=(0.3, 1.05), xycoords='axes fraction', family='Times New Roman')\n",
    "    \n",
    "fig, axes = plt.subplots(1)\n",
    "plot_network(bhmms[0], axes, 'a', pad=0.3)"
   ]
  },
  {
   "cell_type": "code",
   "execution_count": 19,
   "metadata": {},
   "outputs": [
    {
     "data": {
      "text/plain": [
       "array([[-0.03493958, -3.37155399],\n",
       "       [-4.28010466, -0.0139379 ]])"
      ]
     },
     "execution_count": 19,
     "metadata": {},
     "output_type": "execute_result"
    }
   ],
   "source": [
    "T = bhmms[0].sample_mean('transition_matrix')\n",
    "np.log(T)\n",
    "# ts = -lag_ps/np.log(T)\n"
   ]
  },
  {
   "cell_type": "code",
   "execution_count": 14,
   "metadata": {},
   "outputs": [
    {
     "name": "stdout",
     "output_type": "stream",
     "text": [
      "[ 854.78512031  520.20409973  385.4343021 ]\n",
      "[ 764.99290625  678.87620182]\n",
      "[ 5394.10460455   978.32685576   611.74395311]\n"
     ]
    }
   ],
   "source": [
    "print(hmms[1].timescales())\n",
    "print(msms[1].timescales(k=2))\n",
    "print(bhmms[1].sample_mean('timescales'))"
   ]
  },
  {
   "cell_type": "code",
   "execution_count": 15,
   "metadata": {
    "scrolled": true
   },
   "outputs": [
    {
     "data": {
      "image/png": "[encoded data removed]",
      "text/plain": [
       "<Figure size 432x288 with 1 Axes>"
      ]
     },
     "metadata": {
      "needs_background": "light"
     },
     "output_type": "display_data"
    }
   ],
   "source": [
    "def plot_progress(ax, idx, let):\n",
    "    TRAJ_LEN=1000\n",
    "    ax.tick_params(which='both', labelbottom=False,labelleft=True,labeltop=False,labelright=False,\n",
    "                      bottom=False, left=False, top=False, right=False)\n",
    "    ax.barh(np.array([idx]), np.array([1]), height=10, zorder=1, color='k')\n",
    "    ax.barh(np.arange(TRAJ_LEN)+0.5, np.ones(TRAJ_LEN), height=1, zorder=1, alpha=0.5)\n",
    "    ax.set_xlim(0,1)\n",
    "    ax.set_ylim(0, TRAJ_LEN)\n",
    "    ax.invert_yaxis()\n",
    "    _ = [x.set_visible(False) for x in ax.spines.values()]\n",
    "    ax.yaxis.set_major_locator(ticker.FixedLocator(locs=[0, idx, TRAJ_LEN]))\n",
    "    formatter = matplotlib.ticker.StrMethodFormatter('{x} ns')\n",
    "    ax.yaxis.set_major_formatter(formatter)\n",
    "#     ax.xaxis.set_tick_params(rotation=45)\n",
    "    ax.annotate(s='{}(i)'.format(let), xy=(0.05, 1.05), xycoords='axes fraction')\n",
    "\n",
    "fig, ax = plt.subplots()\n",
    "plot_progress(ax, 932, let='a')"
   ]
  },
  {
   "cell_type": "code",
   "execution_count": 31,
   "metadata": {
    "scrolled": false
   },
   "outputs": [
    {
     "data": {
      "image/png": "[encoded data removed]",
      "text/plain": [
       "<Figure size 432x288 with 1 Axes>"
      ]
     },
     "metadata": {},
     "output_type": "display_data"
    }
   ],
   "source": [
    "def plot_image(ax, idx, let, coords, T):\n",
    "    # scatter plot\n",
    "    img = mpimg.imread('slice_{}_crop.tga'.format(slice_nums[idx][1]))\n",
    "    ax.imshow(img)\n",
    "    ax.tick_params(which='both', labelbottom=False,labelleft=False,labeltop=False,labelright=False,\n",
    "                      bottom=False, left=False, top=False, right=False)\n",
    "    _ = [x.set_visible(False) for x in ax.spines.values()]\n",
    "    \n",
    "    # Panel num\n",
    "    ax.annotate(s='({})(i)'.format(let), xy=(0.05, 1.05), xycoords='axes fraction', family='Times New Roman')\n",
    "\n",
    "    # time label\n",
    "    ax.annotate(s='{} ns'.format(T), xy=(0.65, 0.9), xycoords='axes fraction')\n",
    "\n",
    "    # Axes labels\n",
    "    x1, y1 = 0.3, 0.1\n",
    "    x2, y2 = 0.1, 0.3\n",
    "    connectionstyle = \"angle,angleA=-90,angleB=0,rad=0\"\n",
    "    ax.annotate(\"\",\n",
    "                xy=(x1, y1), xycoords='axes fraction',\n",
    "                xytext=(x2, y2), textcoords='axes fraction',\n",
    "                arrowprops=dict(arrowstyle=\"<->\", color='k',\n",
    "                                connectionstyle=connectionstyle,lw=2,\n",
    "                                ))\n",
    "    ax.annotate(s=coords[0],xy=(x1*1.01, y1*0.9), xycoords='axes fraction')\n",
    "    ax.annotate(s=coords[1],xy=(x2*0.9, y2*1.1), xycoords='axes fraction')\n",
    "    \n",
    "    \n",
    "fig, ax = plt.subplots()\n",
    "plot_image(ax,0,'a', coords=['x','y'], T=312)"
   ]
  },
  {
   "cell_type": "markdown",
   "metadata": {},
   "source": [
    "# MSM plot "
   ]
  },
  {
   "cell_type": "code",
   "execution_count": 150,
   "metadata": {
    "scrolled": false
   },
   "outputs": [],
   "source": [
    "TRAJ_LEN=1000\n",
    "with sns.plotting_context('paper', font_scale=2):\n",
    "    scale=5\n",
    "    ncols=3\n",
    "    nrows=3\n",
    "#     sns.set_style(rc={'font.family':'serif', 'font.serif': 'times'})\n",
    "\n",
    "    for idx in range(3):\n",
    "\n",
    "        letters = ['a', 'b', 'c']\n",
    "        coords = [['z', 'y'], ['-x', 'y'], ['y', 'x']]\n",
    "#         idx = 1\n",
    "        # Set up figure and axes\n",
    "\n",
    "#         axes = [fig.add_subplot(gs[idx, i]) for i in range(0,ncols)]\n",
    "        fig, ax = plt.subplots(1)\n",
    "        plot_image(ax, idx,  letters[idx], coords=coords[idx], T=slice_nums[idx][1])\n",
    "        plt.savefig('{}-1.png'.format(idx), dpi=450, bbox_inches='tight')\n",
    "        plt.close()\n",
    "        \n",
    "        # network\n",
    "        fig, ax = plt.subplots(1)\n",
    "        plot_network(bhmms[idx], ax, letters[idx], pad=0.3)\n",
    "        plt.savefig('{}-2.png'.format(idx), dpi=450, bbox_inches='tight')\n",
    "        plt.close()\n",
    "\n",
    "        # timescales\n",
    "        fig, ax = plt.subplots(1, figsize=(3,4))\n",
    "        plot_timescales(ax, bhmms[idx], dt, letters[idx], xscale=1)\n",
    "        plt.savefig('{}-3.png'.format(idx), dpi=450, bbox_inches='tight')\n",
    "        plt.close()\n",
    "\n",
    "#     gs.tight_layout(fig, w_pad=0)\n",
    "#     plt.savefig('traj-{0}_slices-{1}-{2}-{3}.png'.format(traj_num, *[slice_nums[i][1] for i in range(3)]), \n",
    "#                 dpi=300, bbox_inches='tight')\n"
   ]
  },
  {
   "cell_type": "code",
   "execution_count": null,
   "metadata": {},
   "outputs": [],
   "source": []
  }
 ],
 "metadata": {
  "kernelspec": {
   "display_name": "Python 3",
   "language": "python",
   "name": "python3"
  },
  "language_info": {
   "codemirror_mode": {
    "name": "ipython",
    "version": 3
   },
   "file_extension": ".py",
   "mimetype": "text/x-python",
   "name": "python",
   "nbconvert_exporter": "python",
   "pygments_lexer": "ipython3",
   "version": "3.6.7"
  }
 },
 "nbformat": 4,
 "nbformat_minor": 2
}
