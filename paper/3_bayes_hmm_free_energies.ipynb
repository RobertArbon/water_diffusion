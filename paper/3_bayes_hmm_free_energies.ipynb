{
 "cells": [
  {
   "cell_type": "code",
   "execution_count": 2,
   "metadata": {},
   "outputs": [
    {
     "name": "stderr",
     "output_type": "stream",
     "text": [
      "/Users/robertarbon/miniconda3/envs/science/lib/python3.6/site-packages/pyemma/util/log.py:64: YAMLLoadWarning: calling yaml.load() without Loader=... is deprecated, as the default Loader is unsafe. Please read https://msg.pyyaml.org/load for full details.\n",
      "  D = yaml.load(f2)\n",
      "/Users/robertarbon/miniconda3/envs/science/lib/python3.6/site-packages/pyemma/__init__.py:92: UserWarning: You are not using the latest release of PyEMMA. Latest is 2.5.6, you have 2.5.5.\n",
      "  .format(latest=latest, current=current), category=UserWarning)\n"
     ]
    }
   ],
   "source": [
    "%matplotlib inline\n",
    "import matplotlib.pyplot as plt\n",
    "import seaborn as sns\n",
    "import matplotlib\n",
    "from glob import glob\n",
    "import os\n",
    "import re\n",
    "import pyemma.msm as msm\n",
    "import pyemma.coordinates as coor\n",
    "import numpy as np\n",
    "import my_network_plot as myplt\n",
    "from mpl_toolkits.mplot3d import Axes3D\n",
    "from matplotlib import ticker\n",
    "import operator\n",
    "import pandas as pd\n",
    "import mdtraj as md\n",
    "import matplotlib.image as mpimg \n",
    "import pickle\n",
    "from shutil import move"
   ]
  },
  {
   "cell_type": "code",
   "execution_count": 3,
   "metadata": {},
   "outputs": [],
   "source": [
    "df = pd.read_csv('bhmm_mods/bhmm_mods_stats.csv')"
   ]
  },
  {
   "cell_type": "markdown",
   "metadata": {},
   "source": [
    "## Free energy barriers "
   ]
  },
  {
   "cell_type": "markdown",
   "metadata": {},
   "source": [
    "$$\n",
    "k=\\kappa {\\frac {k_{B}T}{h}}e^{\\frac {\\Delta S^{\\ddagger }}{R}}e^{\\frac {-\\Delta H^{\\ddagger }}{RT}}\n",
    "$$"
   ]
  },
  {
   "cell_type": "code",
   "execution_count": 4,
   "metadata": {},
   "outputs": [],
   "source": [
    "from scipy.constants import k, h, R, calorie\n",
    "\n",
    "T = 300\n",
    "ps_to_sec = 10**12\n",
    "\n",
    "def ts_to_dg(ts):\n",
    "    return -R*T*np.log(h/(ts*k*T))/1000/calorie"
   ]
  },
  {
   "cell_type": "code",
   "execution_count": 7,
   "metadata": {},
   "outputs": [
    {
     "data": {
      "text/html": [
       "<div>\n",
       "<style scoped>\n",
       "    .dataframe tbody tr th:only-of-type {\n",
       "        vertical-align: middle;\n",
       "    }\n",
       "\n",
       "    .dataframe tbody tr th {\n",
       "        vertical-align: top;\n",
       "    }\n",
       "\n",
       "    .dataframe thead th {\n",
       "        text-align: right;\n",
       "    }\n",
       "</style>\n",
       "<table border=\"1\" class=\"dataframe\">\n",
       "  <thead>\n",
       "    <tr style=\"text-align: right;\">\n",
       "      <th></th>\n",
       "      <th>traj_idx</th>\n",
       "      <th>time_idx</th>\n",
       "      <th>timescales</th>\n",
       "      <th>n_states</th>\n",
       "      <th>n_timescales</th>\n",
       "    </tr>\n",
       "  </thead>\n",
       "  <tbody>\n",
       "    <tr>\n",
       "      <th>0</th>\n",
       "      <td>7</td>\n",
       "      <td>157</td>\n",
       "      <td>151.146827</td>\n",
       "      <td>2</td>\n",
       "      <td>2</td>\n",
       "    </tr>\n",
       "    <tr>\n",
       "      <th>1</th>\n",
       "      <td>7</td>\n",
       "      <td>157</td>\n",
       "      <td>158.947585</td>\n",
       "      <td>2</td>\n",
       "      <td>2</td>\n",
       "    </tr>\n",
       "    <tr>\n",
       "      <th>2</th>\n",
       "      <td>7</td>\n",
       "      <td>813</td>\n",
       "      <td>24.002617</td>\n",
       "      <td>2</td>\n",
       "      <td>2</td>\n",
       "    </tr>\n",
       "    <tr>\n",
       "      <th>3</th>\n",
       "      <td>7</td>\n",
       "      <td>813</td>\n",
       "      <td>78.265591</td>\n",
       "      <td>2</td>\n",
       "      <td>2</td>\n",
       "    </tr>\n",
       "    <tr>\n",
       "      <th>4</th>\n",
       "      <td>1</td>\n",
       "      <td>519</td>\n",
       "      <td>46.517560</td>\n",
       "      <td>2</td>\n",
       "      <td>2</td>\n",
       "    </tr>\n",
       "  </tbody>\n",
       "</table>\n",
       "</div>"
      ],
      "text/plain": [
       "   traj_idx  time_idx  timescales  n_states  n_timescales\n",
       "0         7       157  151.146827         2             2\n",
       "1         7       157  158.947585         2             2\n",
       "2         7       813   24.002617         2             2\n",
       "3         7       813   78.265591         2             2\n",
       "4         1       519   46.517560         2             2"
      ]
     },
     "execution_count": 7,
     "metadata": {},
     "output_type": "execute_result"
    }
   ],
   "source": [
    "df.head()"
   ]
  },
  {
   "cell_type": "code",
   "execution_count": 8,
   "metadata": {},
   "outputs": [],
   "source": [
    "df['timescales_sec'] = df['timescales']/ps_to_sec\n",
    "df['dg'] = df['timescales_sec'].apply(ts_to_dg)"
   ]
  },
  {
   "cell_type": "code",
   "execution_count": 9,
   "metadata": {},
   "outputs": [
    {
     "data": {
      "text/html": [
       "<div>\n",
       "<style scoped>\n",
       "    .dataframe tbody tr th:only-of-type {\n",
       "        vertical-align: middle;\n",
       "    }\n",
       "\n",
       "    .dataframe tbody tr th {\n",
       "        vertical-align: top;\n",
       "    }\n",
       "\n",
       "    .dataframe thead th {\n",
       "        text-align: right;\n",
       "    }\n",
       "</style>\n",
       "<table border=\"1\" class=\"dataframe\">\n",
       "  <thead>\n",
       "    <tr style=\"text-align: right;\">\n",
       "      <th></th>\n",
       "      <th>traj_idx</th>\n",
       "      <th>time_idx</th>\n",
       "      <th>timescales</th>\n",
       "      <th>n_states</th>\n",
       "      <th>n_timescales</th>\n",
       "      <th>timescales_sec</th>\n",
       "      <th>dg</th>\n",
       "    </tr>\n",
       "  </thead>\n",
       "  <tbody>\n",
       "    <tr>\n",
       "      <th>0</th>\n",
       "      <td>7</td>\n",
       "      <td>157</td>\n",
       "      <td>151.146827</td>\n",
       "      <td>2</td>\n",
       "      <td>2</td>\n",
       "      <td>1.511468e-10</td>\n",
       "      <td>4.084294</td>\n",
       "    </tr>\n",
       "    <tr>\n",
       "      <th>1</th>\n",
       "      <td>7</td>\n",
       "      <td>157</td>\n",
       "      <td>158.947585</td>\n",
       "      <td>2</td>\n",
       "      <td>2</td>\n",
       "      <td>1.589476e-10</td>\n",
       "      <td>4.114294</td>\n",
       "    </tr>\n",
       "    <tr>\n",
       "      <th>2</th>\n",
       "      <td>7</td>\n",
       "      <td>813</td>\n",
       "      <td>24.002617</td>\n",
       "      <td>2</td>\n",
       "      <td>2</td>\n",
       "      <td>2.400262e-11</td>\n",
       "      <td>2.987305</td>\n",
       "    </tr>\n",
       "    <tr>\n",
       "      <th>3</th>\n",
       "      <td>7</td>\n",
       "      <td>813</td>\n",
       "      <td>78.265591</td>\n",
       "      <td>2</td>\n",
       "      <td>2</td>\n",
       "      <td>7.826559e-11</td>\n",
       "      <td>3.691934</td>\n",
       "    </tr>\n",
       "    <tr>\n",
       "      <th>4</th>\n",
       "      <td>1</td>\n",
       "      <td>519</td>\n",
       "      <td>46.517560</td>\n",
       "      <td>2</td>\n",
       "      <td>2</td>\n",
       "      <td>4.651756e-11</td>\n",
       "      <td>3.381765</td>\n",
       "    </tr>\n",
       "  </tbody>\n",
       "</table>\n",
       "</div>"
      ],
      "text/plain": [
       "   traj_idx  time_idx  timescales  n_states  n_timescales  timescales_sec  \\\n",
       "0         7       157  151.146827         2             2    1.511468e-10   \n",
       "1         7       157  158.947585         2             2    1.589476e-10   \n",
       "2         7       813   24.002617         2             2    2.400262e-11   \n",
       "3         7       813   78.265591         2             2    7.826559e-11   \n",
       "4         1       519   46.517560         2             2    4.651756e-11   \n",
       "\n",
       "         dg  \n",
       "0  4.084294  \n",
       "1  4.114294  \n",
       "2  2.987305  \n",
       "3  3.691934  \n",
       "4  3.381765  "
      ]
     },
     "execution_count": 9,
     "metadata": {},
     "output_type": "execute_result"
    }
   ],
   "source": [
    "df.head()"
   ]
  },
  {
   "cell_type": "code",
   "execution_count": 11,
   "metadata": {},
   "outputs": [
    {
     "data": {
      "image/png": "[encoded data removed]",
      "text/plain": [
       "<Figure size 432x288 with 1 Axes>"
      ]
     },
     "metadata": {
      "needs_background": "light"
     },
     "output_type": "display_data"
    }
   ],
   "source": [
    "with sns.plotting_context('paper', font_scale=2):\n",
    "    ax = sns.distplot(df['dg'], hist=True, kde=False, norm_hist=False)\n",
    "    _, ub = ax.get_xlim()\n",
    "    ax.set_xlim(0, ub)\n",
    "    ax.set_ylabel('Frequency')\n",
    "    ax.set_xlabel('Free energy barrier ($\\mathrm{kcal}\\cdot\\mathrm{mol^{-1}}$)')\n",
    "    plt.savefig('free_energy_barrier_hist.png', dpi=600, bbox_inches='tight')"
   ]
  },
  {
   "cell_type": "code",
   "execution_count": 13,
   "metadata": {},
   "outputs": [
    {
     "data": {
      "image/png": "[encoded data removed]",
      "text/plain": [
       "<Figure size 864x432 with 8 Axes>"
      ]
     },
     "metadata": {
      "needs_background": "light"
     },
     "output_type": "display_data"
    }
   ],
   "source": [
    "with sns.plotting_context('paper', font_scale=2):\n",
    "    g = sns.FacetGrid(data=df, col='traj_idx', col_wrap=4)\n",
    "    g.map(sns.distplot, 'dg', hist=True, kde=False, norm_hist=False)\n",
    "    g.set_titles(\"Trajectory {col_name}\")\n",
    "    for ax in g.axes.flatten():\n",
    "        _, ub = ax.get_xlim()\n",
    "        ax.set_xlim(0, ub)\n",
    "    _ = [g.axes[i].set_ylabel('Frequency') for i in [0, 4]]\n",
    "    _ = [g.axes[i].set_xlabel('Free energy barrier\\n($\\mathrm{kcal}\\cdot\\mathrm{mol^{-1}}$)') for i in range(4,8)]\n",
    "    plt.savefig('free_energy_barrier_hist_by_traj.png', dpi=600, bbox_inches='tight')"
   ]
  },
  {
   "cell_type": "code",
   "execution_count": null,
   "metadata": {},
   "outputs": [],
   "source": [
    "# df = pd.read_csv('all_timescales.csv')\n"
   ]
  }
 ],
 "metadata": {
  "kernelspec": {
   "display_name": "Python 3",
   "language": "python",
   "name": "python3"
  },
  "language_info": {
   "codemirror_mode": {
    "name": "ipython",
    "version": 3
   },
   "file_extension": ".py",
   "mimetype": "text/x-python",
   "name": "python",
   "nbconvert_exporter": "python",
   "pygments_lexer": "ipython3",
   "version": "3.6.7"
  }
 },
 "nbformat": 4,
 "nbformat_minor": 2
}
