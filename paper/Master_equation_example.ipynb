{
 "cells": [
  {
   "cell_type": "code",
   "execution_count": 6,
   "metadata": {},
   "outputs": [],
   "source": [
    "import numpy as np\n",
    "import numpy.linalg as la\n",
    "%matplotlib inline\n",
    "import matplotlib.pyplot as plt"
   ]
  },
  {
   "cell_type": "code",
   "execution_count": 55,
   "metadata": {},
   "outputs": [],
   "source": [
    "def exp(M):\n",
    "    w, v = la.eig(M)\n",
    "    ln_M_diag = np.eye(M.shape[0])\n",
    "    ln_M_diag[ln_M_diag==1] = np.exp(w)\n",
    "    \n",
    "    ln_M = la.multi_dot((v, ln_M_diag, la.inv(v)))\n",
    "    return ln_M\n",
    "    "
   ]
  },
  {
   "cell_type": "code",
   "execution_count": 90,
   "metadata": {},
   "outputs": [
    {
     "data": {
      "text/plain": [
       "array([[-0.03519092,  0.03519092],\n",
       "       [ 0.01418574, -0.01418574]])"
      ]
     },
     "execution_count": 90,
     "metadata": {},
     "output_type": "execute_result"
    }
   ],
   "source": [
    "t_inv = np.array([[-284.16422619,  284.16422619],\n",
    "       [ 704.93317101, -704.93317101]])\n",
    "A = 10/t_inv\n",
    "A"
   ]
  },
  {
   "cell_type": "code",
   "execution_count": 123,
   "metadata": {},
   "outputs": [],
   "source": [
    "A = np.array([[-0.5, 0.2, 0.3], [0.01, -0.05, 0.04], [0.3, 0.3, -0.6]])"
   ]
  },
  {
   "cell_type": "code",
   "execution_count": 124,
   "metadata": {},
   "outputs": [],
   "source": [
    "y0 = np.array([5,3, 1])\n",
    "y0 = y0/la.norm(y0)\n",
    "T = np.linspace(0, 10, 100)\n",
    "yt = np.zeros((T.shape[0], y0.shape[0]))\n"
   ]
  },
  {
   "cell_type": "code",
   "execution_count": 125,
   "metadata": {},
   "outputs": [],
   "source": [
    "for i, t in enumerate(T):\n",
    "    yt[i] = np.dot(exp(A*t), y0)"
   ]
  },
  {
   "cell_type": "code",
   "execution_count": 126,
   "metadata": {},
   "outputs": [
    {
     "data": {
      "text/plain": [
       "[<matplotlib.lines.Line2D at 0x11c8a2c88>,\n",
       " <matplotlib.lines.Line2D at 0x11c8a2dd8>,\n",
       " <matplotlib.lines.Line2D at 0x11c8a2f28>]"
      ]
     },
     "execution_count": 126,
     "metadata": {},
     "output_type": "execute_result"
    },
    {
     "data": {
      "image/png": "[encoded data removed]",
      "text/plain": [
       "<Figure size 432x288 with 1 Axes>"
      ]
     },
     "metadata": {
      "needs_background": "light"
     },
     "output_type": "display_data"
    }
   ],
   "source": [
    "plt.plot(yt)"
   ]
  },
  {
   "cell_type": "code",
   "execution_count": null,
   "metadata": {},
   "outputs": [],
   "source": []
  }
 ],
 "metadata": {
  "kernelspec": {
   "display_name": "Python 3",
   "language": "python",
   "name": "python3"
  },
  "language_info": {
   "codemirror_mode": {
    "name": "ipython",
    "version": 3
   },
   "file_extension": ".py",
   "mimetype": "text/x-python",
   "name": "python",
   "nbconvert_exporter": "python",
   "pygments_lexer": "ipython3",
   "version": "3.6.7"
  }
 },
 "nbformat": 4,
 "nbformat_minor": 2
}
