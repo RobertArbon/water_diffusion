{
 "cells": [
  {
   "cell_type": "code",
   "execution_count": 4,
   "metadata": {},
   "outputs": [],
   "source": [
    "%matplotlib inline\n",
    "import warnings\n",
    "import dill\n",
    "warnings.filterwarnings(action='ignore')\n",
    "\n",
    "import pandas as pd\n",
    "import numpy as np\n",
    "import matplotlib.pyplot as plt\n",
    "from mpl_toolkits.mplot3d import Axes3D\n",
    "import seaborn as sns\n",
    "import mdtraj as md\n",
    "import matplotlib\n",
    "from glob import glob\n",
    "import os\n",
    "from matplotlib import ticker\n",
    "import re\n",
    "import my_network_plot as myplt\n",
    "\n",
    "import pyemma.coordinates as coor\n",
    "import pyemma.msm as msm\n",
    "import pyemma.plots as mplt\n"
   ]
  },
  {
   "cell_type": "markdown",
   "metadata": {},
   "source": [
    "## Load and inspect the data"
   ]
  },
  {
   "cell_type": "code",
   "execution_count": 146,
   "metadata": {},
   "outputs": [],
   "source": [
    "traj_num = 3\n",
    "data_dir = 'msm_outputs/output_{}'.format(traj_num)\n",
    "hmm_paths = glob(os.path.join(data_dir, '*_hmm_obj.pyemma'))\n",
    "msm_paths = glob(os.path.join(data_dir, '*_msm_obj.pyemma'))\n",
    "dtrajs_paths = glob(os.path.join(data_dir, '*_dtraj_obj.pyemma'))\n"
   ]
  },
  {
   "cell_type": "markdown",
   "metadata": {},
   "source": [
    "### HMMs"
   ]
  },
  {
   "cell_type": "code",
   "execution_count": 109,
   "metadata": {},
   "outputs": [],
   "source": [
    "hmms = [msm.MaximumLikelihoodHMSM().load(x) for x in hmm_paths]"
   ]
  },
  {
   "cell_type": "code",
   "execution_count": 120,
   "metadata": {},
   "outputs": [
    {
     "data": {
      "text/plain": [
       "[2, 994, 981, 882, 27, 127, 868, 208, 56, 143]"
      ]
     },
     "execution_count": 120,
     "metadata": {},
     "output_type": "execute_result"
    }
   ],
   "source": [
    "hmm_chunks = [int(re.search('^[0-9]+', os.path.basename(x)).group(0)) for x in hmm_paths]\n",
    "hmm_chunks[:10]"
   ]
  },
  {
   "cell_type": "markdown",
   "metadata": {},
   "source": [
    "Create a dictionary for easy access later. "
   ]
  },
  {
   "cell_type": "code",
   "execution_count": 121,
   "metadata": {},
   "outputs": [],
   "source": [
    "hmms_dict = dict(zip(hmm_chunks, hmms))"
   ]
  },
  {
   "cell_type": "markdown",
   "metadata": {},
   "source": [
    "### MSMs\n"
   ]
  },
  {
   "cell_type": "markdown",
   "metadata": {},
   "source": [
    "Now load the MSMs"
   ]
  },
  {
   "cell_type": "code",
   "execution_count": 41,
   "metadata": {},
   "outputs": [],
   "source": [
    "msms = [msm.MaximumLikelihoodMSM().load(x) for x in msm_paths]"
   ]
  },
  {
   "cell_type": "markdown",
   "metadata": {},
   "source": [
    "### Dtrajs\n",
    "We'll use the cluster centers, rather than the actual trajectories for "
   ]
  },
  {
   "cell_type": "markdown",
   "metadata": {},
   "source": [
    "## Process characteristics\n",
    "\n",
    "First let's get the timescales from the MSMs.  This is irrespective of whether they have clear separation or not. "
   ]
  },
  {
   "cell_type": "code",
   "execution_count": 122,
   "metadata": {},
   "outputs": [
    {
     "data": {
      "text/plain": [
       "(1000, 3)"
      ]
     },
     "execution_count": 122,
     "metadata": {},
     "output_type": "execute_result"
    }
   ],
   "source": [
    "msm_timescales = np.concatenate([mm.timescales()[np.newaxis, :3] for mm in msms], axis=0)\n",
    "msm_timescales.shape"
   ]
  },
  {
   "cell_type": "markdown",
   "metadata": {},
   "source": [
    "HMMs were only created if there was a timescale separation of 1.5. Let's find those HMMs were there's no 1s on the diagonal of the transition matrix.  We'll call this `hmm_no_abs` i.e. hmm no absorbing state. "
   ]
  },
  {
   "cell_type": "code",
   "execution_count": 125,
   "metadata": {},
   "outputs": [
    {
     "data": {
      "text/plain": [
       "80"
      ]
     },
     "execution_count": 125,
     "metadata": {},
     "output_type": "execute_result"
    }
   ],
   "source": [
    "hmm_no_abs = {k : v for k, v in hmms_dict.items() if not np.any(np.diag(v.transition_matrix)==1)}\n",
    "\n",
    "len(hmm_no_abs)"
   ]
  },
  {
   "cell_type": "markdown",
   "metadata": {},
   "source": [
    "this is the number of metastable states"
   ]
  },
  {
   "cell_type": "code",
   "execution_count": 142,
   "metadata": {},
   "outputs": [],
   "source": [
    "hmm_n_states = {k: v.nstates for k, v in hmms_dict.items()}"
   ]
  },
  {
   "cell_type": "markdown",
   "metadata": {},
   "source": [
    "This is a list of the time slices which don't have absorbing states. "
   ]
  },
  {
   "cell_type": "code",
   "execution_count": 130,
   "metadata": {},
   "outputs": [
    {
     "data": {
      "text/plain": [
       "array([  2,  14,  21,  39,  41,  45,  54,  84,  96, 119, 127, 130, 131,\n",
       "       141, 151, 159, 160, 168, 195, 196, 199, 202, 205, 208, 210, 215,\n",
       "       222, 226, 234, 235, 258, 259, 266, 274, 277, 280, 282, 306, 310,\n",
       "       507, 713, 734, 741, 774, 776, 780, 786, 787, 789, 800, 805, 810,\n",
       "       812, 821, 824, 826, 843, 879, 880, 882, 885, 888, 889, 890, 892,\n",
       "       895, 896, 899, 904, 905, 917, 918, 945, 953, 963, 985, 990, 991,\n",
       "       992, 999])"
      ]
     },
     "execution_count": 130,
     "metadata": {},
     "output_type": "execute_result"
    }
   ],
   "source": [
    "idx_no_abs = np.array(list(hmm_no_abs.keys()))\n",
    "idx_no_abs = np.sort(idx_no_abs)\n",
    "idx_no_abs"
   ]
  },
  {
   "cell_type": "markdown",
   "metadata": {},
   "source": [
    "This is the conversion between lag in frames (which the MSM object keeps) and what I gave it (in picoseconds)"
   ]
  },
  {
   "cell_type": "code",
   "execution_count": 131,
   "metadata": {},
   "outputs": [
    {
     "data": {
      "text/plain": [
       "0.1"
      ]
     },
     "execution_count": 131,
     "metadata": {},
     "output_type": "execute_result"
    }
   ],
   "source": [
    "lag = msms[0].lagtime\n",
    "dt = np.round(50/lag, 2)\n",
    "dt "
   ]
  },
  {
   "cell_type": "markdown",
   "metadata": {},
   "source": [
    "## Slow timescale plots from MSM\n"
   ]
  },
  {
   "cell_type": "code",
   "execution_count": 132,
   "metadata": {},
   "outputs": [],
   "source": [
    "time = np.arange(len(msms)) # timescale of trajectory in nanoseconds"
   ]
  },
  {
   "cell_type": "code",
   "execution_count": 133,
   "metadata": {},
   "outputs": [
    {
     "data": {
      "text/plain": [
       "(1000,)"
      ]
     },
     "execution_count": 133,
     "metadata": {},
     "output_type": "execute_result"
    }
   ],
   "source": [
    "msm_timescales.shape\n",
    "time.shape"
   ]
  },
  {
   "cell_type": "code",
   "execution_count": 140,
   "metadata": {
    "scrolled": false
   },
   "outputs": [
    {
     "data": {
      "image/png": "[encoded data removed]",
      "text/plain": [
       "<Figure size 432x288 with 3 Axes>"
      ]
     },
     "metadata": {
      "needs_background": "light"
     },
     "output_type": "display_data"
    }
   ],
   "source": [
    "with sns.plotting_context('paper', font_scale=1.5):\n",
    "    fig, axes = plt.subplots(msm_timescales.shape[1],sharex=True, sharey=True,  figsize=(6,4))\n",
    "    for i in range(msm_timescales.shape[1]):\n",
    "        axes[i].scatter(time[idx_no_abs], msm_timescales.T[i][idx_no_abs]*dt, marker='_', s=20)\n",
    "        axes[i].set_yscale('log')\n",
    "        ylim = axes[i].get_ylim()\n",
    "        axes[i].set_ylim(ylim[0],1000)\n",
    "        axes[i].set_ylabel(r'$T_{{{}}}$ (ps)'.format(i+1))\n",
    "        if i == msm_timescales.shape[1]-1: axes[i].set_xlabel('Time (ns)')\n",
    "        axes[i].grid(b=True, which='both', zorder=1, alpha=0.2)\n",
    "    fig.suptitle('Timescales for trajectory {}'.format(traj_num))\n",
    "    fig.subplots_adjust(hspace=0.1)\n",
    "    plt.savefig('images/msms/{}_non_absorbing_timescales.pdf'.format(traj_num), \n",
    "               bbox_inches='tight')"
   ]
  },
  {
   "cell_type": "markdown",
   "metadata": {},
   "source": [
    "## Plot results"
   ]
  },
  {
   "cell_type": "code",
   "execution_count": 144,
   "metadata": {
    "scrolled": false
   },
   "outputs": [
    {
     "ename": "NameError",
     "evalue": "name 'traj' is not defined",
     "output_type": "error",
     "traceback": [
      "\u001b[0;31m---------------------------------------------------------------------------\u001b[0m",
      "\u001b[0;31mNameError\u001b[0m                                 Traceback (most recent call last)",
      "\u001b[0;32m<ipython-input-144-e96ba47b7be5>\u001b[0m in \u001b[0;36m<module>\u001b[0;34m\u001b[0m\n\u001b[1;32m     22\u001b[0m         \u001b[0;31m# Position data\u001b[0m\u001b[0;34m\u001b[0m\u001b[0;34m\u001b[0m\u001b[0;34m\u001b[0m\u001b[0m\n\u001b[1;32m     23\u001b[0m         \u001b[0mstride\u001b[0m \u001b[0;34m=\u001b[0m \u001b[0;36m10\u001b[0m\u001b[0;34m\u001b[0m\u001b[0;34m\u001b[0m\u001b[0m\n\u001b[0;32m---> 24\u001b[0;31m         \u001b[0mbig_stride\u001b[0m \u001b[0;34m=\u001b[0m \u001b[0mint\u001b[0m\u001b[0;34m(\u001b[0m\u001b[0mtraj\u001b[0m\u001b[0;34m.\u001b[0m\u001b[0mshape\u001b[0m\u001b[0;34m[\u001b[0m\u001b[0;36m0\u001b[0m\u001b[0;34m]\u001b[0m\u001b[0;34m/\u001b[0m\u001b[0;36m10000\u001b[0m\u001b[0;34m)\u001b[0m\u001b[0;34m\u001b[0m\u001b[0;34m\u001b[0m\u001b[0m\n\u001b[0m\u001b[1;32m     25\u001b[0m \u001b[0;34m\u001b[0m\u001b[0m\n\u001b[1;32m     26\u001b[0m         \u001b[0mtraj_idx\u001b[0m \u001b[0;34m=\u001b[0m \u001b[0mtraj_split\u001b[0m\u001b[0;34m[\u001b[0m\u001b[0midx\u001b[0m\u001b[0;34m]\u001b[0m\u001b[0;34m\u001b[0m\u001b[0;34m\u001b[0m\u001b[0m\n",
      "\u001b[0;31mNameError\u001b[0m: name 'traj' is not defined"
     ]
    }
   ],
   "source": [
    "def axis_labs(ax):\n",
    "    ax.set_xlim(1,3.); ax.set_ylim(-1, 1.); ax.set_zlim(-0.5, 1.5)\n",
    "    ax.set_xlabel('x', labelpad=10); ax.set_ylabel('y', labelpad=10); ax.set_zlabel('z', labelpad=10)\n",
    "    ax.xaxis.pane.fill=False; ax.yaxis.pane.fill=False; ax.zaxis.pane.fill=False\n",
    "    ax.xaxis.set_major_locator(matplotlib.ticker.MultipleLocator(base=1))\n",
    "    ax.yaxis.set_major_locator(matplotlib.ticker.MultipleLocator(base=1))\n",
    "    ax.zaxis.set_major_locator(matplotlib.ticker.MultipleLocator(base=1))\n",
    "    return ax\n",
    "\n",
    "for k, v in list(hmms_dict.items())[1:2]:\n",
    "    with sns.plotting_context('paper', font_scale=2.5):\n",
    "\n",
    "        # Get the relevant data\n",
    "        idx = k\n",
    "        hmm = v\n",
    "        \n",
    "        N = hmm.nstates\n",
    "        obs_to_hid = np.argmax(hmm.metastable_memberships, axis=1)\n",
    "        h_traj = [obs_to_hid[i] for i in hmm.discrete_trajectories_obs[0]]\n",
    "        pi =hmm.pi\n",
    "\n",
    "        # Position data\n",
    "        stride = 10\n",
    "        big_stride = int(traj.shape[0]/10000)\n",
    "\n",
    "        traj_idx = traj_split[idx]\n",
    "        n_points = traj_idx[::stride,0].shape[0]\n",
    "\n",
    "        # Set up figure and axes\n",
    "        scale=1.5\n",
    "        fig = plt.figure(figsize=(scale*12, scale*4))\n",
    "        gs = fig.add_gridspec(1, 3,\n",
    "                           width_ratios=[3,3,1])\n",
    "        ax1 = fig.add_subplot(gs[0],projection='3d')\n",
    "        ax2 = fig.add_subplot(gs[1])\n",
    "        ax3 = fig.add_subplot(gs[2])\n",
    "\n",
    "        fig.suptitle('{0} < time < {1} ns'.format(idx, idx+1) + r' | T($\\tau={:4.0f}$ps)'.format(np.round(hmm.lag*dt, -1)), \n",
    "                     horizontalalignment='center', verticalalignment='top')\n",
    "\n",
    "        # Set up colors    \n",
    "        cmap_use = 'viridis_r'\n",
    "        cmap = matplotlib.cm.get_cmap(cmap_use,N)\n",
    "        cols = [cmap(n) for n in range(N)]\n",
    "\n",
    "        # cluster centers\n",
    "        ax1.scatter(xs=traj_idx[::stride,0], ys=traj_idx[::stride,1], \n",
    "                    zs=traj_idx[::stride,2], alpha=1, c=h_traj[::stride], \n",
    "                   zorder=1, s=50, cmap=cmap) \n",
    "\n",
    "        # Whole trajectory\n",
    "        ax1.scatter(xs=traj[::big_stride,0], ys=traj[::big_stride,1],\n",
    "                   zs=traj[::big_stride,2], alpha=0.5,s=20, zorder=1, color='grey')\n",
    "        ax1 = axis_labs(ax1)\n",
    "\n",
    "        # Network\n",
    "        r = 0.8\n",
    "        x = np.array([r * np.cos(2*np.pi*n/N + np.pi/6) for n in range(N)])\n",
    "        y = np.array([r * np.sin(2*np.pi*n/N + np.pi/6) for n in range(N)])\n",
    "        pos = np.concatenate((y[:,np.newaxis], x[:, np.newaxis]), axis=1)\n",
    "        _, _ = plot_markov_model(hmm.transition_matrix, ax=ax2, \n",
    "                                      arrow_curvature=3, state_colors=cols,\n",
    "                                      arrow_label_format = '%2.2f',pos=pos,\n",
    "                                      figpadding=0.3, arrow_scale=0.5, state_scale=2)\n",
    "\n",
    "        # Timescale plots\n",
    "        mm = msms[idx]\n",
    "        t_max = 10\n",
    "        ts = mm.timescales()[:t_max]*dt\n",
    "\n",
    "        # Slow:\n",
    "        ax3.hlines(ts[0], 0, 1, lw=5, color='g', label='Slow')\n",
    "        for i in range(1,N-1): \n",
    "            ax3.hlines(ts[i], 0, 1, lw=5, color='g')\n",
    "        # Fast\n",
    "        ax3.hlines(ts[N-1], 0, 1, lw=2, color='b', label='Fast')\n",
    "        for i in range(N-1,t_max): ax3.hlines(ts[i], 0, 1, lw=2, color='b')\n",
    "        ax3.set_yscale('log')\n",
    "        ax3.set_ylabel('Timescales (ps)')\n",
    "        locator = matplotlib.ticker.FixedLocator(locs=ts[:N], nbins=N)\n",
    "        formatter = matplotlib.ticker.StrMethodFormatter('{x:4.0f} ps')\n",
    "        ax3.yaxis.set_major_formatter(formatter)\n",
    "        ax3.yaxis.set_major_locator(locator)\n",
    "        ax3.tick_params(which='minor', labelleft=False, left=False)\n",
    "        ax3.tick_params(which='major', labelbottom = False, bottom=False)\n",
    "\n",
    "        plt.tight_layout()\n",
    "        plt.savefig('images/msms/traj-{}-section-{}'.format(tran_num, idx))\n"
   ]
  },
  {
   "cell_type": "code",
   "execution_count": null,
   "metadata": {},
   "outputs": [],
   "source": []
  }
 ],
 "metadata": {
  "kernelspec": {
   "display_name": "Python 3",
   "language": "python",
   "name": "python3"
  },
  "language_info": {
   "codemirror_mode": {
    "name": "ipython",
    "version": 3
   },
   "file_extension": ".py",
   "mimetype": "text/x-python",
   "name": "python",
   "nbconvert_exporter": "python",
   "pygments_lexer": "ipython3",
   "version": "3.7.3"
  }
 },
 "nbformat": 4,
 "nbformat_minor": 2
}
