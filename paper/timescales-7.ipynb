{
 "cells": [
  {
   "cell_type": "code",
   "execution_count": 1,
   "metadata": {
    "papermill": {
     "duration": 1.235138,
     "end_time": "2019-04-18T13:51:18.823453",
     "exception": false,
     "start_time": "2019-04-18T13:51:17.588315",
     "status": "completed"
    },
    "tags": []
   },
   "outputs": [
    {
     "name": "stderr",
     "output_type": "stream",
     "text": [
      "/Users/robertarbon/miniconda3/envs/science/lib/python3.7/site-packages/pyemma/util/log.py:64: YAMLLoadWarning: calling yaml.load() without Loader=... is deprecated, as the default Loader is unsafe. Please read https://msg.pyyaml.org/load for full details.\n",
      "  D = yaml.load(f2)\n"
     ]
    }
   ],
   "source": [
    "%matplotlib inline\n",
    "import matplotlib.pyplot as plt\n",
    "import seaborn as sns\n",
    "import matplotlib\n",
    "from glob import glob\n",
    "import os\n",
    "import re\n",
    "import pyemma.msm as msm\n",
    "import numpy as np"
   ]
  },
  {
   "cell_type": "markdown",
   "metadata": {
    "papermill": {
     "duration": 0.012999,
     "end_time": "2019-04-18T13:51:18.850308",
     "exception": false,
     "start_time": "2019-04-18T13:51:18.837309",
     "status": "completed"
    },
    "tags": []
   },
   "source": [
    "# Load the data"
   ]
  },
  {
   "cell_type": "markdown",
   "metadata": {
    "papermill": {
     "duration": 0.013357,
     "end_time": "2019-04-18T13:51:18.877805",
     "exception": false,
     "start_time": "2019-04-18T13:51:18.864448",
     "status": "completed"
    },
    "tags": []
   },
   "source": [
    "Below is the parameters cell for papermill parameterisation:"
   ]
  },
  {
   "cell_type": "code",
   "execution_count": 2,
   "metadata": {
    "papermill": {
     "duration": 0.01979,
     "end_time": "2019-04-18T13:51:18.912318",
     "exception": false,
     "start_time": "2019-04-18T13:51:18.892528",
     "status": "completed"
    },
    "tags": [
     "parameters"
    ]
   },
   "outputs": [],
   "source": [
    "traj_num = 8\n",
    "root_dir = 'msm_10ps'"
   ]
  },
  {
   "cell_type": "code",
   "execution_count": 3,
   "metadata": {
    "papermill": {
     "duration": 0.019492,
     "end_time": "2019-04-18T13:51:18.947136",
     "exception": false,
     "start_time": "2019-04-18T13:51:18.927644",
     "status": "completed"
    },
    "tags": [
     "injected-parameters"
    ]
   },
   "outputs": [],
   "source": [
    "# Parameters\n",
    "traj_num = 7\n"
   ]
  },
  {
   "cell_type": "markdown",
   "metadata": {
    "papermill": {
     "duration": 0.01313,
     "end_time": "2019-04-18T13:51:18.975910",
     "exception": false,
     "start_time": "2019-04-18T13:51:18.962780",
     "status": "completed"
    },
    "tags": []
   },
   "source": [
    "The paths to the relevant objects"
   ]
  },
  {
   "cell_type": "code",
   "execution_count": 4,
   "metadata": {
    "papermill": {
     "duration": 0.041363,
     "end_time": "2019-04-18T13:51:19.030689",
     "exception": false,
     "start_time": "2019-04-18T13:51:18.989326",
     "status": "completed"
    },
    "tags": []
   },
   "outputs": [],
   "source": [
    "data_dir = root_dir+'/output_{}'.format(traj_num)\n",
    "msm_paths = [os.path.join(data_dir, '{}_msm_obj.pyemma'.format(i)) for i in range(1000)]\n",
    "hmm_paths = glob(os.path.join(data_dir, '*_hmm_obj.pyemma'))\n"
   ]
  },
  {
   "cell_type": "markdown",
   "metadata": {
    "papermill": {
     "duration": 0.013439,
     "end_time": "2019-04-18T13:51:19.057509",
     "exception": false,
     "start_time": "2019-04-18T13:51:19.044070",
     "status": "completed"
    },
    "tags": []
   },
   "source": [
    "### HMMs"
   ]
  },
  {
   "cell_type": "markdown",
   "metadata": {
    "papermill": {
     "duration": 0.0131,
     "end_time": "2019-04-18T13:51:19.084670",
     "exception": false,
     "start_time": "2019-04-18T13:51:19.071570",
     "status": "completed"
    },
    "tags": []
   },
   "source": [
    "This loads the HMM objects. "
   ]
  },
  {
   "cell_type": "code",
   "execution_count": 5,
   "metadata": {
    "papermill": {
     "duration": 60.282703,
     "end_time": "2019-04-18T13:52:19.381771",
     "exception": false,
     "start_time": "2019-04-18T13:51:19.099068",
     "status": "completed"
    },
    "tags": []
   },
   "outputs": [
    {
     "name": "stderr",
     "output_type": "stream",
     "text": [
      "/Users/robertarbon/miniconda3/envs/science/lib/python3.7/site-packages/pyemma/_base/serialization/pickle_extensions.py:52: UserWarning: BLOSC compression filter unavailable. Your resulting file may be large and not optimal to process.\n",
      "  warnings.warn('BLOSC compression filter unavailable. '\n"
     ]
    }
   ],
   "source": [
    "hmms = [msm.MaximumLikelihoodHMSM().load(x) for x in hmm_paths]"
   ]
  },
  {
   "cell_type": "markdown",
   "metadata": {
    "papermill": {
     "duration": 0.014691,
     "end_time": "2019-04-18T13:52:19.410332",
     "exception": false,
     "start_time": "2019-04-18T13:52:19.395641",
     "status": "completed"
    },
    "tags": []
   },
   "source": [
    "This determins which 'chunk' of the trajectory each HMM object pertains to. "
   ]
  },
  {
   "cell_type": "code",
   "execution_count": 6,
   "metadata": {
    "papermill": {
     "duration": 0.025793,
     "end_time": "2019-04-18T13:52:19.454981",
     "exception": false,
     "start_time": "2019-04-18T13:52:19.429188",
     "status": "completed"
    },
    "tags": []
   },
   "outputs": [
    {
     "data": {
      "text/plain": [
       "[32, 127, 132, 687, 557, 56, 143, 156, 264, 271]"
      ]
     },
     "execution_count": 6,
     "metadata": {},
     "output_type": "execute_result"
    }
   ],
   "source": [
    "hmm_chunks = [int(re.search('^[0-9]+', os.path.basename(x)).group(0)) for x in hmm_paths]\n",
    "hmm_chunks[:10]"
   ]
  },
  {
   "cell_type": "markdown",
   "metadata": {
    "papermill": {
     "duration": 0.01404,
     "end_time": "2019-04-18T13:52:19.484063",
     "exception": false,
     "start_time": "2019-04-18T13:52:19.470023",
     "status": "completed"
    },
    "tags": []
   },
   "source": [
    "Now make a dictionary out of them. "
   ]
  },
  {
   "cell_type": "code",
   "execution_count": 7,
   "metadata": {
    "papermill": {
     "duration": 0.019988,
     "end_time": "2019-04-18T13:52:19.518375",
     "exception": false,
     "start_time": "2019-04-18T13:52:19.498387",
     "status": "completed"
    },
    "tags": []
   },
   "outputs": [],
   "source": [
    "hmms_dict = dict(zip(hmm_chunks, hmms))"
   ]
  },
  {
   "cell_type": "markdown",
   "metadata": {
    "papermill": {
     "duration": 0.013662,
     "end_time": "2019-04-18T13:52:19.546007",
     "exception": false,
     "start_time": "2019-04-18T13:52:19.532345",
     "status": "completed"
    },
    "tags": []
   },
   "source": [
    "### MSMs\n"
   ]
  },
  {
   "cell_type": "markdown",
   "metadata": {
    "papermill": {
     "duration": 0.015358,
     "end_time": "2019-04-18T13:52:19.575384",
     "exception": false,
     "start_time": "2019-04-18T13:52:19.560026",
     "status": "completed"
    },
    "tags": []
   },
   "source": [
    "Now load the MSMs. There's one for every chunk so we don't need to label them. "
   ]
  },
  {
   "cell_type": "code",
   "execution_count": 8,
   "metadata": {
    "papermill": {
     "duration": 14.417409,
     "end_time": "2019-04-18T13:52:34.007306",
     "exception": false,
     "start_time": "2019-04-18T13:52:19.589897",
     "status": "completed"
    },
    "tags": []
   },
   "outputs": [],
   "source": [
    "msms = [msm.MaximumLikelihoodMSM().load(x) for x in msm_paths]"
   ]
  },
  {
   "cell_type": "markdown",
   "metadata": {
    "papermill": {
     "duration": 0.014719,
     "end_time": "2019-04-18T13:52:34.036994",
     "exception": false,
     "start_time": "2019-04-18T13:52:34.022275",
     "status": "completed"
    },
    "tags": []
   },
   "source": [
    "This is the conversion between lag in frames (which the MSM object keeps) and the time in ps. "
   ]
  },
  {
   "cell_type": "code",
   "execution_count": 9,
   "metadata": {
    "papermill": {
     "duration": 0.023509,
     "end_time": "2019-04-18T13:52:34.074706",
     "exception": false,
     "start_time": "2019-04-18T13:52:34.051197",
     "status": "completed"
    },
    "tags": []
   },
   "outputs": [
    {
     "data": {
      "text/plain": [
       "0.1"
      ]
     },
     "execution_count": 9,
     "metadata": {},
     "output_type": "execute_result"
    }
   ],
   "source": [
    "lag = msms[0].lagtime\n",
    "dt = np.round(10/lag, 2)\n",
    "dt "
   ]
  },
  {
   "cell_type": "markdown",
   "metadata": {
    "papermill": {
     "duration": 0.013966,
     "end_time": "2019-04-18T13:52:34.103232",
     "exception": false,
     "start_time": "2019-04-18T13:52:34.089266",
     "status": "completed"
    },
    "tags": []
   },
   "source": [
    "# Image\n",
    "## Pruning the timescales. \n",
    "\n",
    "We only want to keep those chunks for which the timescales and corresponding HMM meet certain criteria. \n",
    "\n",
    "1. The HMM can't contain absorbing states. \n",
    "2. The MSM timescales are all longer than the MSM lag time (so are not spurious). \n",
    "\n",
    "First let's get the timescales from the MSMs.  This is irrespective of whether they have clear separation or not. We'll keep the first three for clarity. "
   ]
  },
  {
   "cell_type": "code",
   "execution_count": 10,
   "metadata": {
    "papermill": {
     "duration": 1.610785,
     "end_time": "2019-04-18T13:52:35.728936",
     "exception": false,
     "start_time": "2019-04-18T13:52:34.118151",
     "status": "completed"
    },
    "tags": []
   },
   "outputs": [
    {
     "data": {
      "text/plain": [
       "(1000, 3)"
      ]
     },
     "execution_count": 10,
     "metadata": {},
     "output_type": "execute_result"
    }
   ],
   "source": [
    "msm_timescales = np.concatenate([mm.timescales()[np.newaxis, :3] for mm in msms], axis=0)\n",
    "msm_timescales.shape"
   ]
  },
  {
   "cell_type": "markdown",
   "metadata": {
    "papermill": {
     "duration": 0.014563,
     "end_time": "2019-04-18T13:52:35.757895",
     "exception": false,
     "start_time": "2019-04-18T13:52:35.743332",
     "status": "completed"
    },
    "tags": []
   },
   "source": [
    "HMMs were only created if there was a timescale separation of 1.5. Of these we'll keep those that don't have any `1` on the diagonal of the transition marix. This indicates there was an absorbing state which we're ignoring. We'll call this `hmm_no_abs` i.e. hmm no absorbing state. "
   ]
  },
  {
   "cell_type": "code",
   "execution_count": 11,
   "metadata": {
    "papermill": {
     "duration": 0.025438,
     "end_time": "2019-04-18T13:52:35.802501",
     "exception": false,
     "start_time": "2019-04-18T13:52:35.777063",
     "status": "completed"
    },
    "tags": []
   },
   "outputs": [
    {
     "data": {
      "text/plain": [
       "166"
      ]
     },
     "execution_count": 11,
     "metadata": {},
     "output_type": "execute_result"
    }
   ],
   "source": [
    "hmm_no_abs = {k : v for k, v in hmms_dict.items() if not np.any(np.diag(v.transition_matrix)==1)}\n",
    "\n",
    "len(hmm_no_abs)"
   ]
  },
  {
   "cell_type": "markdown",
   "metadata": {
    "papermill": {
     "duration": 0.014488,
     "end_time": "2019-04-18T13:52:35.832105",
     "exception": false,
     "start_time": "2019-04-18T13:52:35.817617",
     "status": "completed"
    },
    "tags": []
   },
   "source": [
    "Now calculate the numbthis is the number of metastable states"
   ]
  },
  {
   "cell_type": "code",
   "execution_count": 12,
   "metadata": {
    "papermill": {
     "duration": 0.020675,
     "end_time": "2019-04-18T13:52:35.867842",
     "exception": false,
     "start_time": "2019-04-18T13:52:35.847167",
     "status": "completed"
    },
    "tags": []
   },
   "outputs": [],
   "source": [
    "hmm_n_states = {k: v.nstates for k, v in hmm_no_abs.items()}"
   ]
  },
  {
   "cell_type": "markdown",
   "metadata": {
    "papermill": {
     "duration": 0.014439,
     "end_time": "2019-04-18T13:52:35.897071",
     "exception": false,
     "start_time": "2019-04-18T13:52:35.882632",
     "status": "completed"
    },
    "tags": []
   },
   "source": [
    "We only want thos states for which the slow timescales are longer than the msm lag time. "
   ]
  },
  {
   "cell_type": "code",
   "execution_count": 13,
   "metadata": {
    "papermill": {
     "duration": 0.024897,
     "end_time": "2019-04-18T13:52:35.936838",
     "exception": false,
     "start_time": "2019-04-18T13:52:35.911941",
     "status": "completed"
    },
    "tags": []
   },
   "outputs": [
    {
     "data": {
      "text/plain": [
       "165"
      ]
     },
     "execution_count": 13,
     "metadata": {},
     "output_type": "execute_result"
    }
   ],
   "source": [
    "hmm_non_spurious = {k: v for k, v in hmm_n_states.items() if msm_timescales[k,v-2] >= lag}\n",
    "\n",
    "len(hmm_non_spurious)"
   ]
  },
  {
   "cell_type": "markdown",
   "metadata": {
    "papermill": {
     "duration": 0.015096,
     "end_time": "2019-04-18T13:52:35.966856",
     "exception": false,
     "start_time": "2019-04-18T13:52:35.951760",
     "status": "completed"
    },
    "tags": []
   },
   "source": [
    "This is a list of lists which gives the chunks which have 2 (and 3, and 4) states. "
   ]
  },
  {
   "cell_type": "code",
   "execution_count": 14,
   "metadata": {
    "papermill": {
     "duration": 0.023651,
     "end_time": "2019-04-18T13:52:36.005614",
     "exception": false,
     "start_time": "2019-04-18T13:52:35.981963",
     "status": "completed"
    },
    "tags": []
   },
   "outputs": [
    {
     "data": {
      "text/plain": [
       "3"
      ]
     },
     "execution_count": 14,
     "metadata": {},
     "output_type": "execute_result"
    }
   ],
   "source": [
    "idx_by_n_states = [[k for k, v in hmm_non_spurious.items() if v>=i] for i in range(2,5)]\n",
    "idx_by_n_states = [x for x in idx_by_n_states if len(x) > 0]\n",
    "len(idx_by_n_states)"
   ]
  },
  {
   "cell_type": "markdown",
   "metadata": {
    "papermill": {
     "duration": 0.015392,
     "end_time": "2019-04-18T13:52:36.036125",
     "exception": false,
     "start_time": "2019-04-18T13:52:36.020733",
     "status": "completed"
    },
    "tags": []
   },
   "source": [
    "## Slow timescale plots from MSM\n"
   ]
  },
  {
   "cell_type": "code",
   "execution_count": 15,
   "metadata": {
    "papermill": {
     "duration": 0.022578,
     "end_time": "2019-04-18T13:52:36.073714",
     "exception": false,
     "start_time": "2019-04-18T13:52:36.051136",
     "status": "completed"
    },
    "tags": []
   },
   "outputs": [
    {
     "name": "stdout",
     "output_type": "stream",
     "text": [
      "(1000, 3)\n",
      "(1000,)\n"
     ]
    }
   ],
   "source": [
    "time = np.arange(len(msms)) # timescale of trajectory in nanoseconds\n",
    "print(msm_timescales.shape)\n",
    "print(time.shape)"
   ]
  },
  {
   "cell_type": "code",
   "execution_count": 16,
   "metadata": {
    "papermill": {
     "duration": 1.622686,
     "end_time": "2019-04-18T13:52:37.712281",
     "exception": false,
     "start_time": "2019-04-18T13:52:36.089595",
     "status": "completed"
    },
    "scrolled": false,
    "tags": []
   },
   "outputs": [
    {
     "data": {
      "image/png": "[encoded data removed]",
      "text/plain": [
       "<Figure size 432x288 with 3 Axes>"
      ]
     },
     "metadata": {
      "needs_background": "light"
     },
     "output_type": "display_data"
    }
   ],
   "source": [
    "with sns.plotting_context('paper', font_scale=1.5):\n",
    "    n_rows = len(idx_by_n_states)\n",
    "    fig, axes = plt.subplots(n_rows,sharex=True, sharey=True,  figsize=(6,4))\n",
    "    if n_rows==1: axes = [axes]\n",
    "    # Each row will have those timescales which define the number of states.  \n",
    "    for i in range(n_rows):\n",
    "        \n",
    "        idx = idx_by_n_states[i]\n",
    "        \n",
    "        axes[i].scatter(time[idx], msm_timescales.T[i][idx]*dt, marker='o', s=20)\n",
    "        axes[i].set_yscale('log')\n",
    "        # Set ylim so that top marker shows up\n",
    "        ylim = axes[i].get_ylim()\n",
    "        axes[i].set_ylim(lag*dt-0.1,ylim[1])\n",
    "        # Labels\n",
    "        axes[i].set_ylabel(r'T$_{{{}}}$ (ps)'.format(i+1))\n",
    "        if i == n_rows-1: axes[i].set_xlabel('Time (ns)')\n",
    "        # set the grid\n",
    "        axes[i].grid(b=True, which='both', zorder=1, alpha=0.2)\n",
    "\n",
    "    fig.suptitle('Hopping timescales for trajectory {}'.format(traj_num))\n",
    "    fig.subplots_adjust(hspace=0.1)\n",
    "    plt.savefig('traj_{}_hopping_timescales.pdf'.format(traj_num), \n",
    "               bbox_inches='tight')"
   ]
  }
 ],
 "metadata": {
  "kernelspec": {
   "display_name": "Python 3",
   "language": "python",
   "name": "python3"
  },
  "language_info": {
   "codemirror_mode": {
    "name": "ipython",
    "version": 3
   },
   "file_extension": ".py",
   "mimetype": "text/x-python",
   "name": "python",
   "nbconvert_exporter": "python",
   "pygments_lexer": "ipython3",
   "version": "3.7.3"
  },
  "papermill": {
   "duration": 82.972308,
   "end_time": "2019-04-18T13:52:38.921112",
   "environment_variables": {},
   "exception": null,
   "input_path": "timescales.ipynb",
   "output_path": "timescales-7.ipynb",
   "parameters": {
    "traj_num": 7
   },
   "start_time": "2019-04-18T13:51:15.948804",
   "version": "0.19.1"
  }
 },
 "nbformat": 4,
 "nbformat_minor": 2
}