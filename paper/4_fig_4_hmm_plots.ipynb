{
 "cells": [
  {
   "cell_type": "code",
   "execution_count": 28,
   "metadata": {},
   "outputs": [],
   "source": [
    "%matplotlib inline\n",
    "import matplotlib.pyplot as plt\n",
    "import seaborn as sns\n",
    "import matplotlib\n",
    "from glob import glob\n",
    "import os\n",
    "import re\n",
    "import pyemma.msm as msm\n",
    "import pyemma.coordinates as coor\n",
    "import pyemma.plots as mplt\n",
    "import numpy as np\n",
    "import my_network_plot as myplt\n",
    "from mpl_toolkits.mplot3d import Axes3D\n",
    "from matplotlib import ticker\n",
    "import operator\n",
    "import pandas as pd\n",
    "import mdtraj as md\n",
    "import matplotlib.image as mpimg \n",
    "import pickle\n",
    "from pyemma.coordinates.clustering import KmeansClustering\n"
   ]
  },
  {
   "cell_type": "markdown",
   "metadata": {},
   "source": [
    "# Load the data"
   ]
  },
  {
   "cell_type": "markdown",
   "metadata": {},
   "source": [
    "Below is the parameters cell for papermill parameterisation:"
   ]
  },
  {
   "cell_type": "code",
   "execution_count": 46,
   "metadata": {
    "tags": [
     "parameters"
    ]
   },
   "outputs": [],
   "source": [
    "traj_num = 3\n",
    "root_dir = 'msm_10ps'\n",
    "slice_nums = [(2, 255), (3, 902)]\n"
   ]
  },
  {
   "cell_type": "code",
   "execution_count": 47,
   "metadata": {},
   "outputs": [],
   "source": [
    "bhmms = [pickle.load(open('bhmm_mods/{1}_state/traj_{0}-idx_{2}_bhmm.p'.format(traj_num, *x),'rb')) \n",
    "         for x in slice_nums]"
   ]
  },
  {
   "cell_type": "code",
   "execution_count": 48,
   "metadata": {},
   "outputs": [
    {
     "data": {
      "text/plain": [
       "array([1, 2, 1, 0, 2, 0, 0, 2, 1, 0, 2, 2, 1, 2, 2, 0, 2, 0, 2, 0, 1, 2, 2,\n",
       "       1, 1, 0, 1, 2, 2, 0, 2, 2, 2, 0, 0, 1, 0, 2, 1, 2, 1, 0, 2, 0, 2, 1,\n",
       "       1, 0, 0, 1, 2, 2, 2])"
      ]
     },
     "execution_count": 48,
     "metadata": {},
     "output_type": "execute_result"
    }
   ],
   "source": [
    "bhmms[1].metastable_assignments"
   ]
  },
  {
   "cell_type": "code",
   "execution_count": 49,
   "metadata": {
    "scrolled": true
   },
   "outputs": [],
   "source": [
    "cluster = KmeansClustering(n_clusters=1).\\\n",
    "    load('msm_10ps/output_3/902_dtraj_obj.pyemma')\n",
    "ccs = cluster.cluster_centers_"
   ]
  },
  {
   "cell_type": "code",
   "execution_count": 59,
   "metadata": {},
   "outputs": [
    {
     "data": {
      "text/plain": [
       "array([ 2,  3,  7,  9, 11, 14, 16, 18, 19, 20, 28, 30, 31, 32, 33, 34, 37,\n",
       "       38, 39, 40, 41, 42, 43, 45, 47, 48, 49, 50, 52, 53, 54, 55, 56, 57,\n",
       "       59, 60, 61, 64, 68, 70, 71, 73, 75, 76, 77, 78, 79, 83, 84, 86, 89,\n",
       "       90, 92])"
      ]
     },
     "execution_count": 59,
     "metadata": {},
     "output_type": "execute_result"
    }
   ],
   "source": [
    "idx = bhmms[1].observable_set\n",
    "idx"
   ]
  },
  {
   "cell_type": "code",
   "execution_count": 53,
   "metadata": {},
   "outputs": [
    {
     "data": {
      "text/plain": [
       "<matplotlib.collections.PathCollection at 0x11afb7470>"
      ]
     },
     "execution_count": 53,
     "metadata": {},
     "output_type": "execute_result"
    },
    {
     "data": {
      "image/png": "[encoded data removed]",
      "text/plain": [
       "<Figure size 432x288 with 1 Axes>"
      ]
     },
     "metadata": {
      "needs_background": "light"
     },
     "output_type": "display_data"
    }
   ],
   "source": [
    "plt.scatter(ccs[idx, 1], ccs[idx, 2], c=bhmms[1].metastable_assignments)"
   ]
  },
  {
   "cell_type": "code",
   "execution_count": 54,
   "metadata": {},
   "outputs": [],
   "source": [
    "hmm = msm.MaximumLikelihoodHMSM().load('msm_10ps/output_3/902_hmm_obj.pyemma')"
   ]
  },
  {
   "cell_type": "code",
   "execution_count": 58,
   "metadata": {},
   "outputs": [
    {
     "ename": "ValueError",
     "evalue": "operands could not be broadcast together with shapes (100,) (53,) ",
     "output_type": "error",
     "traceback": [
      "\u001b[0;31m---------------------------------------------------------------------------\u001b[0m",
      "\u001b[0;31mValueError\u001b[0m                                Traceback (most recent call last)",
      "\u001b[0;32m<ipython-input-58-7d78024aa2be>\u001b[0m in \u001b[0;36m<module>\u001b[0;34m\u001b[0m\n\u001b[0;32m----> 1\u001b[0;31m \u001b[0mhmm\u001b[0m\u001b[0;34m.\u001b[0m\u001b[0mmetastable_assignments\u001b[0m \u001b[0;34m-\u001b[0m \u001b[0mbhmms\u001b[0m\u001b[0;34m[\u001b[0m\u001b[0;36m1\u001b[0m\u001b[0;34m]\u001b[0m\u001b[0;34m.\u001b[0m\u001b[0mmetastable_assignments\u001b[0m\u001b[0;34m\u001b[0m\u001b[0;34m\u001b[0m\u001b[0m\n\u001b[0m",
      "\u001b[0;31mValueError\u001b[0m: operands could not be broadcast together with shapes (100,) (53,) "
     ]
    }
   ],
   "source": [
    "hmm.metastable_assignments - bhmms[1].metastable_assignments"
   ]
  },
  {
   "cell_type": "code",
   "execution_count": 14,
   "metadata": {},
   "outputs": [
    {
     "data": {
      "text/plain": [
       "0.10000000000000001"
      ]
     },
     "execution_count": 14,
     "metadata": {},
     "output_type": "execute_result"
    }
   ],
   "source": [
    "lag = bhmms[0].lagtime\n",
    "lag_ps = 10\n",
    "dt = np.round(lag_ps/lag, 2)\n",
    "dt "
   ]
  },
  {
   "cell_type": "code",
   "execution_count": 15,
   "metadata": {},
   "outputs": [],
   "source": [
    "import numpy.linalg as la\n",
    "def get_rate_matrix(T):\n",
    "    # diagnonalize\n",
    "    w, v = la.eig(T)\n",
    "    # sort eigenvectors and eigenvalues\n",
    "    order = np.argsort(w)[::-1]\n",
    "    w = w[order]\n",
    "    v = v[:, order]\n",
    "    # create diagonal matrix\n",
    "    n = len(w)\n",
    "    ln_T_diag = np.eye(n)\n",
    "    ln_T_diag[np.eye(n, dtype=bool)] =  np.log(w)\n",
    "    # convert to original basis\n",
    "    lnT = la.multi_dot((v,ln_T_diag, la.inv(v)))\n",
    "    K = lnT/lag_ps\n",
    "    return K"
   ]
  },
  {
   "cell_type": "code",
   "execution_count": 16,
   "metadata": {},
   "outputs": [],
   "source": [
    "def plot_timescales(axes,  mm, dt, let, maxy=4388, xscale=1):\n",
    "    \n",
    "    ax = axes\n",
    "    # Timescale plots\n",
    "    ts = mm.sample_mean('timescales')*dt\n",
    "    tsL,tsR = mm.sample_conf('timescales')\n",
    "    tsL, tsR = tsL*dt, tsR*dt\n",
    "    N = mm.nstates\n",
    "    maxy = 10**(int(np.log10(maxy))+1)\n",
    "    # Slow:\n",
    "#     ax.plot(ts[0], 0, 1, lw=5, color='g', label='Slow')\n",
    "    cols = sns.color_palette('colorblind', N-1)\n",
    "    for i in range(0,N-1): \n",
    "        y = np.repeat(ts[i], 2)\n",
    "        yl = np.repeat(tsL[i], 2)\n",
    "        yr = np.repeat(tsR[i], 2)\n",
    "        \n",
    "        x = np.array([0, 1])+i\n",
    "        ax.plot(x*xscale, y, lw=5, color=cols[i])\n",
    "        ax.fill_between(x*xscale, yl, yr, color=cols[i], alpha=0.5)\n",
    "\n",
    "\n",
    "    # Labels\n",
    "    ax.set_yscale('log')\n",
    "#     ax.set_ylabel('Timescales (ps)')\n",
    "    \n",
    "    # Tick marks for timescale plots\n",
    "    locator = matplotlib.ticker.FixedLocator(locs=ts[:N], nbins=N)\n",
    "    formatter = matplotlib.ticker.StrMethodFormatter('{x:3.0f} ps')\n",
    "    ax.yaxis.set_major_formatter(formatter)\n",
    "    ax.yaxis.set_major_locator(locator)\n",
    "    ax.tick_params(which='minor', labelleft=False, left=False)\n",
    "    ax.tick_params(which='major', labelbottom = False, bottom=False)\n",
    "    ax.set_ylim(1, maxy)\n",
    "    \n",
    "    formatter2 = matplotlib.ticker.FuncFormatter(lambda x, pos: '{0}'.format(int(np.log10(x))))\n",
    "\n",
    "    ax2 = ax.twinx()\n",
    "    ax2.set_ylim(1, maxy)\n",
    "    ax2.set_yscale('log')\n",
    "    ax2.yaxis.set_major_formatter(formatter2) \n",
    "    ax2.set_ylabel(r'$\\log(\\tau/ps)$', rotation=0, horizontalalignment='left', labelpad=10 )\n",
    "    \n",
    "    ax.annotate(s='({})(iii)'.format(let), xy=(0.05, 1.05), xycoords='axes fraction', family='Times New Roman')\n"
   ]
  },
  {
   "cell_type": "code",
   "execution_count": 18,
   "metadata": {},
   "outputs": [
    {
     "data": {
      "image/png": "[encoded data removed]",
      "text/plain": [
       "<Figure size 432x288 with 2 Axes>"
      ]
     },
     "metadata": {
      "needs_background": "light"
     },
     "output_type": "display_data"
    }
   ],
   "source": [
    "fig, ax = plt.subplots()\n",
    "plot_timescales(ax, bhmms[0], dt, 'a')"
   ]
  },
  {
   "cell_type": "code",
   "execution_count": 19,
   "metadata": {},
   "outputs": [],
   "source": [
    "def plot_network(mm, ax, let, pad=0.4):\n",
    "    N = mm.nstates\n",
    "    # Colors \n",
    "    cmap_use = 'viridis_r'\n",
    "    cmap = matplotlib.cm.get_cmap(cmap_use,N)\n",
    "    cols = [cmap(n) for n in range(N)]\n",
    "    T = mm.sample_mean('transition_matrix')\n",
    "    K = get_rate_matrix(T)\n",
    "    ts = 1.0/K\n",
    "    # Network\n",
    "    r = 0.8\n",
    "    shift = 1 #0*np.pi/6\n",
    "    x = np.array([r * np.cos(2*np.pi*n/N + shift) for n in range(N)])\n",
    "    y = np.array([r * np.sin(2*np.pi*n/N + shift) for n in range(N)])\n",
    "#     delta = -0.2\n",
    "    pos = np.concatenate((x[:, np.newaxis], y[:,np.newaxis]), axis=1)\n",
    "    _, _ = myplt.plot_markov_model(mm.transition_matrix, ax=ax, \n",
    "                                  arrow_curvature=3.5, state_colors=cols, arrow_labels=ts, \n",
    "                                  arrow_label_format = '%2.0f ps',pos=pos,\n",
    "                                  figpadding=pad, arrow_scale=0.5, state_scale=2)\n",
    "    ax.annotate(s='({})(ii)'.format(let), xy=(0.3, 1.05), xycoords='axes fraction', family='Times New Roman')\n",
    "    \n"
   ]
  },
  {
   "cell_type": "code",
   "execution_count": 21,
   "metadata": {},
   "outputs": [
    {
     "data": {
      "image/png": "[encoded data removed]",
      "text/plain": [
       "<Figure size 432x288 with 1 Axes>"
      ]
     },
     "metadata": {},
     "output_type": "display_data"
    }
   ],
   "source": [
    "fig, axes = plt.subplots(1)\n",
    "plot_network(bhmms[1], axes, 'a', pad=0.3)"
   ]
  },
  {
   "cell_type": "code",
   "execution_count": 22,
   "metadata": {
    "scrolled": false
   },
   "outputs": [],
   "source": [
    "def plot_image(ax, idx, let, coords, T):\n",
    "    # scatter plot\n",
    "    img = mpimg.imread('slice_{}_crop.tga'.format(slice_nums[idx][1]))\n",
    "    ax.imshow(img)\n",
    "    ax.tick_params(which='both', labelbottom=False,labelleft=False,labeltop=False,labelright=False,\n",
    "                      bottom=False, left=False, top=False, right=False)\n",
    "    _ = [x.set_visible(False) for x in ax.spines.values()]\n",
    "    \n",
    "    # Panel num\n",
    "    ax.annotate(s='({})(i)'.format(let), xy=(0.05, 1.05), xycoords='axes fraction', family='Times New Roman')\n",
    "\n",
    "    # time label\n",
    "    ax.annotate(s='{} ns'.format(T), xy=(0.65, 0.9), xycoords='axes fraction')\n",
    "\n",
    "    # Axes labels\n",
    "    x1, y1 = 0.3, 0.1\n",
    "    x2, y2 = 0.1, 0.3\n",
    "    connectionstyle = \"angle,angleA=-90,angleB=0,rad=0\"\n",
    "    ax.annotate(\"\",\n",
    "                xy=(x1, y1), xycoords='axes fraction',\n",
    "                xytext=(x2, y2), textcoords='axes fraction',\n",
    "                arrowprops=dict(arrowstyle=\"<->\", color='k',\n",
    "                                connectionstyle=connectionstyle,lw=2,\n",
    "                                ))\n",
    "    ax.annotate(s=coords[0],xy=(x1*1.01, y1*0.9), xycoords='axes fraction')\n",
    "    ax.annotate(s=coords[1],xy=(x2*0.9, y2*1.1), xycoords='axes fraction')\n",
    "    \n",
    "    \n"
   ]
  },
  {
   "cell_type": "code",
   "execution_count": 24,
   "metadata": {},
   "outputs": [
    {
     "data": {
      "image/png": "[encoded data removed]",
      "text/plain": [
       "<Figure size 432x288 with 1 Axes>"
      ]
     },
     "metadata": {},
     "output_type": "display_data"
    }
   ],
   "source": [
    "fig, ax = plt.subplots()\n",
    "plot_image(ax,0,'a', coords=['x','y'], T=666)"
   ]
  },
  {
   "cell_type": "markdown",
   "metadata": {},
   "source": [
    "# MSM plot "
   ]
  },
  {
   "cell_type": "code",
   "execution_count": 34,
   "metadata": {
    "scrolled": false
   },
   "outputs": [
    {
     "name": "stderr",
     "output_type": "stream",
     "text": [
      "/Users/robertarbon/miniconda3/envs/science/lib/python3.6/site-packages/ipykernel_launcher.py:12: RuntimeWarning: invalid value encountered in log\n",
      "  if sys.path[0] == '':\n"
     ]
    }
   ],
   "source": [
    "TRAJ_LEN=1000\n",
    "with sns.plotting_context('paper', font_scale=2):\n",
    "    scale=5\n",
    "    ncols=3\n",
    "    nrows=3\n",
    "#     sns.set_style(rc={'font.family':'serif', 'font.serif': 'times'})\n",
    "\n",
    "    for idx in range(3):\n",
    "\n",
    "        letters = ['a', 'b', 'c']\n",
    "        coords = [['z', 'y'], ['-x', 'y'], ['y', 'x']]\n",
    "#         idx = 1\n",
    "        # Set up figure and axes\n",
    "\n",
    "#         axes = [fig.add_subplot(gs[idx, i]) for i in range(0,ncols)]\n",
    "        fig, ax = plt.subplots(1)\n",
    "        plot_image(ax, idx,  letters[idx], coords=coords[idx], T=slice_nums[idx][1])\n",
    "        plt.savefig('{}-1.png'.format(idx), dpi=450, bbox_inches='tight')\n",
    "        plt.close()\n",
    "        \n",
    "        # network\n",
    "        fig, ax = plt.subplots(1)\n",
    "        plot_network(bhmms[idx], ax, letters[idx], pad=0.3)\n",
    "        plt.savefig('{}-2.png'.format(idx), dpi=450, bbox_inches='tight')\n",
    "        plt.close()\n",
    "\n",
    "        # timescales\n",
    "        fig, ax = plt.subplots(1, figsize=(3,4))\n",
    "        plot_timescales(ax, bhmms[idx], dt, letters[idx], xscale=1)\n",
    "        plt.savefig('{}-3.png'.format(idx), dpi=450, bbox_inches='tight')\n",
    "        plt.close()\n",
    "\n",
    "#     gs.tight_layout(fig, w_pad=0)\n",
    "#     plt.savefig('traj-{0}_slices-{1}-{2}-{3}.png'.format(traj_num, *[slice_nums[i][1] for i in range(3)]), \n",
    "#                 dpi=300, bbox_inches='tight')\n"
   ]
  },
  {
   "cell_type": "code",
   "execution_count": null,
   "metadata": {},
   "outputs": [],
   "source": []
  }
 ],
 "metadata": {
  "kernelspec": {
   "display_name": "Python 3",
   "language": "python",
   "name": "python3"
  },
  "language_info": {
   "codemirror_mode": {
    "name": "ipython",
    "version": 3
   },
   "file_extension": ".py",
   "mimetype": "text/x-python",
   "name": "python",
   "nbconvert_exporter": "python",
   "pygments_lexer": "ipython3",
   "version": "3.6.7"
  }
 },
 "nbformat": 4,
 "nbformat_minor": 2
}
