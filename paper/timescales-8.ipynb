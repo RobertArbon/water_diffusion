{
 "cells": [
  {
   "cell_type": "code",
   "execution_count": 1,
   "metadata": {
    "papermill": {
     "duration": 1.234797,
     "end_time": "2019-04-18T13:52:44.576574",
     "exception": false,
     "start_time": "2019-04-18T13:52:43.341777",
     "status": "completed"
    },
    "tags": []
   },
   "outputs": [
    {
     "name": "stderr",
     "output_type": "stream",
     "text": [
      "/Users/robertarbon/miniconda3/envs/science/lib/python3.7/site-packages/pyemma/util/log.py:64: YAMLLoadWarning: calling yaml.load() without Loader=... is deprecated, as the default Loader is unsafe. Please read https://msg.pyyaml.org/load for full details.\n",
      "  D = yaml.load(f2)\n"
     ]
    }
   ],
   "source": [
    "%matplotlib inline\n",
    "import matplotlib.pyplot as plt\n",
    "import seaborn as sns\n",
    "import matplotlib\n",
    "from glob import glob\n",
    "import os\n",
    "import re\n",
    "import pyemma.msm as msm\n",
    "import numpy as np"
   ]
  },
  {
   "cell_type": "markdown",
   "metadata": {
    "papermill": {
     "duration": 0.013477,
     "end_time": "2019-04-18T13:52:44.605863",
     "exception": false,
     "start_time": "2019-04-18T13:52:44.592386",
     "status": "completed"
    },
    "tags": []
   },
   "source": [
    "# Load the data"
   ]
  },
  {
   "cell_type": "markdown",
   "metadata": {
    "papermill": {
     "duration": 0.013047,
     "end_time": "2019-04-18T13:52:44.633255",
     "exception": false,
     "start_time": "2019-04-18T13:52:44.620208",
     "status": "completed"
    },
    "tags": []
   },
   "source": [
    "Below is the parameters cell for papermill parameterisation:"
   ]
  },
  {
   "cell_type": "code",
   "execution_count": 2,
   "metadata": {
    "papermill": {
     "duration": 0.020455,
     "end_time": "2019-04-18T13:52:44.667753",
     "exception": false,
     "start_time": "2019-04-18T13:52:44.647298",
     "status": "completed"
    },
    "tags": [
     "parameters"
    ]
   },
   "outputs": [],
   "source": [
    "traj_num = 8\n",
    "root_dir = 'msm_10ps'"
   ]
  },
  {
   "cell_type": "code",
   "execution_count": 3,
   "metadata": {
    "papermill": {
     "duration": 0.018559,
     "end_time": "2019-04-18T13:52:44.701439",
     "exception": false,
     "start_time": "2019-04-18T13:52:44.682880",
     "status": "completed"
    },
    "tags": [
     "injected-parameters"
    ]
   },
   "outputs": [],
   "source": [
    "# Parameters\n",
    "traj_num = 8\n"
   ]
  },
  {
   "cell_type": "markdown",
   "metadata": {
    "papermill": {
     "duration": 0.016215,
     "end_time": "2019-04-18T13:52:44.732751",
     "exception": false,
     "start_time": "2019-04-18T13:52:44.716536",
     "status": "completed"
    },
    "tags": []
   },
   "source": [
    "The paths to the relevant objects"
   ]
  },
  {
   "cell_type": "code",
   "execution_count": 4,
   "metadata": {
    "papermill": {
     "duration": 0.042135,
     "end_time": "2019-04-18T13:52:44.787971",
     "exception": false,
     "start_time": "2019-04-18T13:52:44.745836",
     "status": "completed"
    },
    "tags": []
   },
   "outputs": [],
   "source": [
    "data_dir = root_dir+'/output_{}'.format(traj_num)\n",
    "msm_paths = [os.path.join(data_dir, '{}_msm_obj.pyemma'.format(i)) for i in range(1000)]\n",
    "hmm_paths = glob(os.path.join(data_dir, '*_hmm_obj.pyemma'))\n"
   ]
  },
  {
   "cell_type": "markdown",
   "metadata": {
    "papermill": {
     "duration": 0.01349,
     "end_time": "2019-04-18T13:52:44.814663",
     "exception": false,
     "start_time": "2019-04-18T13:52:44.801173",
     "status": "completed"
    },
    "tags": []
   },
   "source": [
    "### HMMs"
   ]
  },
  {
   "cell_type": "markdown",
   "metadata": {
    "papermill": {
     "duration": 0.013265,
     "end_time": "2019-04-18T13:52:44.841337",
     "exception": false,
     "start_time": "2019-04-18T13:52:44.828072",
     "status": "completed"
    },
    "tags": []
   },
   "source": [
    "This loads the HMM objects. "
   ]
  },
  {
   "cell_type": "code",
   "execution_count": 5,
   "metadata": {
    "papermill": {
     "duration": 72.564241,
     "end_time": "2019-04-18T13:53:57.418842",
     "exception": false,
     "start_time": "2019-04-18T13:52:44.854601",
     "status": "completed"
    },
    "tags": []
   },
   "outputs": [
    {
     "name": "stderr",
     "output_type": "stream",
     "text": [
      "/Users/robertarbon/miniconda3/envs/science/lib/python3.7/site-packages/pyemma/_base/serialization/pickle_extensions.py:52: UserWarning: BLOSC compression filter unavailable. Your resulting file may be large and not optimal to process.\n",
      "  warnings.warn('BLOSC compression filter unavailable. '\n"
     ]
    }
   ],
   "source": [
    "hmms = [msm.MaximumLikelihoodHMSM().load(x) for x in hmm_paths]"
   ]
  },
  {
   "cell_type": "markdown",
   "metadata": {
    "papermill": {
     "duration": 0.013518,
     "end_time": "2019-04-18T13:53:57.446653",
     "exception": false,
     "start_time": "2019-04-18T13:53:57.433135",
     "status": "completed"
    },
    "tags": []
   },
   "source": [
    "This determins which 'chunk' of the trajectory each HMM object pertains to. "
   ]
  },
  {
   "cell_type": "code",
   "execution_count": 6,
   "metadata": {
    "papermill": {
     "duration": 0.034181,
     "end_time": "2019-04-18T13:53:57.496533",
     "exception": false,
     "start_time": "2019-04-18T13:53:57.462352",
     "status": "completed"
    },
    "tags": []
   },
   "outputs": [
    {
     "data": {
      "text/plain": [
       "[2, 882, 897, 32, 27, 791, 784, 868, 441, 454]"
      ]
     },
     "execution_count": 6,
     "metadata": {},
     "output_type": "execute_result"
    }
   ],
   "source": [
    "hmm_chunks = [int(re.search('^[0-9]+', os.path.basename(x)).group(0)) for x in hmm_paths]\n",
    "hmm_chunks[:10]"
   ]
  },
  {
   "cell_type": "markdown",
   "metadata": {
    "papermill": {
     "duration": 0.015536,
     "end_time": "2019-04-18T13:53:57.527323",
     "exception": false,
     "start_time": "2019-04-18T13:53:57.511787",
     "status": "completed"
    },
    "tags": []
   },
   "source": [
    "Now make a dictionary out of them. "
   ]
  },
  {
   "cell_type": "code",
   "execution_count": 7,
   "metadata": {
    "papermill": {
     "duration": 0.02119,
     "end_time": "2019-04-18T13:53:57.565421",
     "exception": false,
     "start_time": "2019-04-18T13:53:57.544231",
     "status": "completed"
    },
    "tags": []
   },
   "outputs": [],
   "source": [
    "hmms_dict = dict(zip(hmm_chunks, hmms))"
   ]
  },
  {
   "cell_type": "markdown",
   "metadata": {
    "papermill": {
     "duration": 0.013561,
     "end_time": "2019-04-18T13:53:57.593256",
     "exception": false,
     "start_time": "2019-04-18T13:53:57.579695",
     "status": "completed"
    },
    "tags": []
   },
   "source": [
    "### MSMs\n"
   ]
  },
  {
   "cell_type": "markdown",
   "metadata": {
    "papermill": {
     "duration": 0.013449,
     "end_time": "2019-04-18T13:53:57.620328",
     "exception": false,
     "start_time": "2019-04-18T13:53:57.606879",
     "status": "completed"
    },
    "tags": []
   },
   "source": [
    "Now load the MSMs. There's one for every chunk so we don't need to label them. "
   ]
  },
  {
   "cell_type": "code",
   "execution_count": 8,
   "metadata": {
    "papermill": {
     "duration": 14.610079,
     "end_time": "2019-04-18T13:54:12.244374",
     "exception": false,
     "start_time": "2019-04-18T13:53:57.634295",
     "status": "completed"
    },
    "tags": []
   },
   "outputs": [],
   "source": [
    "msms = [msm.MaximumLikelihoodMSM().load(x) for x in msm_paths]"
   ]
  },
  {
   "cell_type": "markdown",
   "metadata": {
    "papermill": {
     "duration": 0.01803,
     "end_time": "2019-04-18T13:54:12.278283",
     "exception": false,
     "start_time": "2019-04-18T13:54:12.260253",
     "status": "completed"
    },
    "tags": []
   },
   "source": [
    "This is the conversion between lag in frames (which the MSM object keeps) and the time in ps. "
   ]
  },
  {
   "cell_type": "code",
   "execution_count": 9,
   "metadata": {
    "papermill": {
     "duration": 0.023319,
     "end_time": "2019-04-18T13:54:12.315382",
     "exception": false,
     "start_time": "2019-04-18T13:54:12.292063",
     "status": "completed"
    },
    "tags": []
   },
   "outputs": [
    {
     "data": {
      "text/plain": [
       "0.1"
      ]
     },
     "execution_count": 9,
     "metadata": {},
     "output_type": "execute_result"
    }
   ],
   "source": [
    "lag = msms[0].lagtime\n",
    "dt = np.round(10/lag, 2)\n",
    "dt "
   ]
  },
  {
   "cell_type": "markdown",
   "metadata": {
    "papermill": {
     "duration": 0.014146,
     "end_time": "2019-04-18T13:54:12.345397",
     "exception": false,
     "start_time": "2019-04-18T13:54:12.331251",
     "status": "completed"
    },
    "tags": []
   },
   "source": [
    "# Image\n",
    "## Pruning the timescales. \n",
    "\n",
    "We only want to keep those chunks for which the timescales and corresponding HMM meet certain criteria. \n",
    "\n",
    "1. The HMM can't contain absorbing states. \n",
    "2. The MSM timescales are all longer than the MSM lag time (so are not spurious). \n",
    "\n",
    "First let's get the timescales from the MSMs.  This is irrespective of whether they have clear separation or not. We'll keep the first three for clarity. "
   ]
  },
  {
   "cell_type": "code",
   "execution_count": 10,
   "metadata": {
    "papermill": {
     "duration": 1.618141,
     "end_time": "2019-04-18T13:54:13.978244",
     "exception": false,
     "start_time": "2019-04-18T13:54:12.360103",
     "status": "completed"
    },
    "tags": []
   },
   "outputs": [
    {
     "data": {
      "text/plain": [
       "(1000, 3)"
      ]
     },
     "execution_count": 10,
     "metadata": {},
     "output_type": "execute_result"
    }
   ],
   "source": [
    "msm_timescales = np.concatenate([mm.timescales()[np.newaxis, :3] for mm in msms], axis=0)\n",
    "msm_timescales.shape"
   ]
  },
  {
   "cell_type": "markdown",
   "metadata": {
    "papermill": {
     "duration": 0.014633,
     "end_time": "2019-04-18T13:54:14.007103",
     "exception": false,
     "start_time": "2019-04-18T13:54:13.992470",
     "status": "completed"
    },
    "tags": []
   },
   "source": [
    "HMMs were only created if there was a timescale separation of 1.5. Of these we'll keep those that don't have any `1` on the diagonal of the transition marix. This indicates there was an absorbing state which we're ignoring. We'll call this `hmm_no_abs` i.e. hmm no absorbing state. "
   ]
  },
  {
   "cell_type": "code",
   "execution_count": 11,
   "metadata": {
    "papermill": {
     "duration": 0.02634,
     "end_time": "2019-04-18T13:54:14.050860",
     "exception": false,
     "start_time": "2019-04-18T13:54:14.024520",
     "status": "completed"
    },
    "tags": []
   },
   "outputs": [
    {
     "data": {
      "text/plain": [
       "235"
      ]
     },
     "execution_count": 11,
     "metadata": {},
     "output_type": "execute_result"
    }
   ],
   "source": [
    "hmm_no_abs = {k : v for k, v in hmms_dict.items() if not np.any(np.diag(v.transition_matrix)==1)}\n",
    "\n",
    "len(hmm_no_abs)"
   ]
  },
  {
   "cell_type": "markdown",
   "metadata": {
    "papermill": {
     "duration": 0.014402,
     "end_time": "2019-04-18T13:54:14.080390",
     "exception": false,
     "start_time": "2019-04-18T13:54:14.065988",
     "status": "completed"
    },
    "tags": []
   },
   "source": [
    "Now calculate the numbthis is the number of metastable states"
   ]
  },
  {
   "cell_type": "code",
   "execution_count": 12,
   "metadata": {
    "papermill": {
     "duration": 0.029052,
     "end_time": "2019-04-18T13:54:14.124173",
     "exception": false,
     "start_time": "2019-04-18T13:54:14.095121",
     "status": "completed"
    },
    "tags": []
   },
   "outputs": [],
   "source": [
    "hmm_n_states = {k: v.nstates for k, v in hmm_no_abs.items()}"
   ]
  },
  {
   "cell_type": "markdown",
   "metadata": {
    "papermill": {
     "duration": 0.01462,
     "end_time": "2019-04-18T13:54:14.154855",
     "exception": false,
     "start_time": "2019-04-18T13:54:14.140235",
     "status": "completed"
    },
    "tags": []
   },
   "source": [
    "We only want thos states for which the slow timescales are longer than the msm lag time. "
   ]
  },
  {
   "cell_type": "code",
   "execution_count": 13,
   "metadata": {
    "papermill": {
     "duration": 0.024378,
     "end_time": "2019-04-18T13:54:14.194637",
     "exception": false,
     "start_time": "2019-04-18T13:54:14.170259",
     "status": "completed"
    },
    "tags": []
   },
   "outputs": [
    {
     "data": {
      "text/plain": [
       "229"
      ]
     },
     "execution_count": 13,
     "metadata": {},
     "output_type": "execute_result"
    }
   ],
   "source": [
    "hmm_non_spurious = {k: v for k, v in hmm_n_states.items() if msm_timescales[k,v-2] >= lag}\n",
    "\n",
    "len(hmm_non_spurious)"
   ]
  },
  {
   "cell_type": "markdown",
   "metadata": {
    "papermill": {
     "duration": 0.016861,
     "end_time": "2019-04-18T13:54:14.226969",
     "exception": false,
     "start_time": "2019-04-18T13:54:14.210108",
     "status": "completed"
    },
    "tags": []
   },
   "source": [
    "This is a list of lists which gives the chunks which have 2 (and 3, and 4) states. "
   ]
  },
  {
   "cell_type": "code",
   "execution_count": 14,
   "metadata": {
    "papermill": {
     "duration": 0.025682,
     "end_time": "2019-04-18T13:54:14.268056",
     "exception": false,
     "start_time": "2019-04-18T13:54:14.242374",
     "status": "completed"
    },
    "tags": []
   },
   "outputs": [
    {
     "data": {
      "text/plain": [
       "2"
      ]
     },
     "execution_count": 14,
     "metadata": {},
     "output_type": "execute_result"
    }
   ],
   "source": [
    "idx_by_n_states = [[k for k, v in hmm_non_spurious.items() if v>=i] for i in range(2,5)]\n",
    "idx_by_n_states = [x for x in idx_by_n_states if len(x) > 0]\n",
    "len(idx_by_n_states)"
   ]
  },
  {
   "cell_type": "markdown",
   "metadata": {
    "papermill": {
     "duration": 0.015439,
     "end_time": "2019-04-18T13:54:14.303126",
     "exception": false,
     "start_time": "2019-04-18T13:54:14.287687",
     "status": "completed"
    },
    "tags": []
   },
   "source": [
    "## Slow timescale plots from MSM\n"
   ]
  },
  {
   "cell_type": "code",
   "execution_count": 15,
   "metadata": {
    "papermill": {
     "duration": 0.024299,
     "end_time": "2019-04-18T13:54:14.343114",
     "exception": false,
     "start_time": "2019-04-18T13:54:14.318815",
     "status": "completed"
    },
    "tags": []
   },
   "outputs": [
    {
     "name": "stdout",
     "output_type": "stream",
     "text": [
      "(1000, 3)\n",
      "(1000,)\n"
     ]
    }
   ],
   "source": [
    "time = np.arange(len(msms)) # timescale of trajectory in nanoseconds\n",
    "print(msm_timescales.shape)\n",
    "print(time.shape)"
   ]
  },
  {
   "cell_type": "code",
   "execution_count": 16,
   "metadata": {
    "papermill": {
     "duration": 1.238708,
     "end_time": "2019-04-18T13:54:15.597033",
     "exception": false,
     "start_time": "2019-04-18T13:54:14.358325",
     "status": "completed"
    },
    "scrolled": false,
    "tags": []
   },
   "outputs": [
    {
     "data": {
      "image/png": "[encoded data removed]",
      "text/plain": [
       "<Figure size 432x288 with 2 Axes>"
      ]
     },
     "metadata": {
      "needs_background": "light"
     },
     "output_type": "display_data"
    }
   ],
   "source": [
    "with sns.plotting_context('paper', font_scale=1.5):\n",
    "    n_rows = len(idx_by_n_states)\n",
    "    fig, axes = plt.subplots(n_rows,sharex=True, sharey=True,  figsize=(6,4))\n",
    "    if n_rows==1: axes = [axes]\n",
    "    # Each row will have those timescales which define the number of states.  \n",
    "    for i in range(n_rows):\n",
    "        \n",
    "        idx = idx_by_n_states[i]\n",
    "        \n",
    "        axes[i].scatter(time[idx], msm_timescales.T[i][idx]*dt, marker='o', s=20)\n",
    "        axes[i].set_yscale('log')\n",
    "        # Set ylim so that top marker shows up\n",
    "        ylim = axes[i].get_ylim()\n",
    "        axes[i].set_ylim(lag*dt-0.1,ylim[1])\n",
    "        # Labels\n",
    "        axes[i].set_ylabel(r'T$_{{{}}}$ (ps)'.format(i+1))\n",
    "        if i == n_rows-1: axes[i].set_xlabel('Time (ns)')\n",
    "        # set the grid\n",
    "        axes[i].grid(b=True, which='both', zorder=1, alpha=0.2)\n",
    "\n",
    "    fig.suptitle('Hopping timescales for trajectory {}'.format(traj_num))\n",
    "    fig.subplots_adjust(hspace=0.1)\n",
    "    plt.savefig('traj_{}_hopping_timescales.pdf'.format(traj_num), \n",
    "               bbox_inches='tight')"
   ]
  }
 ],
 "metadata": {
  "kernelspec": {
   "display_name": "Python 3",
   "language": "python",
   "name": "python3"
  },
  "language_info": {
   "codemirror_mode": {
    "name": "ipython",
    "version": 3
   },
   "file_extension": ".py",
   "mimetype": "text/x-python",
   "name": "python",
   "nbconvert_exporter": "python",
   "pygments_lexer": "ipython3",
   "version": "3.7.3"
  },
  "papermill": {
   "duration": 95.095394,
   "end_time": "2019-04-18T13:54:16.807101",
   "environment_variables": {},
   "exception": null,
   "input_path": "timescales.ipynb",
   "output_path": "timescales-8.ipynb",
   "parameters": {
    "traj_num": 8
   },
   "start_time": "2019-04-18T13:52:41.711707",
   "version": "0.19.1"
  }
 },
 "nbformat": 4,
 "nbformat_minor": 2
}